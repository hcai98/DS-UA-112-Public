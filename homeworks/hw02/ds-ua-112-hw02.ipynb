{
 "cells": [
  {
   "cell_type": "markdown",
   "metadata": {
    "nbgrader": {
     "grade": false,
     "grade_id": "intro-hw2",
     "locked": true,
     "schema_version": 2,
     "solution": false
    }
   },
   "source": [
    "# Homework 2: Food Safety \n",
    "## Cleaning and Exploring Data with Pandas\n",
    "## Due Date: Friday 10/04, 11:59 PM\n",
    "\n",
    "**Collaboration Policy**\n",
    "\n",
    "Data science is a collaborative activity. While you may talk with others about\n",
    "the homework, we ask that you **write your solutions individually**. If you do\n",
    "discuss the assignments with others please **include their names** at the top\n",
    "of your notebook.\n",
    "\n",
    "**Submission Instructions**\n",
    "\n",
    "Please save this Jupyter notebook as a PDF and upload it to Gradescope. Additionally, please leave a copy of this assignment in its original name and location in your JupyterHub, such that we can collect the runnable version of the notebook from there.\n",
    "\n",
    "<img src=\"scoreCard.jpg\" width=300 style=\"float:right\">\n",
    "\n",
    "## This assignment\n",
    "\n",
    "In this homework, you will investigate restaurant food safety scores for restaurants in San Francisco. Here is a sample score card for a restaurant. The scores and violation information have been made available by the San Francisco Department of Public Health. We have made these data available to you in `class_share` on JupyterHub along with the link below. The main goal for this assignment is to understand how restaurants are scored. We will walk through the various steps of exploratory data analysis to do this. We will provide comments and insights along the way to give you a sense of how we arrive at each discovery and what next steps it leads to.\n",
    "\n",
    "As we clean and explore these data, you will gain practice with:\n",
    "* Reading simple csv files\n",
    "* Working with data at different levels of granularity\n",
    "* Identifying the type of data collected, missing values, anomalies, etc.\n",
    "* Exploring characteristics and distributions of individual variables\n",
    "\n",
    "## Score breakdown\n",
    "Question | Points\n",
    "--- | ---\n",
    "1a | 1\n",
    "1b | 0\n",
    "1c | 0\n",
    "1d | 3\n",
    "1e | 1\n",
    "2a | 1\n",
    "2b | 2\n",
    "3a | 2\n",
    "3b | 0\n",
    "3c | 2\n",
    "3d | 1\n",
    "3e | 1\n",
    "4a | 2\n",
    "4b | 3\n",
    "5a | 1\n",
    "5b | 1\n",
    "5c | 1\n",
    "6a | 2\n",
    "6b | 3\n",
    "6c | 3\n",
    "7a | 2\n",
    "7b | 2\n",
    "7c | 6\n",
    "7d | 2\n",
    "Total | 45"
   ]
  },
  {
   "cell_type": "markdown",
   "metadata": {
    "nbgrader": {
     "grade": false,
     "grade_id": "getting-started",
     "locked": true,
     "schema_version": 2,
     "solution": false
    }
   },
   "source": [
    "To start the assignment, run the cell below to set up some imports. In many of these assignments (and your future adventures as a data scientist) you will use `os`, `zipfile`, `pandas`, `numpy`, `matplotlib.pyplot`, and `seaborn`. Import each of these libraries `as` their commonly used abbreviations (e.g., `pd`, `np`, `plt`, and `sns`).  \n"
   ]
  },
  {
   "cell_type": "code",
   "execution_count": null,
   "metadata": {
    "nbgrader": {
     "grade": false,
     "grade_id": "import",
     "locked": true,
     "schema_version": 2,
     "solution": false
    }
   },
   "outputs": [],
   "source": [
    "import os\n",
    "import zipfile\n",
    "import pandas as pd\n",
    "import numpy as np\n",
    "import matplotlib.pyplot as plt\n",
    "import seaborn as sns\n",
    "%matplotlib inline\n",
    "sns.set()"
   ]
  },
  {
   "cell_type": "code",
   "execution_count": null,
   "metadata": {
    "ExecuteTime": {
     "end_time": "2018-08-18T01:21:52.935736Z",
     "start_time": "2018-08-18T01:21:52.932610Z"
    },
    "nbgrader": {
     "grade": false,
     "grade_id": "import-test",
     "locked": true,
     "schema_version": 2,
     "solution": false
    }
   },
   "outputs": [],
   "source": [
    "import sys\n",
    "\n",
    "assert 'zipfile'in sys.modules\n",
    "assert 'pandas'in sys.modules and pd\n",
    "assert 'numpy'in sys.modules and np\n",
    "assert 'matplotlib'in sys.modules and plt\n",
    "assert 'seaborn'in sys.modules and sns"
   ]
  },
  {
   "cell_type": "markdown",
   "metadata": {
    "nbgrader": {
     "grade": false,
     "grade_id": "download",
     "locked": true,
     "schema_version": 2,
     "solution": false
    }
   },
   "source": [
    "## Downloading the data\n",
    "\n",
    "For this assignment, we need this data file: https://cims.nyu.edu/~policast/hw2-SFBusinesses.zip\n",
    "\n",
    "We could write a few lines of code that are built to download this specific data file, but it's a better idea to have a general function that we can reuse for all of our assignments. Since this class isn't really about the nuances of the Python file system libraries, we've provided a function for you in ds112_utils.py called `fetch_and_cache` that can download files from the internet.\n",
    "\n",
    "This function has the following arguments:\n",
    "- data_url: the web address to download\n",
    "- file: the file in which to save the results\n",
    "- data_dir: (default=\"data\") the location to save the data\n",
    "- force: if true the file is always re-downloaded \n",
    "\n",
    "The way this function works is that it checks to see if `data_dir/file` already exists. If it does not exist already or if `force=True`, the file at `data_url` is downloaded and placed at `data_dir/file`. The process of storing a data file for reuse later is called caching. If `data_dir/file` already and exists `force=False`, nothing is downloaded, and instead a message is printed letting you know the date of the cached file.\n",
    "\n",
    "The function returns a `pathlib.Path` object representing the file. A `pathlib.Path` is an object that stores filepaths, e.g. `~/Dropbox/ds112/my_chart.png`. "
   ]
  },
  {
   "cell_type": "markdown",
   "metadata": {
    "nbgrader": {
     "grade": false,
     "grade_id": "download-md",
     "locked": true,
     "schema_version": 2,
     "solution": false
    }
   },
   "source": [
    "The code below uses `ds112_utils.py` to download the data from the following URL: https://cims.nyu.edu/~policast/hw2-SFBusinesses.zip"
   ]
  },
  {
   "cell_type": "code",
   "execution_count": null,
   "metadata": {
    "ExecuteTime": {
     "end_time": "2018-08-18T01:21:53.150497Z",
     "start_time": "2018-08-18T01:21:53.141869Z"
    },
    "nbgrader": {
     "grade": false,
     "grade_id": "fetch-and-cache",
     "locked": true,
     "schema_version": 2,
     "solution": false
    }
   },
   "outputs": [],
   "source": [
    "import ds112_utils\n",
    "\n",
    "source_data_url = 'https://cims.nyu.edu/~policast/hw2-SFBusinesses.zip'\n",
    "target_file_name = 'data.zip'\n",
    "data_dir = '.'\n",
    "\n",
    "# Change the force=False -> force=True in case you need to force redownload the data\n",
    "dest_path = ds112_utils.fetch_and_cache(data_url=source_data_url, data_dir=data_dir, file=target_file_name, force=False)"
   ]
  },
  {
   "cell_type": "markdown",
   "metadata": {
    "nbgrader": {
     "grade": false,
     "grade_id": "data-here",
     "locked": true,
     "schema_version": 2,
     "solution": false
    }
   },
   "source": [
    "After running the code, if you look at the directory containing hw02.ipynb, you should see data.zip."
   ]
  },
  {
   "cell_type": "markdown",
   "metadata": {
    "nbgrader": {
     "grade": false,
     "grade_id": "loading-description",
     "locked": true,
     "schema_version": 2,
     "solution": false
    }
   },
   "source": [
    "---\n",
    "## 1: Loading Food Safety Data\n",
    "\n",
    "Alright, great, now we have `data.zip`. We don't have any specific questions yet, so let's focus on understanding the structure of the data. Recall this involves answering questions such as \n",
    "\n",
    "* Is the data in a standard format or encoding?\n",
    "* Is the data organized in records?\n",
    "* What are the fields in each record?\n",
    "\n",
    "Let's start by looking at the contents of the zip file. We could in theory do this by manually opening up the zip file on our computers or using a shell command like `!unzip`, but on this homework we're going to do almost everything in Python for maximum portability and automation.\n",
    "\n",
    "**Goal**: Fill in the code below so that `my_zip` is a `Zipfile.zipfile` object corresponding to the downloaded zip file, and so that `list_names` contains a list of the names of all files inside the downloaded zip file.\n",
    "\n",
    "Creating a `zipfile.Zipfile` object is a good start (the [Python docs](https://docs.python.org/3/library/zipfile.html) have further details). You might also look back at the code from the case study from Demo 3. It's OK to copy and paste code from the Demo 3 file, though you might get more out of this exercise if you type out an answer."
   ]
  },
  {
   "cell_type": "markdown",
   "metadata": {
    "nbgrader": {
     "grade": false,
     "grade_id": "q1a",
     "locked": true,
     "schema_version": 2,
     "solution": false
    }
   },
   "source": [
    "### Question 1a: Looking Inside and Extracting the Zip Files"
   ]
  },
  {
   "cell_type": "code",
   "execution_count": null,
   "metadata": {
    "ExecuteTime": {
     "end_time": "2018-08-18T01:21:53.165555Z",
     "start_time": "2018-08-18T01:21:53.153523Z"
    },
    "nbgrader": {
     "grade": false,
     "grade_id": "loading-answer",
     "locked": false,
     "schema_version": 2,
     "solution": true
    }
   },
   "outputs": [],
   "source": [
    "# Fill in the list_names variable with a list of all the names of the files in the zip file\n",
    "\n",
    "### BEGIN SOLUTION\n",
    "my_zip = ...\n",
    "list_names = ...\n",
    "### END SOLUTION"
   ]
  },
  {
   "cell_type": "markdown",
   "metadata": {
    "nbgrader": {
     "grade": false,
     "grade_id": "cell-f7fd545c03a53304",
     "locked": true,
     "schema_version": 2,
     "solution": false
    }
   },
   "source": [
    "The cell below will test that your code is correct."
   ]
  },
  {
   "cell_type": "code",
   "execution_count": null,
   "metadata": {
    "nbgrader": {
     "grade": true,
     "grade_id": "loading-test",
     "locked": true,
     "points": 1,
     "schema_version": 2,
     "solution": false
    }
   },
   "outputs": [],
   "source": [
    "assert isinstance(my_zip, zipfile.ZipFile)\n",
    "assert isinstance(list_names, list)\n",
    "assert all([isinstance(file, str) for file in list_names]) "
   ]
  },
  {
   "cell_type": "markdown",
   "metadata": {
    "nbgrader": {
     "grade": false,
     "grade_id": "you-are-warned",
     "locked": true,
     "schema_version": 2,
     "solution": false
    }
   },
   "source": [
    "In your answer above, if you see something like `zipfile.ZipFile('data.zip'...`, we suggest changing it to read `zipfile.ZipFile(dest_path...` or alternately `zipfile.ZipFile(target_file_name...`. In general, we **strongly suggest having your filenames hard coded ONLY ONCE** in any given iPython notebook. It is very dangerous to hard code things twice, because if you change one but forget to change the other, you can end up with very hard to find bugs."
   ]
  },
  {
   "cell_type": "markdown",
   "metadata": {
    "nbgrader": {
     "grade": false,
     "grade_id": "loading-size",
     "locked": true,
     "schema_version": 2,
     "solution": false
    }
   },
   "source": [
    "Now display the files' names and their sizes.\n",
    "\n",
    "If you're not sure how to proceed, read about the attributes of a `ZipFile` object in the Python docs linked above.\n",
    "\n",
    "We expect an output that looks something like this:\n",
    "\n",
    "```\n",
    "violations.csv\t3726206\n",
    "\n",
    "businesses.csv\t660231\n",
    "\n",
    "inspections.csv\t466106\n",
    "\n",
    "legend.csv\t120\n",
    "```"
   ]
  },
  {
   "cell_type": "code",
   "execution_count": null,
   "metadata": {
    "ExecuteTime": {
     "end_time": "2018-08-18T01:21:53.187732Z",
     "start_time": "2018-08-18T01:21:53.177203Z"
    },
    "nbgrader": {
     "grade": false,
     "grade_id": "loading-size-answer",
     "locked": false,
     "schema_version": 2,
     "solution": true
    }
   },
   "outputs": [],
   "source": [
    "### BEGIN SOLUTION\n",
    "\n",
    "### END SOLUTION"
   ]
  },
  {
   "cell_type": "markdown",
   "metadata": {
    "nbgrader": {
     "grade": false,
     "grade_id": "keep-running",
     "locked": true,
     "schema_version": 2,
     "solution": false
    }
   },
   "source": [
    "Often when working with zipped data, we'll never unzip the actual zipfile. This saves space on our local computer. However, for this HW, the files are small, so we're just going to unzip everything. This has the added benefit that you can look inside the csv files using a text editor, which might be handy for more deeply understanding what's going on. The cell below will unzip the csv files into a subdirectory called \"data\". Try running the code below."
   ]
  },
  {
   "cell_type": "code",
   "execution_count": null,
   "metadata": {
    "nbgrader": {
     "grade": false,
     "grade_id": "run-dis",
     "locked": true,
     "schema_version": 2,
     "solution": false
    }
   },
   "outputs": [],
   "source": [
    "from pathlib import Path\n",
    "data_dir = Path('data')\n",
    "my_zip.extractall(data_dir)"
   ]
  },
  {
   "cell_type": "markdown",
   "metadata": {
    "nbgrader": {
     "grade": false,
     "grade_id": "open-legend",
     "locked": true,
     "schema_version": 2,
     "solution": false
    }
   },
   "source": [
    "When you ran the code above, nothing gets printed. However, this code should have created a folder called \"data\", and in it should be the four CSV files. Assuming you're using Datahub, use your web browser to verify that these files were created, and try to open up `legend.csv` to see what's inside. You should see something that looks like:\n",
    "\n",
    "    \"Minimum_Score\",\"Maximum_Score\",\"Description\"\n",
    "    0,70,\"Poor\"\n",
    "    71,85,\"Needs Improvement\"\n",
    "    86,90,\"Adequate\"\n",
    "    91,100,\"Good\""
   ]
  },
  {
   "cell_type": "markdown",
   "metadata": {
    "nbgrader": {
     "grade": false,
     "grade_id": "look-inside",
     "locked": true,
     "schema_version": 2,
     "solution": false
    }
   },
   "source": [
    "### Question 1b: Programatically Looking Inside the Files"
   ]
  },
  {
   "cell_type": "markdown",
   "metadata": {
    "nbgrader": {
     "grade": false,
     "grade_id": "q1b",
     "locked": true,
     "schema_version": 2,
     "solution": false
    }
   },
   "source": [
    "What we see when we opened the file above is good news! It looks like this file is indeed a csv file. Let's check the other three files. This time, rather than opening up the files manually, let's use Python to print out the first 5 lines of each. The `ds112_utils` library has a method called `head` that will allow you to retrieve the first N lines of a file as a list. For example `ds112_utils.head('data/legend.csv', 5)` will return the first 5 lines of \"data/legend.csv\". Try using this function to print out the first 5 lines of all four files that we just extracted from the zipfile."
   ]
  },
  {
   "cell_type": "code",
   "execution_count": null,
   "metadata": {
    "nbgrader": {
     "grade": false,
     "grade_id": "q1b-answer",
     "locked": false,
     "schema_version": 2,
     "solution": true
    }
   },
   "outputs": [],
   "source": [
    "### BEGIN SOLUTION\n",
    "\n",
    "### END SOLUTION"
   ]
  },
  {
   "cell_type": "markdown",
   "metadata": {
    "nbgrader": {
     "grade": false,
     "grade_id": "q1c",
     "locked": true,
     "schema_version": 2,
     "solution": false
    }
   },
   "source": [
    "### Question 1c: Reading in the Files\n",
    "\n",
    "Based on the above information, let's attempt to load `businesses.csv`, `inspections.csv`, and `violations.csv` into pandas data frames with the following names: `bus`, `ins`, and `vio` respectively.\n",
    "\n",
    "*Note:* Because of character encoding issues one of the files (`bus`) will require an additional argument `encoding='ISO-8859-1'` when calling `pd.read_csv`. "
   ]
  },
  {
   "cell_type": "code",
   "execution_count": null,
   "metadata": {
    "ExecuteTime": {
     "end_time": "2018-08-18T01:21:53.438446Z",
     "start_time": "2018-08-18T01:21:53.280442Z"
    },
    "nbgrader": {
     "grade": false,
     "grade_id": "q1c-answer",
     "locked": false,
     "schema_version": 2,
     "solution": true
    },
    "tags": [
     "solution"
    ]
   },
   "outputs": [],
   "source": [
    "# path to directory containing data\n",
    "dsDir = Path('data')\n",
    "\n",
    "### BEGIN SOLUTION\n",
    "# Make sure to use these names\n",
    "bus = ...\n",
    "ins = ...\n",
    "vio = ...\n",
    "### END SOLUTION"
   ]
  },
  {
   "cell_type": "markdown",
   "metadata": {
    "nbgrader": {
     "grade": false,
     "grade_id": "try-out",
     "locked": true,
     "schema_version": 2,
     "solution": false
    }
   },
   "source": [
    "Now that you've read in the files, let's try some `pd.DataFrame` methods.\n",
    "Use the `DataFrame.head` command to show the top few lines of the `bus`, `ins`, and `vio` dataframes."
   ]
  },
  {
   "cell_type": "code",
   "execution_count": null,
   "metadata": {
    "nbgrader": {
     "grade": false,
     "grade_id": "bus-head",
     "locked": false,
     "schema_version": 2,
     "solution": true
    }
   },
   "outputs": [],
   "source": [
    "### BEGIN SOLUTION\n",
    "\n",
    "### END SOLUTION"
   ]
  },
  {
   "cell_type": "markdown",
   "metadata": {
    "nbgrader": {
     "grade": false,
     "grade_id": "df-describe",
     "locked": true,
     "schema_version": 2,
     "solution": false
    }
   },
   "source": [
    "The `DataFrame.describe` method can also be handy for computing summaries of various statistics of our dataframes. Try it out with each of our 3 dataframes."
   ]
  },
  {
   "cell_type": "code",
   "execution_count": null,
   "metadata": {
    "nbgrader": {
     "grade": false,
     "grade_id": "bus-describe",
     "locked": false,
     "schema_version": 2,
     "solution": true
    }
   },
   "outputs": [],
   "source": [
    "### BEGIN SOLUTION\n",
    "\n",
    "### END SOLUTION"
   ]
  },
  {
   "cell_type": "markdown",
   "metadata": {
    "nbgrader": {
     "grade": false,
     "grade_id": "q1d",
     "locked": true,
     "schema_version": 2,
     "solution": false
    }
   },
   "source": [
    "### Question 1d: Verify Your Files were Read Correctly"
   ]
  },
  {
   "cell_type": "markdown",
   "metadata": {
    "nbgrader": {
     "grade": false,
     "grade_id": "run-these",
     "locked": true,
     "schema_version": 2,
     "solution": false
    }
   },
   "source": [
    "Now, we perform some sanity checks for you to verify that you loaded the data with the right structure. Run the following cells to load some basic utilities (you do not need to change these at all):"
   ]
  },
  {
   "cell_type": "markdown",
   "metadata": {
    "nbgrader": {
     "grade": false,
     "grade_id": "cell-70c105800589cd29",
     "locked": true,
     "schema_version": 2,
     "solution": false
    }
   },
   "source": [
    "First, we check the basic structure of the data frames you created:"
   ]
  },
  {
   "cell_type": "code",
   "execution_count": null,
   "metadata": {
    "ExecuteTime": {
     "end_time": "2018-08-18T01:21:53.479700Z",
     "start_time": "2018-08-18T01:21:53.468578Z"
    },
    "nbgrader": {
     "grade": true,
     "grade_id": "q1d-test0",
     "locked": true,
     "points": 1,
     "schema_version": 2,
     "solution": false
    }
   },
   "outputs": [],
   "source": [
    "assert all(bus.columns == ['business_id', 'name', 'address', 'city', 'state', 'postal_code',\n",
    "                           'latitude', 'longitude', 'phone_number'])\n",
    "assert 6400 <= len(bus) <= 6420\n",
    "\n",
    "assert all(ins.columns == ['business_id', 'score', 'date', 'type'])\n",
    "assert 14210 <= len(ins) <= 14250\n",
    "\n",
    "assert all(vio.columns == ['business_id', 'date', 'description'])\n",
    "assert 39020 <= len(vio) <= 39080"
   ]
  },
  {
   "cell_type": "markdown",
   "metadata": {
    "nbgrader": {
     "grade": false,
     "grade_id": "summs",
     "locked": true,
     "schema_version": 2,
     "solution": false
    }
   },
   "source": [
    "Next we'll check that the statistics match what we expect. The following are hard-coded statistical summaries of the correct data. ."
   ]
  },
  {
   "cell_type": "code",
   "execution_count": null,
   "metadata": {
    "ExecuteTime": {
     "end_time": "2018-08-18T01:21:53.518953Z",
     "start_time": "2018-08-18T01:21:53.482277Z"
    },
    "nbgrader": {
     "grade": false,
     "grade_id": "cell-dfsumms",
     "locked": true,
     "schema_version": 2,
     "solution": false
    }
   },
   "outputs": [],
   "source": [
    "bus_summary = pd.DataFrame(**{'columns': ['business_id', 'latitude', 'longitude'],\n",
    " 'data': {'business_id': {'50%': 68294.5, 'max': 94574.0, 'min': 19.0},\n",
    "  'latitude': {'50%': 37.780435, 'max': 37.824494, 'min': 37.668824},\n",
    "  'longitude': {'50%': -122.41885450000001,\n",
    "   'max': -122.368257,\n",
    "   'min': -122.510896}},\n",
    " 'index': ['min', '50%', 'max']})\n",
    "\n",
    "ins_summary = pd.DataFrame(**{'columns': ['business_id', 'score'],\n",
    " 'data': {'business_id': {'50%': 61462.0, 'max': 94231.0, 'min': 19.0},\n",
    "  'score': {'50%': 92.0, 'max': 100.0, 'min': 48.0}},\n",
    " 'index': ['min', '50%', 'max']})\n",
    "\n",
    "vio_summary = pd.DataFrame(**{'columns': ['business_id'],\n",
    " 'data': {'business_id': {'50%': 62060.0, 'max': 94231.0, 'min': 19.0}},\n",
    " 'index': ['min', '50%', 'max']})\n",
    "\n",
    "from IPython.display import display\n",
    "\n",
    "print('What we expect from your Businesses dataframe:')\n",
    "display(bus_summary)\n",
    "print('What we expect from your Inspections dataframe:')\n",
    "display(ins_summary)\n",
    "print('What we expect from your Violations dataframe:')\n",
    "display(vio_summary)"
   ]
  },
  {
   "cell_type": "markdown",
   "metadata": {
    "nbgrader": {
     "grade": false,
     "grade_id": "all-close",
     "locked": true,
     "schema_version": 2,
     "solution": false
    }
   },
   "source": [
    "The code below defines a testing function that we'll use to verify that your data has the same statistics as what we expect. Run these cells to define the function. The `df_allclose` function has this name because we are verifying that all of the statistics for your dataframe are close to the expected values. Why not `df_allequal`? It's a bad idea in almost all cases to compare two floating point values like 37.780435, as rounding error can cause spurious failures."
   ]
  },
  {
   "cell_type": "markdown",
   "metadata": {
    "nbgrader": {
     "grade": false,
     "grade_id": "cell-5706da35faa672c3",
     "locked": true,
     "schema_version": 2,
     "solution": false
    }
   },
   "source": [
    "Do not delete the empty cell below!"
   ]
  },
  {
   "cell_type": "code",
   "execution_count": null,
   "metadata": {
    "ExecuteTime": {
     "end_time": "2018-08-18T01:21:53.464919Z",
     "start_time": "2018-08-18T01:21:53.452814Z"
    },
    "nbgrader": {
     "grade": false,
     "grade_id": "cell-dfcompare",
     "locked": true,
     "schema_version": 2,
     "solution": false
    }
   },
   "outputs": [],
   "source": [
    "\"\"\"Run this cell to load this utility comparison function that we will use in various\n",
    "tests below.\n",
    "\n",
    "Do not modify the function in any way.\n",
    "\"\"\"\n",
    "\n",
    "def df_allclose(actual, desired, columns=None, rtol=5e-2):\n",
    "    \"\"\"Compare selected columns of two dataframes on a few summary statistics.\n",
    "    \n",
    "    Compute the min, median and max of the two dataframes on the given columns, and compare\n",
    "    that they match numerically to the given relative tolerance.\n",
    "    \n",
    "    If they don't match, an AssertionError is raised (by `numpy.testing`).\n",
    "    \"\"\"\n",
    "    import numpy.testing as npt\n",
    "    \n",
    "    # summary statistics to compare on\n",
    "    stats = ['min', '50%', 'max']\n",
    "    \n",
    "    # For the desired values, we can provide a full DF with the same structure as\n",
    "    # the actual data, or pre-computed summary statistics.\n",
    "    # We assume a pre-computed summary was provided if columns is None. In that case, \n",
    "    # `desired` *must* have the same structure as the actual's summary\n",
    "    if columns is None:\n",
    "        des = desired\n",
    "        columns = desired.columns\n",
    "    else:\n",
    "        des = desired[columns].describe().loc[stats]\n",
    "\n",
    "    # Extract summary stats from actual DF\n",
    "    act = actual[columns].describe().loc[stats]\n",
    "\n",
    "    npt.assert_allclose(act, des, rtol)"
   ]
  },
  {
   "cell_type": "markdown",
   "metadata": {
    "nbgrader": {
     "grade": false,
     "grade_id": "cell-704124b2513d9286",
     "locked": true,
     "schema_version": 2,
     "solution": false
    }
   },
   "source": [
    "Now let's run the automated tests. If your dataframes are correct, then the following cell will seem to do nothing, which is a good thing!"
   ]
  },
  {
   "cell_type": "code",
   "execution_count": null,
   "metadata": {
    "nbgrader": {
     "grade": true,
     "grade_id": "cell-2ca9465c00a531db",
     "locked": true,
     "points": 1,
     "schema_version": 2,
     "solution": false
    }
   },
   "outputs": [],
   "source": [
    "# These tests will raise an exception if your variables don't match numerically the correct\n",
    "# answers in the main summary statistics shown above.\n",
    "df_allclose(bus, bus_summary)\n",
    "df_allclose(ins, ins_summary)\n",
    "df_allclose(vio, vio_summary)"
   ]
  },
  {
   "cell_type": "markdown",
   "metadata": {
    "nbgrader": {
     "grade": false,
     "grade_id": "q1e",
     "locked": true,
     "schema_version": 2,
     "solution": false
    }
   },
   "source": [
    "### Question 1e: Identifying Issues with the Data"
   ]
  },
  {
   "cell_type": "markdown",
   "metadata": {
    "nbgrader": {
     "grade": false,
     "grade_id": "cell-use-head",
     "locked": true,
     "schema_version": 2,
     "solution": false
    }
   },
   "source": [
    "Use the `head` command on your three files again. This time, describe at least one potential problem with the data you see. Consider issues with missing values and bad data.  "
   ]
  },
  {
   "cell_type": "code",
   "execution_count": null,
   "metadata": {
    "ExecuteTime": {
     "end_time": "2018-08-18T01:21:53.925582Z",
     "start_time": "2018-08-18T01:21:53.918456Z"
    },
    "nbgrader": {
     "grade": true,
     "grade_id": "q1e-answer",
     "locked": false,
     "points": 1,
     "schema_version": 2,
     "solution": true
    },
    "tags": [
     "student",
     "written"
    ]
   },
   "outputs": [],
   "source": [
    "### BEGIN SOLUTION\n",
    "q1e_answer = r\"\"\"\n",
    "\n",
    "Put your answer here, replacing this text.\n",
    "\n",
    "\"\"\"\n",
    "### END SOLUTION\n",
    "\n",
    "print(q1e_answer)"
   ]
  },
  {
   "cell_type": "markdown",
   "metadata": {
    "nbgrader": {
     "grade": false,
     "grade_id": "intro-explo",
     "locked": true,
     "schema_version": 2,
     "solution": false
    }
   },
   "source": [
    "We will explore each file in turn, including determining its granularity and primary keys and exploring many of the variables indivdually. Let's begin with the businesses file, which has been read into the `bus` dataframe."
   ]
  },
  {
   "cell_type": "markdown",
   "metadata": {
    "nbgrader": {
     "grade": false,
     "grade_id": "business-data",
     "locked": true,
     "schema_version": 2,
     "solution": false
    }
   },
   "source": [
    "---\n",
    "## 2: Examining the Business data\n",
    "\n",
    "From its name alone, we expect the `businesses.csv` file to contain information about the restaurants. Let's investigate the granularity of this dataset.\n",
    "\n",
    "**Important note: From now on, the local autograder tests will not be comprehensive. You can pass the automated tests in your notebook but still have imperfect answers.** Please be sure to check your results carefully."
   ]
  },
  {
   "cell_type": "markdown",
   "metadata": {
    "nbgrader": {
     "grade": false,
     "grade_id": "q2a",
     "locked": true,
     "schema_version": 2,
     "solution": false
    }
   },
   "source": [
    "### Question 2a\n",
    "\n",
    "Examining the entries in `bus`, is the `business_id` unique for each record? Your code should compute the answer, i.e. don't just hard code \"True\".\n",
    "\n",
    "Hint: use `value_counts()` or `unique()` to determine if the `business_id` series has any duplicates."
   ]
  },
  {
   "cell_type": "code",
   "execution_count": null,
   "metadata": {
    "ExecuteTime": {
     "end_time": "2018-08-18T01:21:53.936572Z",
     "start_time": "2018-08-18T01:21:53.927344Z"
    },
    "nbgrader": {
     "grade": false,
     "grade_id": "q2a-answer",
     "locked": false,
     "schema_version": 2,
     "solution": true
    },
    "tags": [
     "solution"
    ]
   },
   "outputs": [],
   "source": [
    "### BEGIN SOLUTION\n",
    "is_business_id_unique = ... # put your final answer True/False here\n",
    "### END SOLUTION"
   ]
  },
  {
   "cell_type": "code",
   "execution_count": null,
   "metadata": {
    "ExecuteTime": {
     "end_time": "2018-08-18T01:21:53.946600Z",
     "start_time": "2018-08-18T01:21:53.938861Z"
    },
    "nbgrader": {
     "grade": true,
     "grade_id": "q2a-tests",
     "locked": true,
     "points": 1,
     "schema_version": 2,
     "solution": false
    }
   },
   "outputs": [],
   "source": [
    "assert is_business_id_unique"
   ]
  },
  {
   "cell_type": "markdown",
   "metadata": {
    "nbgrader": {
     "grade": false,
     "grade_id": "q2b",
     "locked": true,
     "schema_version": 2,
     "solution": false
    },
    "tags": [
     "written"
    ]
   },
   "source": [
    "### Question 2b\n",
    "\n",
    "With this information, you can address the question of granularity. Answer the questions below.\n",
    "\n",
    "1. How many records are there?\n",
    "1. What does each record represent (e.g., a store, a chain, a transaction)?  \n",
    "1. What is the primary key?\n",
    "\n",
    "Please write your answer in the `q2b_answer` variable. You may create new cells to run code as long as you don't delete the cell below."
   ]
  },
  {
   "cell_type": "code",
   "execution_count": null,
   "metadata": {
    "ExecuteTime": {
     "end_time": "2018-08-18T01:21:53.987051Z",
     "start_time": "2018-08-18T01:21:53.949344Z"
    },
    "nbgrader": {
     "grade": false,
     "grade_id": "cell-d5e152552a41e14d",
     "locked": false,
     "schema_version": 2,
     "solution": true
    },
    "tags": [
     "student"
    ]
   },
   "outputs": [],
   "source": [
    "# use this cell for scratch work\n",
    "# consider using groupby or value_counts() on the 'name' or 'business_id' \n",
    "\n",
    "### BEGIN SOLUTION\n",
    "\n",
    "\n",
    "### END SOLUTION"
   ]
  },
  {
   "cell_type": "code",
   "execution_count": null,
   "metadata": {
    "ExecuteTime": {
     "end_time": "2018-08-18T01:21:53.993138Z",
     "start_time": "2018-08-18T01:21:53.989070Z"
    },
    "nbgrader": {
     "grade": true,
     "grade_id": "q2b-answer",
     "locked": false,
     "points": 2,
     "schema_version": 2,
     "solution": true
    },
    "tags": [
     "student",
     "written"
    ]
   },
   "outputs": [],
   "source": [
    "q2b_answer = r\"\"\"\n",
    "\n",
    "Put your answer here, replacing this text.\n",
    "\n",
    "\"\"\"\n",
    "\n",
    "### BEGIN SOLUTION\n",
    "q2b_answer = r\"\"\"\n",
    "\n",
    "\"\"\"\n",
    "### END SOLUTION\n",
    "\n",
    "print(q2b_answer)"
   ]
  },
  {
   "cell_type": "markdown",
   "metadata": {
    "nbgrader": {
     "grade": false,
     "grade_id": "q3a",
     "locked": true,
     "schema_version": 2,
     "solution": false
    },
    "tags": [
     "written"
    ]
   },
   "source": [
    "---\n",
    "## 3: Zip code\n",
    "\n",
    "Next, let's  explore some of the variables in the business table. We begin by examining the postal code.\n",
    "\n",
    "### Question 3a\n",
    "\n",
    "What kind of values are in the `postal code` column in the `bus` data frame?  \n",
    "1. Are zip codes quantitative or qualitative? If qualitative, is it ordinal or nominal? \n",
    "1. How are the zip code values encoded in python: ints, floats, strings, booleans ...?\n",
    "\n",
    "To answer the second question you might want to examine a particular entry using the Python `type` command."
   ]
  },
  {
   "cell_type": "code",
   "execution_count": null,
   "metadata": {
    "ExecuteTime": {
     "end_time": "2018-08-18T01:21:54.015633Z",
     "start_time": "2018-08-18T01:21:54.007576Z"
    },
    "nbgrader": {
     "grade": true,
     "grade_id": "q3a-answer",
     "locked": false,
     "points": 2,
     "schema_version": 2,
     "solution": true
    },
    "tags": [
     "student",
     "written"
    ]
   },
   "outputs": [],
   "source": [
    "# Use this cell for your explorations.\n",
    "\n",
    "### BEGIN SOLUTION\n",
    "q3a_answer = r\"\"\"\n",
    "\n",
    "Put your answer here, replacing this text. \n",
    "\n",
    "\"\"\"\n",
    "### END SOLUTION\n",
    "\n",
    "print(q3a_answer)"
   ]
  },
  {
   "cell_type": "markdown",
   "metadata": {
    "nbgrader": {
     "grade": false,
     "grade_id": "q3b",
     "locked": true,
     "schema_version": 2,
     "solution": false
    }
   },
   "source": [
    "### Question 3b\n",
    "\n",
    "To explore the zip code values, it makes sense to examine counts, i.e., the number of records  that have the same zip code value. This is essentially answering the question: How many restaurants are in each zip code? \n"
   ]
  },
  {
   "cell_type": "markdown",
   "metadata": {
    "nbgrader": {
     "grade": false,
     "grade_id": "cell-a4c4a09f1ecf2f4b",
     "locked": true,
     "schema_version": 2,
     "solution": false
    }
   },
   "source": [
    "In the cell below, create a series where the index is the postal code and the value is the number of businesses in that postal code. For example, in 94110 (hey that's my old zip code!), there should be 596 businesses. Your series should be in descending order, i.e. 94110 should be at the top. \n",
    "\n",
    "For this answer, use `groupby`, `size`, and `sort_values`."
   ]
  },
  {
   "cell_type": "code",
   "execution_count": null,
   "metadata": {
    "nbgrader": {
     "grade": false,
     "grade_id": "cell-d2151d673e6c36a1",
     "locked": false,
     "schema_version": 2,
     "solution": true
    }
   },
   "outputs": [],
   "source": [
    "### BEGIN SOLUTION\n",
    "zip_counts = ...\n",
    "### END SOLUTION"
   ]
  },
  {
   "cell_type": "markdown",
   "metadata": {
    "nbgrader": {
     "grade": false,
     "grade_id": "cell-bf6a7fc2384bf533",
     "locked": true,
     "schema_version": 2,
     "solution": false
    }
   },
   "source": [
    "Unless you know pandas well already, your answer probably has one subtle flaw in it: it fails to take into account businesses with missing zip codes. Unfortunately, missing data is just a reality when we're working with real data."
   ]
  },
  {
   "cell_type": "markdown",
   "metadata": {
    "nbgrader": {
     "grade": false,
     "grade_id": "cell-5ee47d11c7068c13",
     "locked": true,
     "schema_version": 2,
     "solution": false
    }
   },
   "source": [
    "There are a couple of ways to include null postal codes in the zip_counts series above. One approach is to use `fillna`, which will replace all null (a.k.a. NaN) values with a string of our choosing. In the example below, I picked \"?????\". When you run the code below, you should see that there are 240 businesses with missing zip code."
   ]
  },
  {
   "cell_type": "code",
   "execution_count": null,
   "metadata": {
    "nbgrader": {
     "grade": false,
     "grade_id": "cell-e7169177fd00d200",
     "locked": true,
     "schema_version": 2,
     "solution": false
    }
   },
   "outputs": [],
   "source": [
    "zip_counts = bus.fillna(\"?????\").groupby(\"postal_code\").size().sort_values(ascending=False)\n",
    "zip_counts.head(15)"
   ]
  },
  {
   "cell_type": "markdown",
   "metadata": {
    "nbgrader": {
     "grade": false,
     "grade_id": "cell-3d7c3379cb7dc256",
     "locked": true,
     "schema_version": 2,
     "solution": false
    }
   },
   "source": [
    "An alternate approach is to use the DataFrame `value_counts` method with the optional argument `dropna=False`, which will ensure that null values are counted. In this case, the index will be `NaN` for the row corresponding to a null postal code."
   ]
  },
  {
   "cell_type": "code",
   "execution_count": null,
   "metadata": {
    "nbgrader": {
     "grade": false,
     "grade_id": "cell-28eecc6664aa9bf2",
     "locked": true,
     "schema_version": 2,
     "solution": false
    }
   },
   "outputs": [],
   "source": [
    "bus[\"postal_code\"].value_counts(dropna=False).sort_values(ascending = False).head(15)"
   ]
  },
  {
   "cell_type": "markdown",
   "metadata": {
    "nbgrader": {
     "grade": false,
     "grade_id": "zipcode-details",
     "locked": true,
     "schema_version": 2,
     "solution": false
    }
   },
   "source": [
    "Missing zip codes aren't our only problem. There is also some bad data where the postal code got messed up, e.g., there are 3 'Ca' and 3 'CA' values. Additionally, there are some extended postal codes that are 9 digits long, rather than the typical 5 digits.\n",
    "\n",
    "Let's clean up the extended zip codes by dropping the digits beyond the first 5. Rather than deleting replacing the old values in the `postal_code` columnm, we'll instead create a new column called `postal_code_5`.\n",
    "\n",
    "The reason we're making a new column is because it's typically good practice to keep the original values when we are manipulating data. This makes it easier to recover from mistakes, and also makes it more clear that we are not working with the original raw data."
   ]
  },
  {
   "cell_type": "code",
   "execution_count": null,
   "metadata": {
    "ExecuteTime": {
     "end_time": "2018-08-18T01:21:54.070634Z",
     "start_time": "2018-08-18T01:21:54.061377Z"
    },
    "nbgrader": {
     "grade": false,
     "grade_id": "run-me",
     "locked": true,
     "schema_version": 2,
     "solution": false
    },
    "scrolled": true
   },
   "outputs": [],
   "source": [
    "# Run me\n",
    "bus['postal_code_5'] = bus['postal_code'].str[:5]\n",
    "bus"
   ]
  },
  {
   "cell_type": "markdown",
   "metadata": {
    "nbgrader": {
     "grade": false,
     "grade_id": "q3c",
     "locked": true,
     "schema_version": 2,
     "solution": false
    },
    "tags": [
     "written"
    ]
   },
   "source": [
    "### Question 3c : A Closer Look at Missing Zip Codes\n",
    "\n",
    "Let's look more closely at businesses with missing zip codes. We'll see that many zip codes are missing for a good reason. Examine the businesses with missing zipcode values.  Pay attention to their addresses.  Do you notice anything interesting? You might need to look at a bunch of entries, i.e. don't just look at the first five.\n",
    "\n",
    "*Hint: You can use the series `isnull` method to create a binary array, which can then be used to show only rows of the dataframe that contain null values.*"
   ]
  },
  {
   "cell_type": "code",
   "execution_count": null,
   "metadata": {
    "ExecuteTime": {
     "end_time": "2018-08-18T01:21:54.079907Z",
     "start_time": "2018-08-18T01:21:54.072706Z"
    },
    "nbgrader": {
     "grade": true,
     "grade_id": "q3c-answer",
     "locked": false,
     "points": 2,
     "schema_version": 2,
     "solution": true
    },
    "tags": [
     "student",
     "written"
    ]
   },
   "outputs": [],
   "source": [
    "# Use this cell for your explorations.\n",
    "\n",
    "### BEGIN SOLUTION\n",
    "q3c_answer = r\"\"\"\n",
    "\n",
    "Put your answer here, replacing this text.\n",
    "\n",
    "\"\"\"\n",
    "### END SOLUTION\n",
    "\n",
    "print(q3c_answer)"
   ]
  },
  {
   "cell_type": "markdown",
   "metadata": {
    "nbgrader": {
     "grade": false,
     "grade_id": "q3d",
     "locked": true,
     "schema_version": 2,
     "solution": false
    }
   },
   "source": [
    "### Question 3d: Incorrect Zip Codes"
   ]
  },
  {
   "cell_type": "markdown",
   "metadata": {
    "nbgrader": {
     "grade": false,
     "grade_id": "cell-e48949d5308e5f4b",
     "locked": true,
     "schema_version": 2,
     "solution": false
    }
   },
   "source": [
    "This dataset is supposed to be only about San Francisco, so let's set up a list of all San Francisco zip codes."
   ]
  },
  {
   "cell_type": "code",
   "execution_count": null,
   "metadata": {
    "nbgrader": {
     "grade": false,
     "grade_id": "cell-6e48f854beb16cbb",
     "locked": true,
     "schema_version": 2,
     "solution": false
    }
   },
   "outputs": [],
   "source": [
    "all_sf_zip_codes = [\"94102\", \"94103\", \"94104\", \"94105\", \"94107\", \"94108\", \"94109\", \"94110\", \"94111\", \"94112\", \"94114\", \"94115\", \"94116\", \"94117\", \"94118\", \"94119\", \"94120\", \"94121\", \"94122\", \"94123\", \"94124\", \"94125\", \"94126\", \"94127\", \"94128\", \"94129\", \"94130\", \"94131\", \"94132\", \"94133\", \"94134\", \"94137\", \"94139\", \"94140\", \"94141\", \"94142\", \"94143\", \"94144\", \"94145\", \"94146\", \"94147\", \"94151\", \"94158\", \"94159\", \"94160\", \"94161\", \"94163\", \"94164\", \"94172\", \"94177\", \"94188\"]"
   ]
  },
  {
   "cell_type": "markdown",
   "metadata": {
    "nbgrader": {
     "grade": false,
     "grade_id": "cell-57244ec02a330146",
     "locked": true,
     "schema_version": 2,
     "solution": false
    }
   },
   "source": [
    "Set `weird_zip_code_businesses` equal to a new dataframe showing only rows corresponding to zip codes that are not valid AND not NaN. Use the `postal_code_5` field.\n",
    "\n",
    "*Hint: The `~` operator inverts a boolean array. Use in conjunction with `isin`.*\n",
    "\n",
    "*Hint: The `notnull` method can be used to form a useful boolean array for this problem.*\n",
    "\n"
   ]
  },
  {
   "cell_type": "code",
   "execution_count": null,
   "metadata": {
    "nbgrader": {
     "grade": false,
     "grade_id": "cell-c5f486cab68d56a0",
     "locked": false,
     "schema_version": 2,
     "solution": true
    },
    "scrolled": true
   },
   "outputs": [],
   "source": [
    "### BEGIN SOLUTION\n",
    "weird_zip_code_businesses = ...\n",
    "### END SOLUTION"
   ]
  },
  {
   "cell_type": "code",
   "execution_count": null,
   "metadata": {
    "nbgrader": {
     "grade": false,
     "grade_id": "cell-9fa715b199881548",
     "locked": true,
     "schema_version": 2,
     "solution": false
    }
   },
   "outputs": [],
   "source": [
    "weird_zip_code_businesses"
   ]
  },
  {
   "cell_type": "markdown",
   "metadata": {
    "nbgrader": {
     "grade": false,
     "grade_id": "cell-98f842a32db99f23",
     "locked": true,
     "schema_version": 2,
     "solution": false
    }
   },
   "source": [
    "If we were doing very serious data analysis, we might indivdually look up every one of these strange records. Let's focus on just two of them: zip codes 94545 and 94602. Use a search engine to identify what cities these zip codes appear in. Try to explain why you think these two zip codes appear in your dataframe. For the one with zip code 94602, try searching for the business name and locate its real address."
   ]
  },
  {
   "cell_type": "code",
   "execution_count": null,
   "metadata": {
    "nbgrader": {
     "grade": true,
     "grade_id": "cell-56691be6d6a68838",
     "locked": false,
     "points": 1,
     "schema_version": 2,
     "solution": true
    }
   },
   "outputs": [],
   "source": [
    "# Use this cell for your explorations.\n",
    "\n",
    "### BEGIN SOLUTION HERE\n",
    "\n",
    "bus.set_index('postal_code_5').loc[[\"94545\", \"94602\"]]\n",
    "\n",
    "q3d_answer = r\"\"\"\n",
    "\n",
    "Put your answer here, replacing this text. \n",
    "\n",
    "94545 - ...\n",
    "\n",
    "94602 - ...\n",
    "\n",
    "\"\"\"\n",
    "\n",
    "### END SOLUTION HERE\n",
    "\n",
    "print(q3d_answer)"
   ]
  },
  {
   "cell_type": "markdown",
   "metadata": {
    "nbgrader": {
     "grade": false,
     "grade_id": "cell-92663ead60440a42",
     "locked": true,
     "schema_version": 2,
     "solution": false
    }
   },
   "source": [
    "### Question 3e\n",
    "\n",
    "We often want to clean the data to improve our analysis. This cleaning might include changing values for a variable or dropping records.\n",
    "\n",
    "Let's correct 94602 to the more likely value based on your analysis.  Let's modify the derived field `zip_code` using `bus['zip_code'].str.replace` to replace 94602 with the correct value based on this business's real address that you learn by using a search engine."
   ]
  },
  {
   "cell_type": "code",
   "execution_count": null,
   "metadata": {
    "nbgrader": {
     "grade": false,
     "grade_id": "cell-2128312ebada9d3c",
     "locked": false,
     "schema_version": 2,
     "solution": true
    }
   },
   "outputs": [],
   "source": [
    "### BEGIN SOLUTION\n",
    "# Replace the 94602 with 94102\n",
    "# WARNING: Be careful when uncommenting the line below, it will set the entire column to NaN unless you \n",
    "# put something to the right of the ellipses.\n",
    "# bus['postal_code_5'] = ... \n",
    "### END SOLUTION"
   ]
  },
  {
   "cell_type": "code",
   "execution_count": null,
   "metadata": {
    "nbgrader": {
     "grade": true,
     "grade_id": "cell-49a20368350c8866",
     "locked": true,
     "points": 1,
     "schema_version": 2,
     "solution": false
    }
   },
   "outputs": [],
   "source": [
    "assert \"94602\" not in bus['postal_code_5']"
   ]
  },
  {
   "cell_type": "markdown",
   "metadata": {
    "nbgrader": {
     "grade": false,
     "grade_id": "q4a",
     "locked": true,
     "schema_version": 2,
     "solution": false
    }
   },
   "source": [
    "---\n",
    "## 4: Latitude and Longitude\n",
    "\n",
    "Let's also consider latitude and longitude values and get a sense of how many are missing.\n",
    "\n",
    "### Question 4a\n",
    "\n",
    "How many businesses are missing longitude values?\n",
    "\n",
    "*Hint: Use isnull.*"
   ]
  },
  {
   "cell_type": "code",
   "execution_count": null,
   "metadata": {
    "ExecuteTime": {
     "end_time": "2018-08-18T01:21:54.132374Z",
     "start_time": "2018-08-18T01:21:54.123081Z"
    },
    "nbgrader": {
     "grade": false,
     "grade_id": "q4a-answer",
     "locked": false,
     "schema_version": 2,
     "solution": true
    },
    "tags": [
     "student"
    ]
   },
   "outputs": [],
   "source": [
    "### BEGIN SOLUTION\n",
    "missing_latlongs = ...\n",
    "### END SOLUTION"
   ]
  },
  {
   "cell_type": "markdown",
   "metadata": {
    "nbgrader": {
     "grade": false,
     "grade_id": "cell-d5483608cecb8855",
     "locked": true,
     "schema_version": 2,
     "solution": false
    }
   },
   "source": [
    "Do not delete the empty cell below!"
   ]
  },
  {
   "cell_type": "code",
   "execution_count": null,
   "metadata": {
    "ExecuteTime": {
     "end_time": "2018-08-18T01:21:54.142865Z",
     "start_time": "2018-08-18T01:21:54.134470Z"
    },
    "nbgrader": {
     "grade": true,
     "grade_id": "q4a-tests",
     "locked": true,
     "points": 1,
     "schema_version": 2,
     "solution": false
    },
    "tags": [
     "solution"
    ]
   },
   "outputs": [],
   "source": [
    "### BEGIN HIDDEN TESTS\n",
    "assert missing_latlongs == sum(bus['longitude'].isnull())\n",
    "### END HIDDEN TESTS"
   ]
  },
  {
   "cell_type": "markdown",
   "metadata": {
    "nbgrader": {
     "grade": false,
     "grade_id": "annex-zip",
     "locked": true,
     "schema_version": 2,
     "solution": false
    }
   },
   "source": [
    "As a somewhat contrived exercise in data manipulation, let's try to identify which zip codes are missing the most longitude values."
   ]
  },
  {
   "cell_type": "markdown",
   "metadata": {
    "nbgrader": {
     "grade": false,
     "grade_id": "cell-22502e4e3bc97a90",
     "locked": true,
     "schema_version": 2,
     "solution": false
    }
   },
   "source": [
    "Throughout problems 4a and 4b, let's focus on only the \"dense\" zip codes of the city of San Francisco, listed below as `sf_dense_zip`."
   ]
  },
  {
   "cell_type": "code",
   "execution_count": null,
   "metadata": {
    "ExecuteTime": {
     "end_time": "2018-08-18T01:21:54.153495Z",
     "start_time": "2018-08-18T01:21:54.145177Z"
    },
    "nbgrader": {
     "grade": false,
     "grade_id": "annex-zip-codes",
     "locked": true,
     "schema_version": 2,
     "solution": false
    }
   },
   "outputs": [],
   "source": [
    "sf_dense_zip = [\"94102\", \"94103\", \"94104\", \"94105\", \"94107\", \"94108\",\n",
    "            \"94109\", \"94110\", \"94111\", \"94112\", \"94114\", \"94115\",\n",
    "            \"94116\", \"94117\", \"94118\", \"94121\", \"94122\", \"94123\", \n",
    "            \"94124\", \"94127\", \"94131\", \"94132\", \"94133\", \"94134\"]"
   ]
  },
  {
   "cell_type": "markdown",
   "metadata": {
    "nbgrader": {
     "grade": false,
     "grade_id": "cell-04deef019a758f65",
     "locked": true,
     "schema_version": 2,
     "solution": false
    }
   },
   "source": [
    "In the cell below, create a series where the index is `postal_code_5`, and the value is the number of businesses with missing longitudes in that zip code. Your series should be in descending order. Only businesses from `sf_dense_zip` should be included.\n",
    "\n",
    "For example, 94110 should be at the top of the series, with the value 294.\n",
    "\n",
    "*Hint: Start by making a new dataframe called `bus_sf` that only has businesses from `sf_dense_zip`.\n",
    "\n",
    "*Hint: Create a custom function to compute the number of null entries in a series, and use this function with the `agg` method.*"
   ]
  },
  {
   "cell_type": "code",
   "execution_count": null,
   "metadata": {
    "nbgrader": {
     "grade": false,
     "grade_id": "cell-acf341c6f3ee2e77",
     "locked": false,
     "schema_version": 2,
     "solution": true
    }
   },
   "outputs": [],
   "source": [
    "### BEGIN SOLUTION\n",
    "bus_sf = ...\n",
    "num_missing_in_each_zip = ...\n",
    "### END SOLUTION"
   ]
  },
  {
   "cell_type": "markdown",
   "metadata": {
    "nbgrader": {
     "grade": false,
     "grade_id": "q4b",
     "locked": true,
     "schema_version": 2,
     "solution": false
    }
   },
   "source": [
    "### Question 4b\n",
    "\n",
    "In question 4a, we counted the number of null values per zip code. Let's now count the proportion of null values.\n",
    "\n",
    "Create a new dataframe of counts of the null and proportion of null values, storing the result in `fraction_missing_df`. It should have an index called `postal_code_5` and should also have 3 columns:\n",
    "\n",
    "1. `null count`: The number of missing values for the zip code.\n",
    "2. `not null count`: The number of present values for the zip code.\n",
    "3. `fraction null`: The fraction of values that are null for the zip code.\n",
    "\n",
    "Your data frame should be sorted by the fraction null in descending order.\n",
    "\n",
    "Recommended approach: Build three series with the appropriate names and data and then combine them into a dataframe. This will require some new syntax you may not have seen. You already have code from question 4a that computes the `null count` series.\n",
    "\n",
    "To pursue this recommended approach, you might find these two functions useful:\n",
    "\n",
    "* `rename`: Renames the values of a series.\n",
    "* `pd.concat`: Can be used to combine a list of Series into a dataframe. Example: `pd.concat([s1, s2, s3], axis=1)` will combine series 1, 2, and 3 into a dataframe.\n",
    "\n",
    "*Hint: You can use the divison operator to compute the ratio of two series.*\n",
    "\n",
    "*Hint: The ~ operator can invert a binary array. Or alternately, the `notnull` method can be used to create a binary array from a series.*\n",
    "\n",
    "*Note: An alternate approach is to create three aggregation functions as pass them in a list to the `agg` function.*"
   ]
  },
  {
   "cell_type": "code",
   "execution_count": null,
   "metadata": {
    "nbgrader": {
     "grade": false,
     "grade_id": "q4b-answer",
     "locked": false,
     "schema_version": 2,
     "solution": true
    }
   },
   "outputs": [],
   "source": [
    "### BEGIN SOLUTION\n",
    "\n",
    "fraction_missing_df = ...\n",
    "\n",
    "### END SOLUTION"
   ]
  },
  {
   "cell_type": "markdown",
   "metadata": {
    "nbgrader": {
     "grade": false,
     "grade_id": "summary-business",
     "locked": true,
     "schema_version": 2,
     "solution": false
    }
   },
   "source": [
    "## Summary of the Business Data\n",
    "\n",
    "Before we move on to explore the other data, let's take stock of what we have learned and the implications of our findings on future analysis. \n",
    "\n",
    "* We found that the business id is unique across records and so we may be able to use it as a key in joining tables. \n",
    "* We found that there are many errors with the zip codes. As a result, we may want to drop the records with zip codes outside of San Francisco or to treat them differently. For some of the bad values, we could take the time to look up the restaurant address online and fix these errors.   \n",
    "* We found that there are a huge number of missing longitude (and latitude) values. Fixing would require a lot of work, but could in principle be automated for business with well formed addresses. "
   ]
  },
  {
   "cell_type": "markdown",
   "metadata": {
    "nbgrader": {
     "grade": false,
     "grade_id": "q5a",
     "locked": true,
     "schema_version": 2,
     "solution": false
    }
   },
   "source": [
    "---\n",
    "## 5: Investigate the Inspection Data\n",
    "\n",
    "Let's now turn to the inspection DataFrame. Earlier, we found that `ins` has 4 columns named `business_id`, `score`, `date` and `type`.  In this section, we determine the granularity of `ins` and investigate the kinds of information provided for the inspections. "
   ]
  },
  {
   "cell_type": "markdown",
   "metadata": {
    "nbgrader": {
     "grade": false,
     "grade_id": "cell-174ed23c543ad9da",
     "locked": true,
     "schema_version": 2,
     "solution": false
    }
   },
   "source": [
    "Let's start by looking again at the first 5 rows of `ins` to see what we're working with."
   ]
  },
  {
   "cell_type": "code",
   "execution_count": null,
   "metadata": {
    "nbgrader": {
     "grade": false,
     "grade_id": "cell-f0fbe724a2783e33",
     "locked": true,
     "schema_version": 2,
     "solution": false
    }
   },
   "outputs": [],
   "source": [
    "ins.head(5)"
   ]
  },
  {
   "cell_type": "markdown",
   "metadata": {
    "nbgrader": {
     "grade": false,
     "grade_id": "cell-84f5d3684c7b6a66",
     "locked": true,
     "schema_version": 2,
     "solution": false
    }
   },
   "source": [
    "### Question 5a\n",
    "From calling `head`, we know that each row in this table corresponds to the inspection of a single business. Let's get a sense of the total number of inspections conducted, as well as the total number of unique businesses that occur in the dataset."
   ]
  },
  {
   "cell_type": "code",
   "execution_count": null,
   "metadata": {
    "ExecuteTime": {
     "end_time": "2018-08-18T01:21:54.210570Z",
     "start_time": "2018-08-18T01:21:54.206688Z"
    },
    "nbgrader": {
     "grade": false,
     "grade_id": "q5a-answer",
     "locked": false,
     "schema_version": 2,
     "solution": true
    },
    "tags": [
     "student"
    ]
   },
   "outputs": [],
   "source": [
    "### BEGIN SOLUTION\n",
    "# The number of rows in ins\n",
    "rows_in_table = ...\n",
    "\n",
    "# The number of unique business IDs in ins.\n",
    "unique_ins_ids = ...\n",
    "### END SOLUTION\n",
    "print(rows_in_table, unique_ins_ids, rows_in_table / unique_ins_ids)"
   ]
  },
  {
   "cell_type": "markdown",
   "metadata": {
    "nbgrader": {
     "grade": false,
     "grade_id": "cell-160dfa10f86e78ff",
     "locked": true,
     "schema_version": 2,
     "solution": false
    }
   },
   "source": [
    "As you should have seen above, we have an average of roughly 3 inspections per business."
   ]
  },
  {
   "cell_type": "markdown",
   "metadata": {
    "nbgrader": {
     "grade": false,
     "grade_id": "q5b",
     "locked": true,
     "schema_version": 2,
     "solution": false
    }
   },
   "source": [
    "### Question 5b\n",
    "\n",
    "Next, we examine the Series in the `ins` dataframe called `type`. From examining the first few rows of `ins`, we see that `type` is a string and one of its values is 'routine', presumably for a routine inspection. What values does `type` take on? How many occurrences of each value is in the DataFrame? What are the implications for further analysis? For this problem, you need only fill in the string with a description; there's no specific dataframe or series that you need to create."
   ]
  },
  {
   "cell_type": "code",
   "execution_count": null,
   "metadata": {
    "ExecuteTime": {
     "end_time": "2018-08-18T01:21:54.233970Z",
     "start_time": "2018-08-18T01:21:54.222908Z"
    },
    "nbgrader": {
     "grade": true,
     "grade_id": "q5b-answer",
     "locked": false,
     "points": 1,
     "schema_version": 2,
     "solution": true
    },
    "scrolled": true,
    "tags": [
     "student",
     "written"
    ]
   },
   "outputs": [],
   "source": [
    "### BEGIN SOLUTION\n",
    "q5b_answer = r\"\"\"\n",
    "\n",
    "Put your answer here, replacing this text.\n",
    "\n",
    "\"\"\"\n",
    "### END SOLUTION\n",
    "\n",
    "print(q5b_answer)"
   ]
  },
  {
   "cell_type": "markdown",
   "metadata": {
    "nbgrader": {
     "grade": false,
     "grade_id": "q5c",
     "locked": true,
     "schema_version": 2,
     "solution": false
    }
   },
   "source": [
    "### Question 5c\n",
    "\n",
    "In this question, we're going to try to figure out what years the data spans. Unfortunately, the dates in our file are formatted as strings such as `20160503`, which are a little tricky to interpret. The ideal solution for this problem is to modify our dates so that they are in an appropriate format for analysis. \n",
    "\n",
    "In the cell below, we attempt to add a new column to `ins` called `new_date` which contains the `date` stored as a datetime object. This calls the `pd.to_datetime` method, which converts a series of string representations of dates (and/or times) to a series containing a datetime object."
   ]
  },
  {
   "cell_type": "code",
   "execution_count": null,
   "metadata": {
    "nbgrader": {
     "grade": false,
     "grade_id": "cell-ef5885d023fc290e",
     "locked": true,
     "schema_version": 2,
     "solution": false
    }
   },
   "outputs": [],
   "source": [
    "ins['new_date'] = pd.to_datetime(ins['date'])\n",
    "ins.head(5)"
   ]
  },
  {
   "cell_type": "markdown",
   "metadata": {
    "nbgrader": {
     "grade": false,
     "grade_id": "cell-d48dfa6ba214c40f",
     "locked": true,
     "schema_version": 2,
     "solution": false
    }
   },
   "source": [
    "As you'll see, the resulting `new_date` column doesn't make any sense. This is because the default behavior of the `to_datetime()` method does not properly process the passed string. We can fix this by telling `to_datetime` how to do its job by providing a format string."
   ]
  },
  {
   "cell_type": "code",
   "execution_count": null,
   "metadata": {
    "nbgrader": {
     "grade": false,
     "grade_id": "cell-574b120d333a379d",
     "locked": true,
     "schema_version": 2,
     "solution": false
    },
    "scrolled": true
   },
   "outputs": [],
   "source": [
    "ins['new_date'] = pd.to_datetime(ins['date'], format='%Y%m%d')\n",
    "ins.head(5)"
   ]
  },
  {
   "cell_type": "markdown",
   "metadata": {
    "nbgrader": {
     "grade": false,
     "grade_id": "cell-1e743520b4c12c5e",
     "locked": true,
     "schema_version": 2,
     "solution": false
    }
   },
   "source": [
    "This is still not ideal for our analysis, so we'll add one more column that is just equal to the year by using the `dt.year` property of the new series we just created."
   ]
  },
  {
   "cell_type": "code",
   "execution_count": null,
   "metadata": {
    "nbgrader": {
     "grade": false,
     "grade_id": "cell-e64451846eeb632e",
     "locked": true,
     "schema_version": 2,
     "solution": false
    },
    "scrolled": true
   },
   "outputs": [],
   "source": [
    "ins['year'] = ins['new_date'].dt.year\n",
    "ins.head(5)"
   ]
  },
  {
   "cell_type": "markdown",
   "metadata": {
    "nbgrader": {
     "grade": false,
     "grade_id": "q5d",
     "locked": true,
     "schema_version": 2,
     "solution": false
    },
    "tags": [
     "written"
    ]
   },
   "source": [
    "Now that we have this handy `year` column, we can try to understand our data better.\n",
    "\n",
    "What range of years is covered in this data set? Are there roughly the same number of inspections each year? Provide your answer in text only."
   ]
  },
  {
   "cell_type": "code",
   "execution_count": null,
   "metadata": {
    "ExecuteTime": {
     "end_time": "2018-08-18T01:21:54.296957Z",
     "start_time": "2018-08-18T01:21:54.289662Z"
    },
    "nbgrader": {
     "grade": true,
     "grade_id": "q5c-answer",
     "locked": false,
     "points": 1,
     "schema_version": 2,
     "solution": true
    },
    "tags": [
     "student",
     "written"
    ]
   },
   "outputs": [],
   "source": [
    "### BEGIN SOLUTION\n",
    "q5c_answer = r\"\"\"\n",
    "\n",
    "Put your answer here, replacing this text.\n",
    "\n",
    "\"\"\"\n",
    "### END SOLUTION\n",
    "\n",
    "print(q5c_answer)"
   ]
  },
  {
   "cell_type": "markdown",
   "metadata": {
    "nbgrader": {
     "grade": false,
     "grade_id": "q6a",
     "locked": true,
     "schema_version": 2,
     "solution": false
    }
   },
   "source": [
    "---\n",
    "## 6: Explore inspection score"
   ]
  },
  {
   "cell_type": "markdown",
   "metadata": {
    "nbgrader": {
     "grade": false,
     "grade_id": "inspections-focus",
     "locked": true,
     "schema_version": 2,
     "solution": false
    }
   },
   "source": [
    "### Question 6a\n",
    "Let's look at the distribution of scores. As we saw before when we called `head` on this data, inspection scores appear to be integer values. The discreteness of this variable means that we can use a barplot to visualize the distribution of the inspection score. \n",
    "\n",
    "The code below counts how many inspections have each score, and then creates a bar plot of these scors. \n",
    "\n",
    "_Challenge:_ If you would like to experiment with plotting, please try to modify the code to change or improve the plot\n"
   ]
  },
  {
   "cell_type": "code",
   "execution_count": null,
   "metadata": {
    "ExecuteTime": {
     "end_time": "2018-08-18T01:21:54.309085Z",
     "start_time": "2018-08-18T01:21:54.299128Z"
    },
    "nbgrader": {
     "grade": true,
     "grade_id": "inspections-focus-code",
     "locked": false,
     "points": 2,
     "schema_version": 2,
     "solution": true
    },
    "scrolled": true
   },
   "outputs": [],
   "source": [
    "scoreCts = ins['score'].value_counts()\n",
    "plt.bar(scoreCts.keys(), scoreCts)\n",
    "plt.show()"
   ]
  },
  {
   "cell_type": "markdown",
   "metadata": {
    "nbgrader": {
     "grade": false,
     "grade_id": "q6b",
     "locked": true,
     "schema_version": 2,
     "solution": false
    },
    "tags": [
     "written"
    ]
   },
   "source": [
    "Describe the qualities of the distribution of the inspections scores based on your bar plot. Consider the mode(s), symmetry, tails, gaps, and anamolous values. Are there any unusual features of this distribution? What do your observations imply about the scores?"
   ]
  },
  {
   "cell_type": "code",
   "execution_count": null,
   "metadata": {
    "ExecuteTime": {
     "end_time": "2018-08-18T01:21:54.514679Z",
     "start_time": "2018-08-18T01:21:54.511225Z"
    },
    "nbgrader": {
     "grade": true,
     "grade_id": "q6b-answer",
     "locked": false,
     "points": 3,
     "schema_version": 2,
     "solution": true
    },
    "tags": [
     "student",
     "written"
    ]
   },
   "outputs": [],
   "source": [
    "### BEGIN SOLUTION\n",
    "q6a_answer = r\"\"\"\n",
    "\n",
    "Put your answer here, replacing this text.\n",
    "\n",
    "\"\"\"\n",
    "### END SOLUTION\n",
    "\n",
    "print(q6a_answer)"
   ]
  },
  {
   "cell_type": "markdown",
   "metadata": {
    "nbgrader": {
     "grade": false,
     "grade_id": "cell-5015c9badefcef07",
     "locked": true,
     "schema_version": 2,
     "solution": false
    }
   },
   "source": [
    "### Question 6b"
   ]
  },
  {
   "cell_type": "markdown",
   "metadata": {
    "nbgrader": {
     "grade": false,
     "grade_id": "cell-c84c79731d73d13c",
     "locked": true,
     "schema_version": 2,
     "solution": false
    }
   },
   "source": [
    "Let's figure out which restaurants had the worst scores ever. Let's start by creating a new dataframe called `ins_named`. It should be exactly the same as `ins`, except that it should have the name and address of every business, as determined by the `bus` dataframe. If a `business_id` in `ins` does not exist in `bus`, the name and address should be given as NaN.\n",
    "\n",
    "*Hint: Use the merge method to join the `ins` dataframe with the appropriate portion of the `bus` dataframe.*"
   ]
  },
  {
   "cell_type": "code",
   "execution_count": null,
   "metadata": {
    "nbgrader": {
     "grade": false,
     "grade_id": "cell-74ff1f795567e724",
     "locked": false,
     "schema_version": 2,
     "solution": true
    }
   },
   "outputs": [],
   "source": [
    "### BEGIN SOLUTION\n",
    "ins_named = ...\n",
    "### END SOLUTION"
   ]
  },
  {
   "cell_type": "markdown",
   "metadata": {
    "nbgrader": {
     "grade": false,
     "grade_id": "cell-21208e1c9459aaa7",
     "locked": true,
     "schema_version": 2,
     "solution": false
    }
   },
   "source": [
    "Using this data frame, identify the restaurant with the lowest inspection scores ever. Optionally: head to yelp.com and look up the reviews page for this restaurant. Copy and paste anything interesting you want to share."
   ]
  },
  {
   "cell_type": "code",
   "execution_count": null,
   "metadata": {
    "nbgrader": {
     "grade": true,
     "grade_id": "cell-ffca1dd2365b327b",
     "locked": false,
     "points": 3,
     "schema_version": 2,
     "solution": true
    }
   },
   "outputs": [],
   "source": [
    "### BEGIN SOLUTION\n",
    "q6b_answer = r\"\"\"\n",
    "\n",
    "Put your answer here, replacing this text.\n",
    "\n",
    "\"\"\"\n",
    "### END SOLUTION\n",
    "\n",
    "print(q6b_answer)"
   ]
  },
  {
   "cell_type": "markdown",
   "metadata": {
    "nbgrader": {
     "grade": false,
     "grade_id": "cell-ac6ea7361824a936",
     "locked": true,
     "schema_version": 2,
     "solution": false
    }
   },
   "source": [
    "Just for fun you can also look up the restaurants with the best scores. You'll see that lots of them aren't restaurants at all!"
   ]
  },
  {
   "cell_type": "markdown",
   "metadata": {
    "nbgrader": {
     "grade": false,
     "grade_id": "cell-22a0a8f7f74f431a",
     "locked": true,
     "schema_version": 2,
     "solution": false
    }
   },
   "source": [
    "---\n",
    "## 7: Restaurant Ratings Over Time"
   ]
  },
  {
   "cell_type": "markdown",
   "metadata": {
    "nbgrader": {
     "grade": false,
     "grade_id": "cell-aa4959b7d3bcd9d7",
     "locked": true,
     "schema_version": 2,
     "solution": false
    }
   },
   "source": [
    "Let's consider various scenarios involving restaurants with multiple ratings over time."
   ]
  },
  {
   "cell_type": "markdown",
   "metadata": {
    "nbgrader": {
     "grade": false,
     "grade_id": "cell-2ccb9a66fca2becd",
     "locked": true,
     "schema_version": 2,
     "solution": false
    }
   },
   "source": [
    "### Question 7a"
   ]
  },
  {
   "cell_type": "markdown",
   "metadata": {
    "nbgrader": {
     "grade": false,
     "grade_id": "cell-2331831e448277ce",
     "locked": true,
     "schema_version": 2,
     "solution": false
    }
   },
   "source": [
    "Let's see which restaurant has had the most extreme change in their ratings. Let the \"swing\" of a restaurant be defined as the difference between its lowest and highest ever rating. If a restaurant has been reviewed fewer than two times, its swing is zero. Using whatever technique you want to use, identify the three restaurants that are tied for the maximum swing value."
   ]
  },
  {
   "cell_type": "code",
   "execution_count": null,
   "metadata": {
    "nbgrader": {
     "grade": true,
     "grade_id": "cell-c9669f58aa7a758b",
     "locked": false,
     "points": 2,
     "schema_version": 2,
     "solution": true
    }
   },
   "outputs": [],
   "source": [
    "### BEGIN SOLUTION\n",
    "q7a_answer = r\"\"\"\n",
    "\n",
    "Put your answer here, replacing this text.\n",
    "\n",
    "\"\"\"\n",
    "### END SOLUTION\n",
    "\n",
    "print(q7a_answer)"
   ]
  },
  {
   "cell_type": "markdown",
   "metadata": {
    "nbgrader": {
     "grade": false,
     "grade_id": "cell-9a9b4b1f7bb3370b",
     "locked": true,
     "schema_version": 2,
     "solution": false
    }
   },
   "source": [
    "### Question 7b\n",
    "\n",
    "To get a sense of the number of times each restaurant has been inspected, create a multi-indexed dataframe called `inspections_by_id_and_year` where each row corresponds to data about a given business in a single year, and there is a single data column named `count` that represents the number of inspections for that business in that year. The first index in the MultiIndex should be on `business_id`, and the second should be on `year`.\n",
    "\n",
    "An example row in this dataframe might look tell you that business_id is 573, year is 2017, and count is 4.\n",
    "\n",
    "*Hint: Use groupby to group based on both the `business_id` and the `year`.*\n",
    "\n",
    "*Hint: Use rename to change the name of the column to `count`.*"
   ]
  },
  {
   "cell_type": "code",
   "execution_count": null,
   "metadata": {
    "nbgrader": {
     "grade": false,
     "grade_id": "cell-4fc0d1651b6e1c59",
     "locked": false,
     "schema_version": 2,
     "solution": true
    }
   },
   "outputs": [],
   "source": [
    "### BEGIN SOLUTION\n",
    "inspections_by_id_and_year = ...\n",
    "### END SOLUTION"
   ]
  },
  {
   "cell_type": "markdown",
   "metadata": {
    "nbgrader": {
     "grade": false,
     "grade_id": "cell-bea99093d7cad880",
     "locked": true,
     "schema_version": 2,
     "solution": false
    }
   },
   "source": [
    "You should see that some businesses are inspected many times in a single year. Let's get a sense of the distribution of the counts of the number of inspections by calling `value_counts`. There are quite a lot of businesses with 2 inspections in the same year, so it seems like it might be interesting to see what we can learn from such businesses."
   ]
  },
  {
   "cell_type": "code",
   "execution_count": null,
   "metadata": {
    "nbgrader": {
     "grade": false,
     "grade_id": "cell-7389be51062a967b",
     "locked": true,
     "schema_version": 2,
     "solution": false
    },
    "scrolled": true
   },
   "outputs": [],
   "source": [
    "inspections_by_id_and_year['count'].value_counts()"
   ]
  },
  {
   "cell_type": "markdown",
   "metadata": {
    "nbgrader": {
     "grade": false,
     "grade_id": "q7c",
     "locked": true,
     "schema_version": 2,
     "solution": false
    }
   },
   "source": [
    "### Question 7c\n",
    "\n",
    "What's the relationship between the first and second scores for the businesses with 2 inspections in a year? Do they typically improve? For simplicity, let's focus on only 2016 for this problem.\n",
    "\n",
    "First, make a dataframe called `scores_pairs_by_business` indexed by `business_id` (containing only businesses with exactly 2 inspections in 2016).  This dataframe contains the field `score_pair` consisting of the score pairs ordered chronologically  `[first_score, second_score]`. \n",
    "\n",
    "Plot these scores. That is, make a scatter plot to display these pairs of scores. Include on the plot a reference line with slope 1. \n",
    "\n",
    "You may find the functions `sort_values`, `groupby`, `filter` and `agg` helpful, though not all necessary. \n",
    "\n",
    "The first few rows of the resulting table should look something like:\n",
    "\n",
    "<table border=\"1\" class=\"dataframe\">\n",
    "  <thead>\n",
    "    <tr style=\"text-align: right;\">\n",
    "      <th></th>\n",
    "      <th>score_pair</th>\n",
    "    </tr>\n",
    "    <tr>\n",
    "      <th>business_id</th>\n",
    "      <th></th>\n",
    "    </tr>\n",
    "  </thead>\n",
    "  <tbody>\n",
    "    <tr>\n",
    "      <th>24</th>\n",
    "      <td>[96, 98]</td>\n",
    "    </tr>\n",
    "    <tr>\n",
    "      <th>45</th>\n",
    "      <td>[78, 84]</td>\n",
    "    </tr>\n",
    "    <tr>\n",
    "      <th>66</th>\n",
    "      <td>[98, 100]</td>\n",
    "    </tr>\n",
    "    <tr>\n",
    "      <th>67</th>\n",
    "      <td>[87, 94]</td>\n",
    "    </tr>\n",
    "    <tr>\n",
    "      <th>76</th>\n",
    "      <td>[100, 98]</td>\n",
    "    </tr>\n",
    "  </tbody>\n",
    "</table>\n",
    "\n",
    "The scatter plot shoud look like this:\n",
    "\n",
    "<img src=\"scat.png\" width=400>\n",
    "*Note: Each score pair must be a list type*\n",
    "\n",
    "*Hint: Use the `filter` method from lecture 6 to create a new dataframe that only contains restaurants that received exactly 2 inspections.*\n",
    "\n",
    "*Hint: Our answer is a single line of code that uses `sort_values`, `groupby`, `filter`, `groupby`, `agg`, and `rename` in that order. Your answer does not need to use these exact methods.*"
   ]
  },
  {
   "cell_type": "code",
   "execution_count": null,
   "metadata": {
    "ExecuteTime": {
     "end_time": "2018-08-18T01:21:57.055537Z",
     "start_time": "2018-08-18T01:21:54.541279Z"
    },
    "nbgrader": {
     "grade": false,
     "grade_id": "q7c-answer",
     "locked": false,
     "schema_version": 2,
     "solution": true
    },
    "tags": [
     "student"
    ]
   },
   "outputs": [],
   "source": [
    "scores_pairs_by_business = ...\n",
    "\n",
    "# For some odd reason, we can't just pass `list` into `.agg` so we define this function:\n",
    "# You may or may not use it\n",
    "\n",
    "ins2016 = ins[ins['year'] == 2016]\n",
    "\n",
    "def group_to_list(group):\n",
    "    return list(group)\n",
    "\n",
    "### BEGIN SOLUTION\n",
    "\n",
    "### END SOLUTION"
   ]
  },
  {
   "cell_type": "code",
   "execution_count": null,
   "metadata": {
    "ExecuteTime": {
     "end_time": "2018-08-18T01:21:59.329515Z",
     "start_time": "2018-08-18T01:21:57.059537Z"
    },
    "nbgrader": {
     "grade": true,
     "grade_id": "q7c-tests",
     "locked": true,
     "points": 4,
     "schema_version": 2,
     "solution": false
    },
    "tags": [
     "solution"
    ]
   },
   "outputs": [],
   "source": [
    "assert isinstance(scores_pairs_by_business, pd.DataFrame)\n",
    "assert scores_pairs_by_business.columns == ['score_pair']"
   ]
  },
  {
   "cell_type": "markdown",
   "metadata": {
    "nbgrader": {
     "grade": false,
     "grade_id": "q7d",
     "locked": true,
     "schema_version": 2,
     "solution": false
    }
   },
   "source": [
    "### Question 7d\n",
    "\n",
    "Another way to compare the scores from the two inspections is to examine the difference in scores. Subtracting the first score from the second in `scores_pairs_by_business` and making a histogram of these differences in the scores. We might expect these differences to be positive, indicating an improvement from the first to the second inspection.\n",
    "\n",
    "The histogram should look like this:\n",
    "\n",
    "<img src=\"hist_2.png\" width=400>\n",
    "\n"
   ]
  },
  {
   "cell_type": "markdown",
   "metadata": {
    "nbgrader": {
     "grade": false,
     "grade_id": "q7e",
     "locked": true,
     "schema_version": 2,
     "solution": false
    }
   },
   "source": [
    "If a restaurant's score improves from the first to the second inspection, what do you expect to see in the scatter plot in question 7c? What do you see?\n",
    "\n",
    "If a restaurant's score improves from the first to the second inspection, how would this be reflected in the histogram of the difference in the scores? What do you see?"
   ]
  },
  {
   "cell_type": "code",
   "execution_count": null,
   "metadata": {
    "ExecuteTime": {
     "end_time": "2018-08-18T01:21:59.749757Z",
     "start_time": "2018-08-18T01:21:59.743534Z"
    },
    "nbgrader": {
     "grade": true,
     "grade_id": "q7e-answer",
     "locked": false,
     "points": 3,
     "schema_version": 2,
     "solution": true
    },
    "tags": [
     "student",
     "written"
    ]
   },
   "outputs": [],
   "source": [
    "q7c_answer = r\"\"\"\n",
    "\n",
    "Put your answer here, replacing this text. Do not take into account the ###YOUR CODE HERE below.\n",
    "\n",
    "\"\"\"\n",
    "\n",
    "print(q7c_answer)"
   ]
  },
  {
   "cell_type": "markdown",
   "metadata": {
    "nbgrader": {
     "grade": false,
     "grade_id": "summary-inspections",
     "locked": true,
     "schema_version": 2,
     "solution": false
    }
   },
   "source": [
    "## Summary of the Inspections Data\n",
    "\n",
    "What we have learned about the inspections data? What might be some next steps in our investigation? \n",
    "\n",
    "* We found that the records are at the inspection level and that we have inspections for multiple years.   \n",
    "* We also found that many restaurants have more than one inspection a year. \n",
    "* By joining the business and inspection data, we identified the name of the restaurant with the worst rating and optionally the names of the restaurants with the best rating.\n",
    "* We identified the restaurants that have had the largest swing in rating over time.\n",
    "* We also examined the relationship between the scores when a restaurant has multiple inspections in a year. Our findings were a bit counterintuitive and may warrant further investigation. \n"
   ]
  }
 ],
 "metadata": {
  "celltoolbar": "Create Assignment",
  "kernelspec": {
   "display_name": "Python 3",
   "language": "python",
   "name": "python3"
  },
  "language_info": {
   "codemirror_mode": {
    "name": "ipython",
    "version": 3
   },
   "file_extension": ".py",
   "mimetype": "text/x-python",
   "name": "python",
   "nbconvert_exporter": "python",
   "pygments_lexer": "ipython3",
   "version": "3.7.3"
  }
 },
 "nbformat": 4,
 "nbformat_minor": 4
}
