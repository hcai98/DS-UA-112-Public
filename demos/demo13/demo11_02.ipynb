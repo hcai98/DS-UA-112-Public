{
 "cells": [
  {
   "cell_type": "markdown",
   "metadata": {},
   "source": [
    "# Using lxml to Parse HTML \n",
    "\n",
    "The libxml library `lxml` provides a lot of sophisticated (low-level) functionality for traversing XML and html documents.  In this example we use the specialized `html` submodule.\n",
    "\n",
    "We download some data from wikipeda:"
   ]
  },
  {
   "cell_type": "code",
   "execution_count": 1,
   "metadata": {
    "ExecuteTime": {
     "end_time": "2018-02-13T06:41:31.384894Z",
     "start_time": "2018-02-13T06:40:56.881125Z"
    }
   },
   "outputs": [
    {
     "data": {
      "text/plain": [
       "<Response [200]>"
      ]
     },
     "execution_count": 1,
     "metadata": {},
     "output_type": "execute_result"
    }
   ],
   "source": [
    "import requests\n",
    "url = \"https://en.wikipedia.org/wiki/United_States_presidential_election_in_Virginia,_2004\"\n",
    "resp = requests.get(url)\n",
    "resp"
   ]
  },
  {
   "cell_type": "markdown",
   "metadata": {},
   "source": [
    "## Construct the DOM\n",
    "\n",
    "Parse the content into a document object model"
   ]
  },
  {
   "cell_type": "code",
   "execution_count": 2,
   "metadata": {
    "ExecuteTime": {
     "end_time": "2018-02-13T06:41:31.385756Z",
     "start_time": "2018-02-13T06:40:59.737Z"
    }
   },
   "outputs": [],
   "source": [
    "from lxml import html\n",
    "dom = html.document_fromstring(resp.content)"
   ]
  },
  {
   "cell_type": "code",
   "execution_count": 3,
   "metadata": {
    "ExecuteTime": {
     "end_time": "2018-02-13T06:41:31.386537Z",
     "start_time": "2018-02-13T06:41:00.573Z"
    }
   },
   "outputs": [
    {
     "data": {
      "text/plain": [
       "<Element html at 0x1f8a7954548>"
      ]
     },
     "execution_count": 3,
     "metadata": {},
     "output_type": "execute_result"
    }
   ],
   "source": [
    "dom"
   ]
  },
  {
   "cell_type": "markdown",
   "metadata": {},
   "source": [
    "## Traversing the DOM"
   ]
  },
  {
   "cell_type": "code",
   "execution_count": 4,
   "metadata": {
    "ExecuteTime": {
     "end_time": "2018-02-13T06:41:31.387564Z",
     "start_time": "2018-02-13T06:41:02.318Z"
    }
   },
   "outputs": [
    {
     "data": {
      "text/plain": [
       "[<Element head at 0x1f8a8a5eb38>, <Element body at 0x1f8a8a5ecc8>]"
      ]
     },
     "execution_count": 4,
     "metadata": {},
     "output_type": "execute_result"
    }
   ],
   "source": [
    "dom.getchildren()"
   ]
  },
  {
   "cell_type": "markdown",
   "metadata": {},
   "source": [
    "## Jumping directly to an Element"
   ]
  },
  {
   "cell_type": "code",
   "execution_count": 5,
   "metadata": {
    "ExecuteTime": {
     "end_time": "2018-02-13T06:41:31.389580Z",
     "start_time": "2018-02-13T06:41:03.236Z"
    }
   },
   "outputs": [],
   "source": [
    "body = dom.find(\"body\")"
   ]
  },
  {
   "cell_type": "code",
   "execution_count": 6,
   "metadata": {
    "ExecuteTime": {
     "end_time": "2018-02-13T06:41:31.390977Z",
     "start_time": "2018-02-13T06:41:03.611Z"
    }
   },
   "outputs": [
    {
     "data": {
      "text/plain": [
       "[<Element div at 0x1f8a8a5ed68>,\n",
       " <Element div at 0x1f8a8a5ea48>,\n",
       " <Element div at 0x1f8a8a6e048>,\n",
       " <Element div at 0x1f8a8a6e098>,\n",
       " <Element div at 0x1f8a8a6e0e8>,\n",
       " <Element div at 0x1f8a8a6e138>,\n",
       " <Element script at 0x1f8a8a6e188>,\n",
       " <Element script at 0x1f8a8a6e1d8>,\n",
       " <Element script at 0x1f8a8a6e228>]"
      ]
     },
     "execution_count": 6,
     "metadata": {},
     "output_type": "execute_result"
    }
   ],
   "source": [
    "body.getchildren()"
   ]
  },
  {
   "cell_type": "markdown",
   "metadata": {},
   "source": [
    "# Using XPath to query HTML \n",
    "\n",
    "The following XPath query finds all the table elements starting at anywhere `//` in the tree and then traverses into the table to the row `/tr` and then the data entry `/td` and looks for a link `a` with the title attribute `@title` having the value `\"Accomack County, Virginia\"` and then gets its parent (the `td`) and then its parent (`tr`) and then its parent (`table`) and returns that."
   ]
  },
  {
   "cell_type": "code",
   "execution_count": 7,
   "metadata": {
    "ExecuteTime": {
     "end_time": "2018-02-13T06:41:31.392409Z",
     "start_time": "2018-02-13T06:41:04.232Z"
    }
   },
   "outputs": [],
   "source": [
    "tables = dom.xpath('//table/tbody/tr/td/a[@title=\"Accomack County, Virginia\"]/../../../..')"
   ]
  },
  {
   "cell_type": "markdown",
   "metadata": {},
   "source": [
    "Printing the returned table:"
   ]
  },
  {
   "cell_type": "code",
   "execution_count": 8,
   "metadata": {},
   "outputs": [
    {
     "data": {
      "text/plain": [
       "[<Element table at 0x1f8a8a6e278>]"
      ]
     },
     "execution_count": 8,
     "metadata": {},
     "output_type": "execute_result"
    }
   ],
   "source": [
    "tables"
   ]
  },
  {
   "cell_type": "markdown",
   "metadata": {
    "ExecuteTime": {
     "end_time": "2018-02-13T06:41:31.393696Z",
     "start_time": "2018-02-13T06:41:04.635Z"
    }
   },
   "source": [
    "print(html.tostring(tables[0], pretty_print=True).decode('UTF8'))"
   ]
  },
  {
   "cell_type": "markdown",
   "metadata": {},
   "source": [
    "Building a DataFrame from the table:"
   ]
  },
  {
   "cell_type": "code",
   "execution_count": 9,
   "metadata": {
    "ExecuteTime": {
     "end_time": "2018-02-13T06:41:31.394781Z",
     "start_time": "2018-02-13T06:41:05.395Z"
    }
   },
   "outputs": [
    {
     "data": {
      "text/html": [
       "<div>\n",
       "<style scoped>\n",
       "    .dataframe tbody tr th:only-of-type {\n",
       "        vertical-align: middle;\n",
       "    }\n",
       "\n",
       "    .dataframe tbody tr th {\n",
       "        vertical-align: top;\n",
       "    }\n",
       "\n",
       "    .dataframe thead th {\n",
       "        text-align: right;\n",
       "    }\n",
       "</style>\n",
       "<table border=\"1\" class=\"dataframe\">\n",
       "  <thead>\n",
       "    <tr style=\"text-align: right;\">\n",
       "      <th></th>\n",
       "      <th>County or City</th>\n",
       "      <th>Kerry %</th>\n",
       "      <th>Kerry #</th>\n",
       "      <th>Bush %</th>\n",
       "      <th>Bush #</th>\n",
       "      <th>Other %</th>\n",
       "      <th>Other #</th>\n",
       "    </tr>\n",
       "  </thead>\n",
       "  <tbody>\n",
       "    <tr>\n",
       "      <th>0</th>\n",
       "      <td>Accomack</td>\n",
       "      <td>41.3%</td>\n",
       "      <td>5518</td>\n",
       "      <td>57.8%</td>\n",
       "      <td>7726</td>\n",
       "      <td>0.8%</td>\n",
       "      <td>112</td>\n",
       "    </tr>\n",
       "    <tr>\n",
       "      <th>1</th>\n",
       "      <td>Albemarle</td>\n",
       "      <td>50.5%</td>\n",
       "      <td>22088</td>\n",
       "      <td>48.5%</td>\n",
       "      <td>21189</td>\n",
       "      <td>1.0%</td>\n",
       "      <td>449</td>\n",
       "    </tr>\n",
       "    <tr>\n",
       "      <th>2</th>\n",
       "      <td>Alleghany</td>\n",
       "      <td>44.5%</td>\n",
       "      <td>3203</td>\n",
       "      <td>55.1%</td>\n",
       "      <td>3962</td>\n",
       "      <td>0.4%</td>\n",
       "      <td>30</td>\n",
       "    </tr>\n",
       "    <tr>\n",
       "      <th>3</th>\n",
       "      <td>Amelia</td>\n",
       "      <td>34.5%</td>\n",
       "      <td>1862</td>\n",
       "      <td>64.8%</td>\n",
       "      <td>3499</td>\n",
       "      <td>0.7%</td>\n",
       "      <td>36</td>\n",
       "    </tr>\n",
       "    <tr>\n",
       "      <th>4</th>\n",
       "      <td>Amherst</td>\n",
       "      <td>38.3%</td>\n",
       "      <td>4866</td>\n",
       "      <td>61.1%</td>\n",
       "      <td>7758</td>\n",
       "      <td>0.6%</td>\n",
       "      <td>71</td>\n",
       "    </tr>\n",
       "  </tbody>\n",
       "</table>\n",
       "</div>"
      ],
      "text/plain": [
       "  County or City Kerry %  Kerry # Bush %  Bush # Other %  Other #\n",
       "0       Accomack   41.3%     5518  57.8%    7726    0.8%      112\n",
       "1      Albemarle   50.5%    22088  48.5%   21189    1.0%      449\n",
       "2      Alleghany   44.5%     3203  55.1%    3962    0.4%       30\n",
       "3         Amelia   34.5%     1862  64.8%    3499    0.7%       36\n",
       "4        Amherst   38.3%     4866  61.1%    7758    0.6%       71"
      ]
     },
     "execution_count": 9,
     "metadata": {},
     "output_type": "execute_result"
    }
   ],
   "source": [
    "import pandas as pd\n",
    "df = pd.read_html(html.tostring(tables[0]))[0]\n",
    "df.head()"
   ]
  }
 ],
 "metadata": {
  "kernelspec": {
   "display_name": "Python 3",
   "language": "python",
   "name": "python3"
  },
  "language_info": {
   "codemirror_mode": {
    "name": "ipython",
    "version": 3
   },
   "file_extension": ".py",
   "mimetype": "text/x-python",
   "name": "python",
   "nbconvert_exporter": "python",
   "pygments_lexer": "ipython3",
   "version": "3.7.3"
  }
 },
 "nbformat": 4,
 "nbformat_minor": 4
}
