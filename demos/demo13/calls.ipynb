{
 "cells": [
  {
   "cell_type": "code",
   "execution_count": 2,
   "metadata": {
    "ExecuteTime": {
     "end_time": "2018-02-02T15:15:15.363920Z",
     "start_time": "2018-02-02T15:15:14.337886Z"
    }
   },
   "outputs": [],
   "source": [
    "import numpy as np\n",
    "import matplotlib.pyplot as plt\n",
    "import pandas as pd\n",
    "import re\n",
    "from datetime import datetime\n",
    "import seaborn as sns\n",
    "%matplotlib inline"
   ]
  },
  {
   "cell_type": "markdown",
   "metadata": {},
   "source": [
    "## Text Processing Case Study\n",
    "\n",
    "In this example, we will apply string processing to the process of data cleaning and exploratory data analysis."
   ]
  },
  {
   "cell_type": "markdown",
   "metadata": {},
   "source": [
    "### Getting the Data\n",
    "\n",
    "The city of Berkeley maintains an [Open Data Portal](https://data.cityofberkeley.info/) for citizens to access data about the city.  We will be examining [Call Data](https://data.cityofberkeley.info/Public-Safety/Berkeley-PD-Calls-for-Service/k2nh-s5h5).\n",
    "\n"
   ]
  },
  {
   "cell_type": "code",
   "execution_count": 3,
   "metadata": {
    "ExecuteTime": {
     "end_time": "2018-02-02T15:15:19.115040Z",
     "start_time": "2018-02-02T15:15:19.070620Z"
    }
   },
   "outputs": [
    {
     "data": {
      "text/html": [
       "<div>\n",
       "<style scoped>\n",
       "    .dataframe tbody tr th:only-of-type {\n",
       "        vertical-align: middle;\n",
       "    }\n",
       "\n",
       "    .dataframe tbody tr th {\n",
       "        vertical-align: top;\n",
       "    }\n",
       "\n",
       "    .dataframe thead th {\n",
       "        text-align: right;\n",
       "    }\n",
       "</style>\n",
       "<table border=\"1\" class=\"dataframe\">\n",
       "  <thead>\n",
       "    <tr style=\"text-align: right;\">\n",
       "      <th></th>\n",
       "      <th>CASENO</th>\n",
       "      <th>OFFENSE</th>\n",
       "      <th>EVENTDT</th>\n",
       "      <th>EVENTTM</th>\n",
       "      <th>CVLEGEND</th>\n",
       "      <th>CVDOW</th>\n",
       "      <th>InDbDate</th>\n",
       "      <th>Block_Location</th>\n",
       "      <th>BLKADDR</th>\n",
       "      <th>City</th>\n",
       "      <th>State</th>\n",
       "    </tr>\n",
       "  </thead>\n",
       "  <tbody>\n",
       "    <tr>\n",
       "      <th>0</th>\n",
       "      <td>18022300</td>\n",
       "      <td>DISTURBANCE</td>\n",
       "      <td>04/18/2018 12:00:00 AM</td>\n",
       "      <td>22:17</td>\n",
       "      <td>DISORDERLY CONDUCT</td>\n",
       "      <td>3</td>\n",
       "      <td>09/06/2018 03:30:12 AM</td>\n",
       "      <td>OREGON STREET &amp;amp; MCGEE AVE\\r\\nBerkeley, CA\\...</td>\n",
       "      <td>OREGON STREET &amp; MCGEE AVE</td>\n",
       "      <td>Berkeley</td>\n",
       "      <td>CA</td>\n",
       "    </tr>\n",
       "    <tr>\n",
       "      <th>1</th>\n",
       "      <td>18026683</td>\n",
       "      <td>THEFT MISD. (UNDER $950)</td>\n",
       "      <td>05/09/2018 12:00:00 AM</td>\n",
       "      <td>21:25</td>\n",
       "      <td>LARCENY</td>\n",
       "      <td>3</td>\n",
       "      <td>09/06/2018 03:30:13 AM</td>\n",
       "      <td>200 UNIVERSITY AVE\\r\\nBerkeley, CA\\r\\n(37.8655...</td>\n",
       "      <td>200 UNIVERSITY AVE</td>\n",
       "      <td>Berkeley</td>\n",
       "      <td>CA</td>\n",
       "    </tr>\n",
       "    <tr>\n",
       "      <th>2</th>\n",
       "      <td>18038550</td>\n",
       "      <td>THEFT MISD. (UNDER $950)</td>\n",
       "      <td>05/18/2018 12:00:00 AM</td>\n",
       "      <td>20:00</td>\n",
       "      <td>LARCENY</td>\n",
       "      <td>5</td>\n",
       "      <td>09/06/2018 03:30:09 AM</td>\n",
       "      <td>2200 MILVIA ST\\r\\nBerkeley, CA\\r\\n(37.868574, ...</td>\n",
       "      <td>2200 MILVIA ST</td>\n",
       "      <td>Berkeley</td>\n",
       "      <td>CA</td>\n",
       "    </tr>\n",
       "    <tr>\n",
       "      <th>3</th>\n",
       "      <td>18014810</td>\n",
       "      <td>BURGLARY AUTO</td>\n",
       "      <td>03/13/2018 12:00:00 AM</td>\n",
       "      <td>08:50</td>\n",
       "      <td>BURGLARY - VEHICLE</td>\n",
       "      <td>2</td>\n",
       "      <td>09/06/2018 03:30:08 AM</td>\n",
       "      <td>1200 SIXTH ST\\r\\nBerkeley, CA\\r\\n(37.881142, -...</td>\n",
       "      <td>1200 SIXTH ST</td>\n",
       "      <td>Berkeley</td>\n",
       "      <td>CA</td>\n",
       "    </tr>\n",
       "    <tr>\n",
       "      <th>4</th>\n",
       "      <td>18018643</td>\n",
       "      <td>ALCOHOL OFFENSE</td>\n",
       "      <td>03/31/2018 12:00:00 AM</td>\n",
       "      <td>13:29</td>\n",
       "      <td>LIQUOR LAW VIOLATION</td>\n",
       "      <td>6</td>\n",
       "      <td>09/06/2018 03:30:11 AM</td>\n",
       "      <td>CENTER STREET &amp;amp; SHATTUCK AVE\\r\\nBerkeley, ...</td>\n",
       "      <td>CENTER STREET &amp; SHATTUCK AVE</td>\n",
       "      <td>Berkeley</td>\n",
       "      <td>CA</td>\n",
       "    </tr>\n",
       "  </tbody>\n",
       "</table>\n",
       "</div>"
      ],
      "text/plain": [
       "     CASENO                   OFFENSE                 EVENTDT EVENTTM  \\\n",
       "0  18022300               DISTURBANCE  04/18/2018 12:00:00 AM   22:17   \n",
       "1  18026683  THEFT MISD. (UNDER $950)  05/09/2018 12:00:00 AM   21:25   \n",
       "2  18038550  THEFT MISD. (UNDER $950)  05/18/2018 12:00:00 AM   20:00   \n",
       "3  18014810             BURGLARY AUTO  03/13/2018 12:00:00 AM   08:50   \n",
       "4  18018643           ALCOHOL OFFENSE  03/31/2018 12:00:00 AM   13:29   \n",
       "\n",
       "               CVLEGEND  CVDOW                InDbDate  \\\n",
       "0    DISORDERLY CONDUCT      3  09/06/2018 03:30:12 AM   \n",
       "1               LARCENY      3  09/06/2018 03:30:13 AM   \n",
       "2               LARCENY      5  09/06/2018 03:30:09 AM   \n",
       "3    BURGLARY - VEHICLE      2  09/06/2018 03:30:08 AM   \n",
       "4  LIQUOR LAW VIOLATION      6  09/06/2018 03:30:11 AM   \n",
       "\n",
       "                                      Block_Location  \\\n",
       "0  OREGON STREET &amp; MCGEE AVE\\r\\nBerkeley, CA\\...   \n",
       "1  200 UNIVERSITY AVE\\r\\nBerkeley, CA\\r\\n(37.8655...   \n",
       "2  2200 MILVIA ST\\r\\nBerkeley, CA\\r\\n(37.868574, ...   \n",
       "3  1200 SIXTH ST\\r\\nBerkeley, CA\\r\\n(37.881142, -...   \n",
       "4  CENTER STREET &amp; SHATTUCK AVE\\r\\nBerkeley, ...   \n",
       "\n",
       "                        BLKADDR      City State  \n",
       "0     OREGON STREET & MCGEE AVE  Berkeley    CA  \n",
       "1            200 UNIVERSITY AVE  Berkeley    CA  \n",
       "2                2200 MILVIA ST  Berkeley    CA  \n",
       "3                 1200 SIXTH ST  Berkeley    CA  \n",
       "4  CENTER STREET & SHATTUCK AVE  Berkeley    CA  "
      ]
     },
     "execution_count": 3,
     "metadata": {},
     "output_type": "execute_result"
    }
   ],
   "source": [
    "calls = pd.read_csv('data/Berkeley_PD_-_Calls_for_Service.csv')\n",
    "calls.head()"
   ]
  },
  {
   "cell_type": "markdown",
   "metadata": {},
   "source": [
    "How many records did we get?"
   ]
  },
  {
   "cell_type": "code",
   "execution_count": 4,
   "metadata": {
    "ExecuteTime": {
     "end_time": "2018-02-02T15:15:19.122345Z",
     "start_time": "2018-02-02T15:15:19.118071Z"
    }
   },
   "outputs": [
    {
     "data": {
      "text/plain": [
       "3788"
      ]
     },
     "execution_count": 4,
     "metadata": {},
     "output_type": "execute_result"
    }
   ],
   "source": [
    "len(calls)"
   ]
  },
  {
   "cell_type": "markdown",
   "metadata": {},
   "source": [
    "What does an example `Block_Location` value look like?"
   ]
  },
  {
   "cell_type": "code",
   "execution_count": 5,
   "metadata": {},
   "outputs": [
    {
     "name": "stdout",
     "output_type": "stream",
     "text": [
      "OREGON STREET &amp; MCGEE AVE\n",
      "Berkeley, CA\n",
      "(37.856572, -122.275241)\n"
     ]
    }
   ],
   "source": [
    "print(calls['Block_Location'].iloc[0])"
   ]
  },
  {
   "cell_type": "markdown",
   "metadata": {
    "solution2": "hidden",
    "solution2_first": true
   },
   "source": [
    "### Preliminary observations on the data?"
   ]
  },
  {
   "cell_type": "markdown",
   "metadata": {
    "solution2": "hidden"
   },
   "source": [
    "1. `EVENTDT` -- Contains the incorrect time\n",
    "1. `EVENTTM` -- Contains the time in 24 hour format (What timezone?)\n",
    "1. `CVDOW` -- Encodes the day of the week (see data documentation).\n",
    "1. `InDbDate` -- Appears to be correctly formatted and appears pretty consistent in time.\n",
    "1. **`Block_Location` -- a multi-line string that contains coordinates.**\n",
    "1. `BLKADDR` -- Appears to be the address in `Block Location`.\n",
    "1. `City` and `State` seem redundant given this is supposed to be the city of Berkeley dataset."
   ]
  },
  {
   "cell_type": "markdown",
   "metadata": {},
   "source": [
    "### Extracting locations\n",
    "\n",
    "The block location contains geographic coordinates. Let's extract them."
   ]
  },
  {
   "cell_type": "code",
   "execution_count": 6,
   "metadata": {
    "ExecuteTime": {
     "end_time": "2018-02-02T15:15:19.230720Z",
     "start_time": "2018-02-02T15:15:19.225971Z"
    }
   },
   "outputs": [
    {
     "data": {
      "text/plain": [
       "'OREGON STREET &amp; MCGEE AVE\\r\\nBerkeley, CA\\r\\n(37.856572, -122.275241)'"
      ]
     },
     "execution_count": 6,
     "metadata": {},
     "output_type": "execute_result"
    }
   ],
   "source": [
    "calls['Block_Location'][0]"
   ]
  },
  {
   "cell_type": "code",
   "execution_count": 7,
   "metadata": {
    "ExecuteTime": {
     "end_time": "2018-02-02T15:15:19.268222Z",
     "start_time": "2018-02-02T15:15:19.233193Z"
    }
   },
   "outputs": [
    {
     "data": {
      "text/html": [
       "<div>\n",
       "<style scoped>\n",
       "    .dataframe tbody tr th:only-of-type {\n",
       "        vertical-align: middle;\n",
       "    }\n",
       "\n",
       "    .dataframe tbody tr th {\n",
       "        vertical-align: top;\n",
       "    }\n",
       "\n",
       "    .dataframe thead th {\n",
       "        text-align: right;\n",
       "    }\n",
       "</style>\n",
       "<table border=\"1\" class=\"dataframe\">\n",
       "  <thead>\n",
       "    <tr style=\"text-align: right;\">\n",
       "      <th></th>\n",
       "      <th>Lat</th>\n",
       "      <th>Lon</th>\n",
       "    </tr>\n",
       "  </thead>\n",
       "  <tbody>\n",
       "    <tr>\n",
       "      <th>0</th>\n",
       "      <td>37.856572</td>\n",
       "      <td>-122.275241</td>\n",
       "    </tr>\n",
       "    <tr>\n",
       "      <th>1</th>\n",
       "      <td>37.865511</td>\n",
       "      <td>-122.309967</td>\n",
       "    </tr>\n",
       "    <tr>\n",
       "      <th>2</th>\n",
       "      <td>37.868574</td>\n",
       "      <td>-122.270415</td>\n",
       "    </tr>\n",
       "    <tr>\n",
       "      <th>3</th>\n",
       "      <td>37.881142</td>\n",
       "      <td>-122.30191</td>\n",
       "    </tr>\n",
       "    <tr>\n",
       "      <th>4</th>\n",
       "      <td>37.870308</td>\n",
       "      <td>-122.26805</td>\n",
       "    </tr>\n",
       "    <tr>\n",
       "      <th>5</th>\n",
       "      <td>37.867176</td>\n",
       "      <td>-122.267802</td>\n",
       "    </tr>\n",
       "    <tr>\n",
       "      <th>6</th>\n",
       "      <td>37.891594</td>\n",
       "      <td>-122.264883</td>\n",
       "    </tr>\n",
       "    <tr>\n",
       "      <th>7</th>\n",
       "      <td>37.848812</td>\n",
       "      <td>-122.278043</td>\n",
       "    </tr>\n",
       "    <tr>\n",
       "      <th>8</th>\n",
       "      <td>37.879467</td>\n",
       "      <td>-122.261062</td>\n",
       "    </tr>\n",
       "    <tr>\n",
       "      <th>9</th>\n",
       "      <td>37.858433</td>\n",
       "      <td>-122.280183</td>\n",
       "    </tr>\n",
       "  </tbody>\n",
       "</table>\n",
       "</div>"
      ],
      "text/plain": [
       "         Lat          Lon\n",
       "0  37.856572  -122.275241\n",
       "1  37.865511  -122.309967\n",
       "2  37.868574  -122.270415\n",
       "3  37.881142   -122.30191\n",
       "4  37.870308   -122.26805\n",
       "5  37.867176  -122.267802\n",
       "6  37.891594  -122.264883\n",
       "7  37.848812  -122.278043\n",
       "8  37.879467  -122.261062\n",
       "9  37.858433  -122.280183"
      ]
     },
     "execution_count": 7,
     "metadata": {},
     "output_type": "execute_result"
    }
   ],
   "source": [
    "calls_lat_lon = (\n",
    "    calls['Block_Location']\n",
    "    .str.extract(\"\\((\\d+\\.\\d+)\\, (-\\d+\\.\\d+)\\)\")\n",
    ")\n",
    "calls_lat_lon.columns = ['Lat', 'Lon']\n",
    "calls_lat_lon.head(10)"
   ]
  },
  {
   "cell_type": "markdown",
   "metadata": {},
   "source": [
    "How many records have missing values?"
   ]
  },
  {
   "cell_type": "code",
   "execution_count": 8,
   "metadata": {
    "ExecuteTime": {
     "end_time": "2018-02-02T15:15:19.280471Z",
     "start_time": "2018-02-02T15:15:19.271307Z"
    }
   },
   "outputs": [
    {
     "data": {
      "text/plain": [
       "Lat    159\n",
       "Lon    159\n",
       "dtype: int64"
      ]
     },
     "execution_count": 8,
     "metadata": {},
     "output_type": "execute_result"
    }
   ],
   "source": [
    "calls_lat_lon.isnull().sum()"
   ]
  },
  {
   "cell_type": "markdown",
   "metadata": {},
   "source": [
    "Examine the missing values."
   ]
  },
  {
   "cell_type": "code",
   "execution_count": 9,
   "metadata": {},
   "outputs": [
    {
     "data": {
      "text/plain": [
       "68                   400 OAKVALE AVE\\r\\nBerkeley, CA\\r\\n\n",
       "70                      200 MENLO PL\\r\\nBerkeley, CA\\r\\n\n",
       "79     UNIVERSITY AVENUE &amp; M L KING JR WAY\\r\\nBer...\n",
       "111                    3000 BOISE ST\\r\\nBerkeley, CA\\r\\n\n",
       "112    HEARST AVENUE &amp; SEVENTH ST\\r\\nBerkeley, CA...\n",
       "156    WOOLSEY STREET &amp; ELLIS ST\\r\\nBerkeley, CA\\r\\n\n",
       "230                   900 ACACIA AVE\\r\\nBerkeley, CA\\r\\n\n",
       "231             2100 M L KING JR WAY\\r\\nBerkeley, CA\\r\\n\n",
       "246             2900 M L KING JR WAY\\r\\nBerkeley, CA\\r\\n\n",
       "255                   453 S. 17TH ST\\r\\nBerkeley, CA\\r\\n\n",
       "Name: Block_Location, dtype: object"
      ]
     },
     "execution_count": 9,
     "metadata": {},
     "output_type": "execute_result"
    }
   ],
   "source": [
    "calls[calls_lat_lon.isnull().any(axis=1)]['Block_Location'].head(10)"
   ]
  },
  {
   "cell_type": "markdown",
   "metadata": {},
   "source": [
    "Join in the extracted values."
   ]
  },
  {
   "cell_type": "code",
   "execution_count": 10,
   "metadata": {
    "ExecuteTime": {
     "end_time": "2018-02-02T15:15:19.328544Z",
     "start_time": "2018-02-02T15:15:19.287625Z"
    },
    "scrolled": true
   },
   "outputs": [
    {
     "data": {
      "text/html": [
       "<div>\n",
       "<style scoped>\n",
       "    .dataframe tbody tr th:only-of-type {\n",
       "        vertical-align: middle;\n",
       "    }\n",
       "\n",
       "    .dataframe tbody tr th {\n",
       "        vertical-align: top;\n",
       "    }\n",
       "\n",
       "    .dataframe thead th {\n",
       "        text-align: right;\n",
       "    }\n",
       "</style>\n",
       "<table border=\"1\" class=\"dataframe\">\n",
       "  <thead>\n",
       "    <tr style=\"text-align: right;\">\n",
       "      <th></th>\n",
       "      <th>CASENO</th>\n",
       "      <th>OFFENSE</th>\n",
       "      <th>EVENTDT</th>\n",
       "      <th>EVENTTM</th>\n",
       "      <th>CVLEGEND</th>\n",
       "      <th>CVDOW</th>\n",
       "      <th>InDbDate</th>\n",
       "      <th>Block_Location</th>\n",
       "      <th>BLKADDR</th>\n",
       "      <th>City</th>\n",
       "      <th>State</th>\n",
       "      <th>Lat</th>\n",
       "      <th>Lon</th>\n",
       "    </tr>\n",
       "  </thead>\n",
       "  <tbody>\n",
       "    <tr>\n",
       "      <th>0</th>\n",
       "      <td>18022300</td>\n",
       "      <td>DISTURBANCE</td>\n",
       "      <td>04/18/2018 12:00:00 AM</td>\n",
       "      <td>22:17</td>\n",
       "      <td>DISORDERLY CONDUCT</td>\n",
       "      <td>3</td>\n",
       "      <td>09/06/2018 03:30:12 AM</td>\n",
       "      <td>OREGON STREET &amp;amp; MCGEE AVE\\r\\nBerkeley, CA\\...</td>\n",
       "      <td>OREGON STREET &amp; MCGEE AVE</td>\n",
       "      <td>Berkeley</td>\n",
       "      <td>CA</td>\n",
       "      <td>37.856572</td>\n",
       "      <td>-122.275241</td>\n",
       "    </tr>\n",
       "    <tr>\n",
       "      <th>1</th>\n",
       "      <td>18026683</td>\n",
       "      <td>THEFT MISD. (UNDER $950)</td>\n",
       "      <td>05/09/2018 12:00:00 AM</td>\n",
       "      <td>21:25</td>\n",
       "      <td>LARCENY</td>\n",
       "      <td>3</td>\n",
       "      <td>09/06/2018 03:30:13 AM</td>\n",
       "      <td>200 UNIVERSITY AVE\\r\\nBerkeley, CA\\r\\n(37.8655...</td>\n",
       "      <td>200 UNIVERSITY AVE</td>\n",
       "      <td>Berkeley</td>\n",
       "      <td>CA</td>\n",
       "      <td>37.865511</td>\n",
       "      <td>-122.309967</td>\n",
       "    </tr>\n",
       "    <tr>\n",
       "      <th>2</th>\n",
       "      <td>18038550</td>\n",
       "      <td>THEFT MISD. (UNDER $950)</td>\n",
       "      <td>05/18/2018 12:00:00 AM</td>\n",
       "      <td>20:00</td>\n",
       "      <td>LARCENY</td>\n",
       "      <td>5</td>\n",
       "      <td>09/06/2018 03:30:09 AM</td>\n",
       "      <td>2200 MILVIA ST\\r\\nBerkeley, CA\\r\\n(37.868574, ...</td>\n",
       "      <td>2200 MILVIA ST</td>\n",
       "      <td>Berkeley</td>\n",
       "      <td>CA</td>\n",
       "      <td>37.868574</td>\n",
       "      <td>-122.270415</td>\n",
       "    </tr>\n",
       "    <tr>\n",
       "      <th>3</th>\n",
       "      <td>18014810</td>\n",
       "      <td>BURGLARY AUTO</td>\n",
       "      <td>03/13/2018 12:00:00 AM</td>\n",
       "      <td>08:50</td>\n",
       "      <td>BURGLARY - VEHICLE</td>\n",
       "      <td>2</td>\n",
       "      <td>09/06/2018 03:30:08 AM</td>\n",
       "      <td>1200 SIXTH ST\\r\\nBerkeley, CA\\r\\n(37.881142, -...</td>\n",
       "      <td>1200 SIXTH ST</td>\n",
       "      <td>Berkeley</td>\n",
       "      <td>CA</td>\n",
       "      <td>37.881142</td>\n",
       "      <td>-122.30191</td>\n",
       "    </tr>\n",
       "    <tr>\n",
       "      <th>4</th>\n",
       "      <td>18018643</td>\n",
       "      <td>ALCOHOL OFFENSE</td>\n",
       "      <td>03/31/2018 12:00:00 AM</td>\n",
       "      <td>13:29</td>\n",
       "      <td>LIQUOR LAW VIOLATION</td>\n",
       "      <td>6</td>\n",
       "      <td>09/06/2018 03:30:11 AM</td>\n",
       "      <td>CENTER STREET &amp;amp; SHATTUCK AVE\\r\\nBerkeley, ...</td>\n",
       "      <td>CENTER STREET &amp; SHATTUCK AVE</td>\n",
       "      <td>Berkeley</td>\n",
       "      <td>CA</td>\n",
       "      <td>37.870308</td>\n",
       "      <td>-122.26805</td>\n",
       "    </tr>\n",
       "  </tbody>\n",
       "</table>\n",
       "</div>"
      ],
      "text/plain": [
       "     CASENO                   OFFENSE                 EVENTDT EVENTTM  \\\n",
       "0  18022300               DISTURBANCE  04/18/2018 12:00:00 AM   22:17   \n",
       "1  18026683  THEFT MISD. (UNDER $950)  05/09/2018 12:00:00 AM   21:25   \n",
       "2  18038550  THEFT MISD. (UNDER $950)  05/18/2018 12:00:00 AM   20:00   \n",
       "3  18014810             BURGLARY AUTO  03/13/2018 12:00:00 AM   08:50   \n",
       "4  18018643           ALCOHOL OFFENSE  03/31/2018 12:00:00 AM   13:29   \n",
       "\n",
       "               CVLEGEND  CVDOW                InDbDate  \\\n",
       "0    DISORDERLY CONDUCT      3  09/06/2018 03:30:12 AM   \n",
       "1               LARCENY      3  09/06/2018 03:30:13 AM   \n",
       "2               LARCENY      5  09/06/2018 03:30:09 AM   \n",
       "3    BURGLARY - VEHICLE      2  09/06/2018 03:30:08 AM   \n",
       "4  LIQUOR LAW VIOLATION      6  09/06/2018 03:30:11 AM   \n",
       "\n",
       "                                      Block_Location  \\\n",
       "0  OREGON STREET &amp; MCGEE AVE\\r\\nBerkeley, CA\\...   \n",
       "1  200 UNIVERSITY AVE\\r\\nBerkeley, CA\\r\\n(37.8655...   \n",
       "2  2200 MILVIA ST\\r\\nBerkeley, CA\\r\\n(37.868574, ...   \n",
       "3  1200 SIXTH ST\\r\\nBerkeley, CA\\r\\n(37.881142, -...   \n",
       "4  CENTER STREET &amp; SHATTUCK AVE\\r\\nBerkeley, ...   \n",
       "\n",
       "                        BLKADDR      City State        Lat          Lon  \n",
       "0     OREGON STREET & MCGEE AVE  Berkeley    CA  37.856572  -122.275241  \n",
       "1            200 UNIVERSITY AVE  Berkeley    CA  37.865511  -122.309967  \n",
       "2                2200 MILVIA ST  Berkeley    CA  37.868574  -122.270415  \n",
       "3                 1200 SIXTH ST  Berkeley    CA  37.881142   -122.30191  \n",
       "4  CENTER STREET & SHATTUCK AVE  Berkeley    CA  37.870308   -122.26805  "
      ]
     },
     "execution_count": 10,
     "metadata": {},
     "output_type": "execute_result"
    }
   ],
   "source": [
    "if 'Lat' not in calls.columns:\n",
    "    calls = calls.merge(calls_lat_lon, left_index=True, right_index=True)\n",
    "calls.head()"
   ]
  },
  {
   "cell_type": "markdown",
   "metadata": {},
   "source": [
    "## Examining Location information\n",
    "\n",
    "Let's examine the geographic data (latitude and longitude).  Recall that we had some missing values.  Let's look at the behavior of these missing values according to crime type."
   ]
  },
  {
   "cell_type": "code",
   "execution_count": 11,
   "metadata": {
    "ExecuteTime": {
     "end_time": "2018-02-02T15:15:34.130428Z",
     "start_time": "2018-02-02T15:15:32.851717Z"
    }
   },
   "outputs": [
    {
     "data": {
      "image/png": "[encoded data removed]",
      "text/plain": [
       "<Figure size 432x288 with 1 Axes>"
      ]
     },
     "metadata": {
      "needs_background": "light"
     },
     "output_type": "display_data"
    }
   ],
   "source": [
    "missing_lat_lon = calls[calls[['Lat', 'Lon']].isnull().any(axis=1)]\n",
    "missing_lat_lon['CVLEGEND'].value_counts().plot(kind='barh');"
   ]
  },
  {
   "cell_type": "code",
   "execution_count": 22,
   "metadata": {},
   "outputs": [
    {
     "data": {
      "image/png": "[encoded data removed]",
      "text/plain": [
       "<Figure size 432x288 with 1 Axes>"
      ]
     },
     "metadata": {
      "needs_background": "light"
     },
     "output_type": "display_data"
    }
   ],
   "source": [
    "calls['CVLEGEND'].value_counts().plot(kind='barh');"
   ]
  },
  {
   "cell_type": "markdown",
   "metadata": {},
   "source": [
    "### Observations?"
   ]
  },
  {
   "cell_type": "markdown",
   "metadata": {},
   "source": [
    "There is a clear bias towards drug violations that is not present in the original data.  Therefore we should be careful when dropping missing values!"
   ]
  },
  {
   "cell_type": "markdown",
   "metadata": {},
   "source": [
    "We might further normalize the analysis by the frequency to find which type of crime has the highest proportion of missing values."
   ]
  },
  {
   "cell_type": "code",
   "execution_count": 12,
   "metadata": {
    "ExecuteTime": {
     "end_time": "2018-02-02T15:15:35.358758Z",
     "start_time": "2018-02-02T15:15:34.132788Z"
    }
   },
   "outputs": [
    {
     "data": {
      "image/png": "[encoded data removed]",
      "text/plain": [
       "<Figure size 432x288 with 1 Axes>"
      ]
     },
     "metadata": {
      "needs_background": "light"
     },
     "output_type": "display_data"
    }
   ],
   "source": [
    "(missing_lat_lon['CVLEGEND'].value_counts() \n",
    " / calls['CVLEGEND'].value_counts()\n",
    ").sort_values(ascending=False).plot(kind=\"barh\");"
   ]
  },
  {
   "cell_type": "code",
   "execution_count": null,
   "metadata": {},
   "outputs": [],
   "source": []
  }
 ],
 "metadata": {
  "kernelspec": {
   "display_name": "Python 3",
   "language": "python",
   "name": "python3"
  },
  "language_info": {
   "codemirror_mode": {
    "name": "ipython",
    "version": 3
   },
   "file_extension": ".py",
   "mimetype": "text/x-python",
   "name": "python",
   "nbconvert_exporter": "python",
   "pygments_lexer": "ipython3",
   "version": "3.7.3"
  }
 },
 "nbformat": 4,
 "nbformat_minor": 4
}
