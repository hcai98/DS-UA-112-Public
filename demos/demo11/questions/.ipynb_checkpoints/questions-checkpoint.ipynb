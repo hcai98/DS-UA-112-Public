{
 "cells": [
  {
   "cell_type": "markdown",
   "metadata": {},
   "source": [
    "### Question: Regular Expressions "
   ]
  },
  {
   "cell_type": "code",
   "execution_count": 24,
   "metadata": {},
   "outputs": [],
   "source": [
    "import numpy as np\n",
    "import pandas as pd\n",
    "import seaborn as sns\n",
    "import matplotlib.pyplot as plt\n",
    "%matplotlib inline\n",
    "import re"
   ]
  },
  {
   "cell_type": "markdown",
   "metadata": {},
   "source": [
    "#### 1. Phone Numbers"
   ]
  },
  {
   "cell_type": "markdown",
   "metadata": {},
   "source": [
    "\"my number is 123-456-7890.\"\n",
    "\n",
    "The phone number contains the following pattern:\n",
    "\n",
    "1. Three numbers\n",
    "1. Followed by a dash\n",
    "1. Followed by three numbers\n",
    "1. Followed by a dash\n",
    "1. Followed by four Numbers"
   ]
  },
  {
   "cell_type": "code",
   "execution_count": 2,
   "metadata": {},
   "outputs": [],
   "source": [
    "def is_phone_number(string):\n",
    "    \n",
    "    digits = '0123456789'\n",
    "    \n",
    "    def is_not_digit(token):\n",
    "        return token not in digits \n",
    "    \n",
    "    # Three numbers\n",
    "    for i in range(3):\n",
    "        if is_not_digit(string[i]):\n",
    "            return False\n",
    "    \n",
    "    # Followed by a dash\n",
    "    if string[3] != '-':\n",
    "        return False\n",
    "    \n",
    "    # Followed by three numbers\n",
    "    for i in range(4, 7):\n",
    "        if is_not_digit(string[i]):\n",
    "            return False\n",
    "        \n",
    "    # Followed by a dash    \n",
    "    if string[7] != '-':\n",
    "        return False\n",
    "    \n",
    "    # Followed by four numbers\n",
    "    for i in range(8, 12):\n",
    "        if is_not_digit(string[i]):\n",
    "            return False\n",
    "    \n",
    "    return True"
   ]
  },
  {
   "cell_type": "code",
   "execution_count": 25,
   "metadata": {},
   "outputs": [],
   "source": [
    "def is_phone_number(string):\n",
    "    regex = r\"[0-9]{3}-[0-9]{3}-[0-9]{4}\"\n",
    "    return re.search(regex, string) is not None"
   ]
  },
  {
   "cell_type": "code",
   "execution_count": 5,
   "metadata": {},
   "outputs": [
    {
     "data": {
      "text/plain": [
       "True"
      ]
     },
     "execution_count": 5,
     "metadata": {},
     "output_type": "execute_result"
    }
   ],
   "source": [
    "is_phone_number(\"382-384-3840\")"
   ]
  },
  {
   "cell_type": "markdown",
   "metadata": {},
   "source": [
    "#### 2. HTML Tags"
   ]
  },
  {
   "cell_type": "markdown",
   "metadata": {},
   "source": [
    "HTML contains text with annotations for formatting. For example,\n",
    "\n",
    "`<title> JupyterLab </title>`\n",
    "\n",
    "has opening tag `<title>` and closing tag `</title>` with text `JupyterLab`. How can we write a regular expresion to locate tags? "
   ]
  },
  {
   "cell_type": "code",
   "execution_count": 14,
   "metadata": {},
   "outputs": [],
   "source": [
    "html = \"<title> JupyterLab </title>\""
   ]
  },
  {
   "cell_type": "code",
   "execution_count": 19,
   "metadata": {},
   "outputs": [],
   "source": [
    "re.match(\"<>\", html)"
   ]
  },
  {
   "cell_type": "code",
   "execution_count": 22,
   "metadata": {},
   "outputs": [
    {
     "data": {
      "text/plain": [
       "<re.Match object; span=(0, 27), match='<title> JupyterLab </title>'>"
      ]
     },
     "execution_count": 22,
     "metadata": {},
     "output_type": "execute_result"
    }
   ],
   "source": [
    "re.match(\"<.*>\", html)"
   ]
  },
  {
   "cell_type": "code",
   "execution_count": 23,
   "metadata": {},
   "outputs": [
    {
     "data": {
      "text/plain": [
       "<re.Match object; span=(0, 7), match='<title>'>"
      ]
     },
     "execution_count": 23,
     "metadata": {},
     "output_type": "execute_result"
    }
   ],
   "source": [
    "re.match(\"<[^>]+>\", html)"
   ]
  },
  {
   "cell_type": "code",
   "execution_count": 34,
   "metadata": {},
   "outputs": [
    {
     "data": {
      "text/plain": [
       "<re.Match object; span=(0, 7), match='<title>'>"
      ]
     },
     "execution_count": 34,
     "metadata": {},
     "output_type": "execute_result"
    }
   ],
   "source": [
    "re.match(\"<.*?>\", html)"
   ]
  }
 ],
 "metadata": {
  "kernelspec": {
   "display_name": "Python 3",
   "language": "python",
   "name": "python3"
  },
  "language_info": {
   "codemirror_mode": {
    "name": "ipython",
    "version": 3
   },
   "file_extension": ".py",
   "mimetype": "text/x-python",
   "name": "python",
   "nbconvert_exporter": "python",
   "pygments_lexer": "ipython3",
   "version": "3.7.3"
  }
 },
 "nbformat": 4,
 "nbformat_minor": 4
}
