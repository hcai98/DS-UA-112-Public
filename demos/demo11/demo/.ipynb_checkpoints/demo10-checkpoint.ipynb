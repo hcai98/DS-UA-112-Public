{
 "cells": [
  {
   "cell_type": "code",
   "execution_count": 2,
   "metadata": {
    "ExecuteTime": {
     "end_time": "2018-02-02T15:15:15.363920Z",
     "start_time": "2018-02-02T15:15:14.337886Z"
    }
   },
   "outputs": [],
   "source": [
    "import numpy as np\n",
    "import matplotlib.pyplot as plt\n",
    "import pandas as pd\n",
    "import seaborn as sns\n",
    "%matplotlib inline"
   ]
  },
  {
   "cell_type": "markdown",
   "metadata": {},
   "source": [
    "## Text Processing and Dates"
   ]
  },
  {
   "cell_type": "code",
   "execution_count": 6,
   "metadata": {},
   "outputs": [
    {
     "name": "stdout",
     "output_type": "stream",
     "text": [
      "169.237.46.168 - - [26/Jan/2014:10:47:58 -0800] \"GET /stat141/Winter04/ HTTP/1.1\" 200 2585 \"http://anson.ucdavis.edu/courses/\"\n",
      "193.205.203.3 - - [2/Feb/2005:17:23:6 -0800] \"GET /stat141/Notes/dim.html HTTP/1.0\" 404 302 \"http://eeyore.ucdavis.edu/stat141/Notes/session.html\"\n",
      "169.237.46.240 - \"\" [3/Feb/2006:10:18:37 -0800] \"GET /stat141/homework/Solutions/hw1Sol.pdf HTTP/1.1\"\n"
     ]
    }
   ],
   "source": [
    "!more log.txt"
   ]
  },
  {
   "cell_type": "code",
   "execution_count": 7,
   "metadata": {},
   "outputs": [
    {
     "data": {
      "text/plain": [
       "'169.237.46.168 - - [26/Jan/2014:10:47:58 -0800] \"GET /stat141/Winter04/ HTTP/1.1\" 200 2585 \"http://anson.ucdavis.edu/courses/\"\\n'"
      ]
     },
     "execution_count": 7,
     "metadata": {},
     "output_type": "execute_result"
    }
   ],
   "source": [
    "lines = open('log.txt').readlines()\n",
    "first = lines[0]\n",
    "first"
   ]
  },
  {
   "cell_type": "markdown",
   "metadata": {},
   "source": [
    "String manipulation based on character positions."
   ]
  },
  {
   "cell_type": "code",
   "execution_count": 9,
   "metadata": {},
   "outputs": [
    {
     "data": {
      "text/plain": [
       "('2014', 'Jan', '26', '10', '47', '58')"
      ]
     },
     "execution_count": 9,
     "metadata": {},
     "output_type": "execute_result"
    }
   ],
   "source": [
    "time_str = first.split('[', 1)[1].split(' ', 1)[0]\n",
    "day, month, rest = time_str.split('/')\n",
    "year, hour, minute, second = rest.split(':')\n",
    "year, month, day, hour, minute, second"
   ]
  },
  {
   "cell_type": "code",
   "execution_count": null,
   "metadata": {},
   "outputs": [],
   "source": [
    "time_strs = (pd.Series(lines).str.split('[', 1, expand=True)[1]\n",
    "             .str.split(' ', 1, expand=True)[0])\n",
    "day_month_rest = time_strs.str.split('/', expand=True)\n",
    "pd.concat([day_month_rest.loc[:, 0:1], \n",
    "           day_month_rest[2].str.split(':', expand=True)], axis=1)"
   ]
  },
  {
   "cell_type": "markdown",
   "metadata": {},
   "source": [
    "String manipulation based on regular expressions."
   ]
  },
  {
   "cell_type": "code",
   "execution_count": 20,
   "metadata": {},
   "outputs": [
    {
     "data": {
      "text/plain": [
       "('26', 'Jan', '2014', '10', '47', '58')"
      ]
     },
     "execution_count": 20,
     "metadata": {},
     "output_type": "execute_result"
    }
   ],
   "source": [
    "temp.groups()"
   ]
  },
  {
   "cell_type": "code",
   "execution_count": 19,
   "metadata": {},
   "outputs": [
    {
     "data": {
      "text/plain": [
       "('2014', 'Jan', '26', '10', '47', '58')"
      ]
     },
     "execution_count": 19,
     "metadata": {},
     "output_type": "execute_result"
    }
   ],
   "source": [
    "import re\n",
    "pattern = r'(\\d+)/(\\w+)/(\\d+):(\\d+):(\\d+):(\\d+)'\n",
    "day, month, year, hour, minute, second = re.search(pattern, first).groups()\n",
    "year, month, day, hour, minute, second"
   ]
  },
  {
   "cell_type": "code",
   "execution_count": 21,
   "metadata": {},
   "outputs": [
    {
     "data": {
      "text/html": [
       "<div>\n",
       "<style scoped>\n",
       "    .dataframe tbody tr th:only-of-type {\n",
       "        vertical-align: middle;\n",
       "    }\n",
       "\n",
       "    .dataframe tbody tr th {\n",
       "        vertical-align: top;\n",
       "    }\n",
       "\n",
       "    .dataframe thead th {\n",
       "        text-align: right;\n",
       "    }\n",
       "</style>\n",
       "<table border=\"1\" class=\"dataframe\">\n",
       "  <thead>\n",
       "    <tr style=\"text-align: right;\">\n",
       "      <th></th>\n",
       "      <th>0</th>\n",
       "      <th>1</th>\n",
       "      <th>2</th>\n",
       "      <th>3</th>\n",
       "      <th>4</th>\n",
       "      <th>5</th>\n",
       "    </tr>\n",
       "  </thead>\n",
       "  <tbody>\n",
       "    <tr>\n",
       "      <th>0</th>\n",
       "      <td>26</td>\n",
       "      <td>Jan</td>\n",
       "      <td>2014</td>\n",
       "      <td>10</td>\n",
       "      <td>47</td>\n",
       "      <td>58</td>\n",
       "    </tr>\n",
       "    <tr>\n",
       "      <th>1</th>\n",
       "      <td>2</td>\n",
       "      <td>Feb</td>\n",
       "      <td>2005</td>\n",
       "      <td>17</td>\n",
       "      <td>23</td>\n",
       "      <td>6</td>\n",
       "    </tr>\n",
       "    <tr>\n",
       "      <th>2</th>\n",
       "      <td>3</td>\n",
       "      <td>Feb</td>\n",
       "      <td>2006</td>\n",
       "      <td>10</td>\n",
       "      <td>18</td>\n",
       "      <td>37</td>\n",
       "    </tr>\n",
       "  </tbody>\n",
       "</table>\n",
       "</div>"
      ],
      "text/plain": [
       "    0    1     2   3   4   5\n",
       "0  26  Jan  2014  10  47  58\n",
       "1   2  Feb  2005  17  23   6\n",
       "2   3  Feb  2006  10  18  37"
      ]
     },
     "execution_count": 21,
     "metadata": {},
     "output_type": "execute_result"
    }
   ],
   "source": [
    "pd.Series(lines).str.extract(pattern)"
   ]
  },
  {
   "cell_type": "markdown",
   "metadata": {},
   "source": [
    "Date parsing using the `datetime` module."
   ]
  },
  {
   "cell_type": "code",
   "execution_count": 22,
   "metadata": {},
   "outputs": [
    {
     "data": {
      "text/plain": [
       "datetime.datetime(2014, 1, 26, 10, 47, 58)"
      ]
     },
     "execution_count": 22,
     "metadata": {},
     "output_type": "execute_result"
    }
   ],
   "source": [
    "from datetime import datetime\n",
    "datetime.strptime(time_str, '%d/%b/%Y:%H:%M:%S')"
   ]
  },
  {
   "cell_type": "code",
   "execution_count": 23,
   "metadata": {},
   "outputs": [
    {
     "data": {
      "text/plain": [
       "0   2014-01-26 10:47:58\n",
       "1   2005-02-02 17:23:06\n",
       "2   2006-02-03 10:18:37\n",
       "Name: 0, dtype: datetime64[ns]"
      ]
     },
     "execution_count": 23,
     "metadata": {},
     "output_type": "execute_result"
    }
   ],
   "source": [
    "pd.Series(lines).str.extract(r'\\[(.*) -0800\\]')[0].apply(\n",
    "    lambda s: datetime.strptime(s, '%d/%b/%Y:%H:%M:%S'))"
   ]
  },
  {
   "cell_type": "markdown",
   "metadata": {},
   "source": [
    "## Text Processing Case Study\n",
    "\n",
    "In this example, we will apply string processing to the process of data cleaning and exploratory data analysis."
   ]
  },
  {
   "cell_type": "markdown",
   "metadata": {},
   "source": [
    "### Getting the Data\n",
    "\n",
    "The city of Berkeley maintains an [Open Data Portal](https://data.cityofberkeley.info/) for citizens to access data about the city.  We will be examining [Call Data](https://data.cityofberkeley.info/Public-Safety/Berkeley-PD-Calls-for-Service/k2nh-s5h5).\n",
    "\n",
    "<img src=\"calls_desc.png\" width=800px />\n",
    "\n"
   ]
  },
  {
   "cell_type": "code",
   "execution_count": 3,
   "metadata": {
    "ExecuteTime": {
     "end_time": "2018-02-02T15:15:19.115040Z",
     "start_time": "2018-02-02T15:15:19.070620Z"
    }
   },
   "outputs": [
    {
     "name": "stdout",
     "output_type": "stream",
     "text": [
      "Using cached version that was downloaded (UTC): Thu Feb 14 18:31:38 2019\n"
     ]
    },
    {
     "data": {
      "text/html": [
       "<div>\n",
       "<style scoped>\n",
       "    .dataframe tbody tr th:only-of-type {\n",
       "        vertical-align: middle;\n",
       "    }\n",
       "\n",
       "    .dataframe tbody tr th {\n",
       "        vertical-align: top;\n",
       "    }\n",
       "\n",
       "    .dataframe thead th {\n",
       "        text-align: right;\n",
       "    }\n",
       "</style>\n",
       "<table border=\"1\" class=\"dataframe\">\n",
       "  <thead>\n",
       "    <tr style=\"text-align: right;\">\n",
       "      <th></th>\n",
       "      <th>CASENO</th>\n",
       "      <th>OFFENSE</th>\n",
       "      <th>EVENTDT</th>\n",
       "      <th>EVENTTM</th>\n",
       "      <th>CVLEGEND</th>\n",
       "      <th>CVDOW</th>\n",
       "      <th>InDbDate</th>\n",
       "      <th>Block_Location</th>\n",
       "      <th>BLKADDR</th>\n",
       "      <th>City</th>\n",
       "      <th>State</th>\n",
       "    </tr>\n",
       "  </thead>\n",
       "  <tbody>\n",
       "    <tr>\n",
       "      <th>0</th>\n",
       "      <td>18091151</td>\n",
       "      <td>IDENTITY THEFT</td>\n",
       "      <td>07/12/2018 12:00:00 AM</td>\n",
       "      <td>08:45</td>\n",
       "      <td>FRAUD</td>\n",
       "      <td>4</td>\n",
       "      <td>02/14/2019 09:31:00 AM</td>\n",
       "      <td>2700 SHASTA RD\\nBerkeley, CA\\n(37.885559, -122...</td>\n",
       "      <td>2700 SHASTA RD</td>\n",
       "      <td>Berkeley</td>\n",
       "      <td>CA</td>\n",
       "    </tr>\n",
       "    <tr>\n",
       "      <th>1</th>\n",
       "      <td>18043498</td>\n",
       "      <td>ROBBERY</td>\n",
       "      <td>08/02/2018 12:00:00 AM</td>\n",
       "      <td>18:15</td>\n",
       "      <td>ROBBERY</td>\n",
       "      <td>4</td>\n",
       "      <td>02/14/2019 09:31:00 AM</td>\n",
       "      <td>OXFORD STREET &amp;amp; ALLSTON WY\\nBerkeley, CA\\n...</td>\n",
       "      <td>OXFORD STREET &amp; ALLSTON WY</td>\n",
       "      <td>Berkeley</td>\n",
       "      <td>CA</td>\n",
       "    </tr>\n",
       "    <tr>\n",
       "      <th>2</th>\n",
       "      <td>18063390</td>\n",
       "      <td>BURGLARY AUTO</td>\n",
       "      <td>11/12/2018 12:00:00 AM</td>\n",
       "      <td>11:45</td>\n",
       "      <td>BURGLARY - VEHICLE</td>\n",
       "      <td>1</td>\n",
       "      <td>02/14/2019 09:31:04 AM</td>\n",
       "      <td>1700 FOURTH ST\\nBerkeley, CA\\n(37.871883, -122...</td>\n",
       "      <td>1700 FOURTH ST</td>\n",
       "      <td>Berkeley</td>\n",
       "      <td>CA</td>\n",
       "    </tr>\n",
       "    <tr>\n",
       "      <th>3</th>\n",
       "      <td>18036494</td>\n",
       "      <td>ROBBERY</td>\n",
       "      <td>06/28/2018 12:00:00 AM</td>\n",
       "      <td>20:00</td>\n",
       "      <td>ROBBERY</td>\n",
       "      <td>4</td>\n",
       "      <td>02/14/2019 09:31:00 AM</td>\n",
       "      <td>WEBSTER STREET &amp;amp; HILLEGASS AV\\nBerkeley, C...</td>\n",
       "      <td>WEBSTER STREET &amp; HILLEGASS AV</td>\n",
       "      <td>Berkeley</td>\n",
       "      <td>CA</td>\n",
       "    </tr>\n",
       "    <tr>\n",
       "      <th>4</th>\n",
       "      <td>18037878</td>\n",
       "      <td>BURGLARY RESIDENTIAL</td>\n",
       "      <td>06/30/2018 12:00:00 AM</td>\n",
       "      <td>08:00</td>\n",
       "      <td>BURGLARY - RESIDENTIAL</td>\n",
       "      <td>6</td>\n",
       "      <td>02/14/2019 09:31:00 AM</td>\n",
       "      <td>1200 CORNELL AVE\\nBerkeley, CA\\n(37.882739, -1...</td>\n",
       "      <td>1200 CORNELL AVE</td>\n",
       "      <td>Berkeley</td>\n",
       "      <td>CA</td>\n",
       "    </tr>\n",
       "  </tbody>\n",
       "</table>\n",
       "</div>"
      ],
      "text/plain": [
       "     CASENO               OFFENSE                 EVENTDT EVENTTM  \\\n",
       "0  18091151        IDENTITY THEFT  07/12/2018 12:00:00 AM   08:45   \n",
       "1  18043498               ROBBERY  08/02/2018 12:00:00 AM   18:15   \n",
       "2  18063390         BURGLARY AUTO  11/12/2018 12:00:00 AM   11:45   \n",
       "3  18036494               ROBBERY  06/28/2018 12:00:00 AM   20:00   \n",
       "4  18037878  BURGLARY RESIDENTIAL  06/30/2018 12:00:00 AM   08:00   \n",
       "\n",
       "                 CVLEGEND  CVDOW                InDbDate  \\\n",
       "0                   FRAUD      4  02/14/2019 09:31:00 AM   \n",
       "1                 ROBBERY      4  02/14/2019 09:31:00 AM   \n",
       "2      BURGLARY - VEHICLE      1  02/14/2019 09:31:04 AM   \n",
       "3                 ROBBERY      4  02/14/2019 09:31:00 AM   \n",
       "4  BURGLARY - RESIDENTIAL      6  02/14/2019 09:31:00 AM   \n",
       "\n",
       "                                      Block_Location  \\\n",
       "0  2700 SHASTA RD\\nBerkeley, CA\\n(37.885559, -122...   \n",
       "1  OXFORD STREET &amp; ALLSTON WY\\nBerkeley, CA\\n...   \n",
       "2  1700 FOURTH ST\\nBerkeley, CA\\n(37.871883, -122...   \n",
       "3  WEBSTER STREET &amp; HILLEGASS AV\\nBerkeley, C...   \n",
       "4  1200 CORNELL AVE\\nBerkeley, CA\\n(37.882739, -1...   \n",
       "\n",
       "                         BLKADDR      City State  \n",
       "0                 2700 SHASTA RD  Berkeley    CA  \n",
       "1     OXFORD STREET & ALLSTON WY  Berkeley    CA  \n",
       "2                 1700 FOURTH ST  Berkeley    CA  \n",
       "3  WEBSTER STREET & HILLEGASS AV  Berkeley    CA  \n",
       "4               1200 CORNELL AVE  Berkeley    CA  "
      ]
     },
     "execution_count": 3,
     "metadata": {},
     "output_type": "execute_result"
    }
   ],
   "source": [
    "import ds100_utils\n",
    "\n",
    "calls_url = 'https://data.cityofberkeley.info/api/views/k2nh-s5h5/rows.csv?accessType=DOWNLOAD'\n",
    "calls_file = ds100_utils.fetch_and_cache(calls_url, 'calls.csv')\n",
    "calls = pd.read_csv(calls_file, warn_bad_lines=True)\n",
    "calls.head()"
   ]
  },
  {
   "cell_type": "markdown",
   "metadata": {},
   "source": [
    "How many records did we get?"
   ]
  },
  {
   "cell_type": "code",
   "execution_count": 4,
   "metadata": {
    "ExecuteTime": {
     "end_time": "2018-02-02T15:15:19.122345Z",
     "start_time": "2018-02-02T15:15:19.118071Z"
    }
   },
   "outputs": [
    {
     "data": {
      "text/plain": [
       "4337"
      ]
     },
     "execution_count": 4,
     "metadata": {},
     "output_type": "execute_result"
    }
   ],
   "source": [
    "len(calls)"
   ]
  },
  {
   "cell_type": "markdown",
   "metadata": {},
   "source": [
    "What does an example `Block_Location` value look like?"
   ]
  },
  {
   "cell_type": "code",
   "execution_count": 5,
   "metadata": {},
   "outputs": [
    {
     "name": "stdout",
     "output_type": "stream",
     "text": [
      "2700 SHASTA RD\n",
      "Berkeley, CA\n",
      "(37.885559, -122.258485)\n"
     ]
    }
   ],
   "source": [
    "print(calls['Block_Location'].iloc[0])"
   ]
  },
  {
   "cell_type": "markdown",
   "metadata": {
    "solution2": "hidden",
    "solution2_first": true
   },
   "source": [
    "### Preliminary observations on the data?"
   ]
  },
  {
   "cell_type": "markdown",
   "metadata": {
    "solution2": "hidden"
   },
   "source": [
    "1. `EVENTDT` -- Contains the incorrect time\n",
    "1. `EVENTTM` -- Contains the time in 24 hour format (What timezone?)\n",
    "1. `CVDOW` -- Encodes the day of the week (see data documentation).\n",
    "1. `InDbDate` -- Appears to be correctly formatted and appears pretty consistent in time.\n",
    "1. **`Block_Location` -- a multi-line string that contains coordinates.**\n",
    "1. `BLKADDR` -- Appears to be the address in `Block Location`.\n",
    "1. `City` and `State` seem redundant given this is supposed to be the city of Berkeley dataset."
   ]
  },
  {
   "cell_type": "markdown",
   "metadata": {},
   "source": [
    "### Extracting locations\n",
    "\n",
    "The block location contains geographic coordinates. Let's extract them."
   ]
  },
  {
   "cell_type": "code",
   "execution_count": 6,
   "metadata": {
    "ExecuteTime": {
     "end_time": "2018-02-02T15:15:19.230720Z",
     "start_time": "2018-02-02T15:15:19.225971Z"
    }
   },
   "outputs": [
    {
     "data": {
      "text/plain": [
       "'2700 SHASTA RD\\nBerkeley, CA\\n(37.885559, -122.258485)'"
      ]
     },
     "execution_count": 6,
     "metadata": {},
     "output_type": "execute_result"
    }
   ],
   "source": [
    "calls['Block_Location'][0]"
   ]
  },
  {
   "cell_type": "code",
   "execution_count": 7,
   "metadata": {
    "ExecuteTime": {
     "end_time": "2018-02-02T15:15:19.268222Z",
     "start_time": "2018-02-02T15:15:19.233193Z"
    }
   },
   "outputs": [
    {
     "data": {
      "text/html": [
       "<div>\n",
       "<style scoped>\n",
       "    .dataframe tbody tr th:only-of-type {\n",
       "        vertical-align: middle;\n",
       "    }\n",
       "\n",
       "    .dataframe tbody tr th {\n",
       "        vertical-align: top;\n",
       "    }\n",
       "\n",
       "    .dataframe thead th {\n",
       "        text-align: right;\n",
       "    }\n",
       "</style>\n",
       "<table border=\"1\" class=\"dataframe\">\n",
       "  <thead>\n",
       "    <tr style=\"text-align: right;\">\n",
       "      <th></th>\n",
       "      <th>Lat</th>\n",
       "      <th>Lon</th>\n",
       "    </tr>\n",
       "  </thead>\n",
       "  <tbody>\n",
       "    <tr>\n",
       "      <th>0</th>\n",
       "      <td>37.885559</td>\n",
       "      <td>-122.258485</td>\n",
       "    </tr>\n",
       "    <tr>\n",
       "      <th>1</th>\n",
       "      <td>37.869652</td>\n",
       "      <td>-122.265882</td>\n",
       "    </tr>\n",
       "    <tr>\n",
       "      <th>2</th>\n",
       "      <td>37.871883</td>\n",
       "      <td>-122.301255</td>\n",
       "    </tr>\n",
       "    <tr>\n",
       "      <th>3</th>\n",
       "      <td>37.855824</td>\n",
       "      <td>-122.25502</td>\n",
       "    </tr>\n",
       "    <tr>\n",
       "      <th>4</th>\n",
       "      <td>37.882739</td>\n",
       "      <td>-122.293754</td>\n",
       "    </tr>\n",
       "    <tr>\n",
       "      <th>5</th>\n",
       "      <td>37.850809</td>\n",
       "      <td>-122.291042</td>\n",
       "    </tr>\n",
       "    <tr>\n",
       "      <th>6</th>\n",
       "      <td>37.85177</td>\n",
       "      <td>-122.276489</td>\n",
       "    </tr>\n",
       "    <tr>\n",
       "      <th>7</th>\n",
       "      <td>37.869764</td>\n",
       "      <td>-122.28655</td>\n",
       "    </tr>\n",
       "    <tr>\n",
       "      <th>8</th>\n",
       "      <td>37.873865</td>\n",
       "      <td>-122.300777</td>\n",
       "    </tr>\n",
       "    <tr>\n",
       "      <th>9</th>\n",
       "      <td>37.879933</td>\n",
       "      <td>-122.283098</td>\n",
       "    </tr>\n",
       "  </tbody>\n",
       "</table>\n",
       "</div>"
      ],
      "text/plain": [
       "         Lat          Lon\n",
       "0  37.885559  -122.258485\n",
       "1  37.869652  -122.265882\n",
       "2  37.871883  -122.301255\n",
       "3  37.855824   -122.25502\n",
       "4  37.882739  -122.293754\n",
       "5  37.850809  -122.291042\n",
       "6   37.85177  -122.276489\n",
       "7  37.869764   -122.28655\n",
       "8  37.873865  -122.300777\n",
       "9  37.879933  -122.283098"
      ]
     },
     "execution_count": 7,
     "metadata": {},
     "output_type": "execute_result"
    }
   ],
   "source": [
    "calls_lat_lon = (\n",
    "    calls['Block_Location']\n",
    "    .str.extract(\"\\((\\d+\\.\\d+)\\, (-\\d+\\.\\d+)\\)\")\n",
    ")\n",
    "calls_lat_lon.columns = ['Lat', 'Lon']\n",
    "calls_lat_lon.head(10)"
   ]
  },
  {
   "cell_type": "markdown",
   "metadata": {},
   "source": [
    "How many records have missing values?"
   ]
  },
  {
   "cell_type": "code",
   "execution_count": 8,
   "metadata": {
    "ExecuteTime": {
     "end_time": "2018-02-02T15:15:19.280471Z",
     "start_time": "2018-02-02T15:15:19.271307Z"
    }
   },
   "outputs": [
    {
     "data": {
      "text/plain": [
       "Lat    167\n",
       "Lon    167\n",
       "dtype: int64"
      ]
     },
     "execution_count": 8,
     "metadata": {},
     "output_type": "execute_result"
    }
   ],
   "source": [
    "calls_lat_lon.isnull().sum()"
   ]
  },
  {
   "cell_type": "markdown",
   "metadata": {},
   "source": [
    "Examine the missing values."
   ]
  },
  {
   "cell_type": "code",
   "execution_count": 10,
   "metadata": {},
   "outputs": [
    {
     "data": {
      "text/plain": [
       "14     37.8684950000000000, -122.2694450000000000\\nBe...\n",
       "49                       200 TANGLEWOOD RD\\nBerkeley, CA\n",
       "59                           600 BONNIE LN\\nBerkeley, CA\n",
       "76        UNIVERSITY AV &amp; EASTSHORE BL\\nBerkeley, CA\n",
       "124                       700 WHITAKER AVE\\nBerkeley, CA\n",
       "140                   2100 M L KING JR WAY\\nBerkeley, CA\n",
       "147                    1600 SIXTY-THIRD ST\\nBerkeley, CA\n",
       "180                   2700 M L KING JR WAY\\nBerkeley, CA\n",
       "236          FULTON STREET &amp;DURANT AVE\\nBerkeley, CA\n",
       "240         SHATTUCK AVENUE &amp;CENTER ST\\nBerkeley, CA\n",
       "Name: Block_Location, dtype: object"
      ]
     },
     "execution_count": 10,
     "metadata": {},
     "output_type": "execute_result"
    }
   ],
   "source": [
    "calls[calls_lat_lon.isnull().any(axis=1)]['Block_Location'].head(10)"
   ]
  },
  {
   "cell_type": "markdown",
   "metadata": {},
   "source": [
    "Join in the extracted values."
   ]
  },
  {
   "cell_type": "code",
   "execution_count": 11,
   "metadata": {
    "ExecuteTime": {
     "end_time": "2018-02-02T15:15:19.328544Z",
     "start_time": "2018-02-02T15:15:19.287625Z"
    },
    "scrolled": true
   },
   "outputs": [
    {
     "data": {
      "text/html": [
       "<div>\n",
       "<style scoped>\n",
       "    .dataframe tbody tr th:only-of-type {\n",
       "        vertical-align: middle;\n",
       "    }\n",
       "\n",
       "    .dataframe tbody tr th {\n",
       "        vertical-align: top;\n",
       "    }\n",
       "\n",
       "    .dataframe thead th {\n",
       "        text-align: right;\n",
       "    }\n",
       "</style>\n",
       "<table border=\"1\" class=\"dataframe\">\n",
       "  <thead>\n",
       "    <tr style=\"text-align: right;\">\n",
       "      <th></th>\n",
       "      <th>CASENO</th>\n",
       "      <th>OFFENSE</th>\n",
       "      <th>EVENTDT</th>\n",
       "      <th>EVENTTM</th>\n",
       "      <th>CVLEGEND</th>\n",
       "      <th>CVDOW</th>\n",
       "      <th>InDbDate</th>\n",
       "      <th>Block_Location</th>\n",
       "      <th>BLKADDR</th>\n",
       "      <th>City</th>\n",
       "      <th>State</th>\n",
       "      <th>Lat</th>\n",
       "      <th>Lon</th>\n",
       "    </tr>\n",
       "  </thead>\n",
       "  <tbody>\n",
       "    <tr>\n",
       "      <th>0</th>\n",
       "      <td>18091151</td>\n",
       "      <td>IDENTITY THEFT</td>\n",
       "      <td>07/12/2018 12:00:00 AM</td>\n",
       "      <td>08:45</td>\n",
       "      <td>FRAUD</td>\n",
       "      <td>4</td>\n",
       "      <td>02/14/2019 09:31:00 AM</td>\n",
       "      <td>2700 SHASTA RD\\nBerkeley, CA\\n(37.885559, -122...</td>\n",
       "      <td>2700 SHASTA RD</td>\n",
       "      <td>Berkeley</td>\n",
       "      <td>CA</td>\n",
       "      <td>37.885559</td>\n",
       "      <td>-122.258485</td>\n",
       "    </tr>\n",
       "    <tr>\n",
       "      <th>1</th>\n",
       "      <td>18043498</td>\n",
       "      <td>ROBBERY</td>\n",
       "      <td>08/02/2018 12:00:00 AM</td>\n",
       "      <td>18:15</td>\n",
       "      <td>ROBBERY</td>\n",
       "      <td>4</td>\n",
       "      <td>02/14/2019 09:31:00 AM</td>\n",
       "      <td>OXFORD STREET &amp;amp; ALLSTON WY\\nBerkeley, CA\\n...</td>\n",
       "      <td>OXFORD STREET &amp; ALLSTON WY</td>\n",
       "      <td>Berkeley</td>\n",
       "      <td>CA</td>\n",
       "      <td>37.869652</td>\n",
       "      <td>-122.265882</td>\n",
       "    </tr>\n",
       "    <tr>\n",
       "      <th>2</th>\n",
       "      <td>18063390</td>\n",
       "      <td>BURGLARY AUTO</td>\n",
       "      <td>11/12/2018 12:00:00 AM</td>\n",
       "      <td>11:45</td>\n",
       "      <td>BURGLARY - VEHICLE</td>\n",
       "      <td>1</td>\n",
       "      <td>02/14/2019 09:31:04 AM</td>\n",
       "      <td>1700 FOURTH ST\\nBerkeley, CA\\n(37.871883, -122...</td>\n",
       "      <td>1700 FOURTH ST</td>\n",
       "      <td>Berkeley</td>\n",
       "      <td>CA</td>\n",
       "      <td>37.871883</td>\n",
       "      <td>-122.301255</td>\n",
       "    </tr>\n",
       "    <tr>\n",
       "      <th>3</th>\n",
       "      <td>18036494</td>\n",
       "      <td>ROBBERY</td>\n",
       "      <td>06/28/2018 12:00:00 AM</td>\n",
       "      <td>20:00</td>\n",
       "      <td>ROBBERY</td>\n",
       "      <td>4</td>\n",
       "      <td>02/14/2019 09:31:00 AM</td>\n",
       "      <td>WEBSTER STREET &amp;amp; HILLEGASS AV\\nBerkeley, C...</td>\n",
       "      <td>WEBSTER STREET &amp; HILLEGASS AV</td>\n",
       "      <td>Berkeley</td>\n",
       "      <td>CA</td>\n",
       "      <td>37.855824</td>\n",
       "      <td>-122.25502</td>\n",
       "    </tr>\n",
       "    <tr>\n",
       "      <th>4</th>\n",
       "      <td>18037878</td>\n",
       "      <td>BURGLARY RESIDENTIAL</td>\n",
       "      <td>06/30/2018 12:00:00 AM</td>\n",
       "      <td>08:00</td>\n",
       "      <td>BURGLARY - RESIDENTIAL</td>\n",
       "      <td>6</td>\n",
       "      <td>02/14/2019 09:31:00 AM</td>\n",
       "      <td>1200 CORNELL AVE\\nBerkeley, CA\\n(37.882739, -1...</td>\n",
       "      <td>1200 CORNELL AVE</td>\n",
       "      <td>Berkeley</td>\n",
       "      <td>CA</td>\n",
       "      <td>37.882739</td>\n",
       "      <td>-122.293754</td>\n",
       "    </tr>\n",
       "  </tbody>\n",
       "</table>\n",
       "</div>"
      ],
      "text/plain": [
       "     CASENO               OFFENSE                 EVENTDT EVENTTM  \\\n",
       "0  18091151        IDENTITY THEFT  07/12/2018 12:00:00 AM   08:45   \n",
       "1  18043498               ROBBERY  08/02/2018 12:00:00 AM   18:15   \n",
       "2  18063390         BURGLARY AUTO  11/12/2018 12:00:00 AM   11:45   \n",
       "3  18036494               ROBBERY  06/28/2018 12:00:00 AM   20:00   \n",
       "4  18037878  BURGLARY RESIDENTIAL  06/30/2018 12:00:00 AM   08:00   \n",
       "\n",
       "                 CVLEGEND  CVDOW                InDbDate  \\\n",
       "0                   FRAUD      4  02/14/2019 09:31:00 AM   \n",
       "1                 ROBBERY      4  02/14/2019 09:31:00 AM   \n",
       "2      BURGLARY - VEHICLE      1  02/14/2019 09:31:04 AM   \n",
       "3                 ROBBERY      4  02/14/2019 09:31:00 AM   \n",
       "4  BURGLARY - RESIDENTIAL      6  02/14/2019 09:31:00 AM   \n",
       "\n",
       "                                      Block_Location  \\\n",
       "0  2700 SHASTA RD\\nBerkeley, CA\\n(37.885559, -122...   \n",
       "1  OXFORD STREET &amp; ALLSTON WY\\nBerkeley, CA\\n...   \n",
       "2  1700 FOURTH ST\\nBerkeley, CA\\n(37.871883, -122...   \n",
       "3  WEBSTER STREET &amp; HILLEGASS AV\\nBerkeley, C...   \n",
       "4  1200 CORNELL AVE\\nBerkeley, CA\\n(37.882739, -1...   \n",
       "\n",
       "                         BLKADDR      City State        Lat          Lon  \n",
       "0                 2700 SHASTA RD  Berkeley    CA  37.885559  -122.258485  \n",
       "1     OXFORD STREET & ALLSTON WY  Berkeley    CA  37.869652  -122.265882  \n",
       "2                 1700 FOURTH ST  Berkeley    CA  37.871883  -122.301255  \n",
       "3  WEBSTER STREET & HILLEGASS AV  Berkeley    CA  37.855824   -122.25502  \n",
       "4               1200 CORNELL AVE  Berkeley    CA  37.882739  -122.293754  "
      ]
     },
     "execution_count": 11,
     "metadata": {},
     "output_type": "execute_result"
    }
   ],
   "source": [
    "if 'Lat' not in calls.columns:\n",
    "    calls = calls.merge(calls_lat_lon, left_index=True, right_index=True)\n",
    "calls.head()"
   ]
  },
  {
   "cell_type": "markdown",
   "metadata": {},
   "source": [
    "## Examining Location information\n",
    "\n",
    "Let's examine the geographic data (latitude and longitude).  Recall that we had some missing values.  Let's look at the behavior of these missing values according to crime type."
   ]
  },
  {
   "cell_type": "code",
   "execution_count": 12,
   "metadata": {
    "ExecuteTime": {
     "end_time": "2018-02-02T15:15:34.130428Z",
     "start_time": "2018-02-02T15:15:32.851717Z"
    }
   },
   "outputs": [
    {
     "data": {
      "image/png": "[encoded data removed]",
      "text/plain": [
       "<Figure size 432x288 with 1 Axes>"
      ]
     },
     "metadata": {
      "needs_background": "light"
     },
     "output_type": "display_data"
    }
   ],
   "source": [
    "missing_lat_lon = calls[calls[['Lat', 'Lon']].isnull().any(axis=1)]\n",
    "missing_lat_lon['CVLEGEND'].value_counts().plot(kind='barh');"
   ]
  },
  {
   "cell_type": "code",
   "execution_count": 13,
   "metadata": {},
   "outputs": [
    {
     "data": {
      "image/png": "[encoded data removed]",
      "text/plain": [
       "<Figure size 432x288 with 1 Axes>"
      ]
     },
     "metadata": {
      "needs_background": "light"
     },
     "output_type": "display_data"
    }
   ],
   "source": [
    "calls['CVLEGEND'].value_counts().plot(kind='barh');"
   ]
  },
  {
   "cell_type": "markdown",
   "metadata": {},
   "source": [
    "### Observations?"
   ]
  },
  {
   "cell_type": "markdown",
   "metadata": {},
   "source": [
    "There is a clear bias towards drug violations that is not present in the original data.  Therefore we should be careful when dropping missing values!"
   ]
  },
  {
   "cell_type": "markdown",
   "metadata": {},
   "source": [
    "We might further normalize the analysis by the frequency to find which type of crime has the highest proportion of missing values."
   ]
  },
  {
   "cell_type": "code",
   "execution_count": 14,
   "metadata": {
    "ExecuteTime": {
     "end_time": "2018-02-02T15:15:35.358758Z",
     "start_time": "2018-02-02T15:15:34.132788Z"
    }
   },
   "outputs": [
    {
     "data": {
      "image/png": "[encoded data removed]",
      "text/plain": [
       "<Figure size 432x288 with 1 Axes>"
      ]
     },
     "metadata": {
      "needs_background": "light"
     },
     "output_type": "display_data"
    }
   ],
   "source": [
    "(missing_lat_lon['CVLEGEND'].value_counts() \n",
    " / calls['CVLEGEND'].value_counts()\n",
    ").sort_values(ascending=False).plot(kind=\"barh\");"
   ]
  },
  {
   "cell_type": "markdown",
   "metadata": {},
   "source": [
    "Now, let's make a crime map."
   ]
  },
  {
   "cell_type": "code",
   "execution_count": 1,
   "metadata": {},
   "outputs": [
    {
     "ename": "ModuleNotFoundError",
     "evalue": "No module named 'folium'",
     "output_type": "error",
     "traceback": [
      "\u001b[1;31m---------------------------------------------------------------------------\u001b[0m",
      "\u001b[1;31mModuleNotFoundError\u001b[0m                       Traceback (most recent call last)",
      "\u001b[1;32m<ipython-input-1-1c3a61bb4b33>\u001b[0m in \u001b[0;36m<module>\u001b[1;34m\u001b[0m\n\u001b[1;32m----> 1\u001b[1;33m \u001b[1;32mimport\u001b[0m \u001b[0mfolium\u001b[0m\u001b[1;33m\u001b[0m\u001b[1;33m\u001b[0m\u001b[0m\n\u001b[0m\u001b[0;32m      2\u001b[0m \u001b[1;32mimport\u001b[0m \u001b[0mfolium\u001b[0m\u001b[1;33m.\u001b[0m\u001b[0mplugins\u001b[0m\u001b[1;33m\u001b[0m\u001b[1;33m\u001b[0m\u001b[0m\n\u001b[0;32m      3\u001b[0m \u001b[1;33m\u001b[0m\u001b[0m\n\u001b[0;32m      4\u001b[0m \u001b[0mSF_COORDINATES\u001b[0m \u001b[1;33m=\u001b[0m \u001b[1;33m(\u001b[0m\u001b[1;36m37.87\u001b[0m\u001b[1;33m,\u001b[0m \u001b[1;33m-\u001b[0m\u001b[1;36m122.28\u001b[0m\u001b[1;33m)\u001b[0m\u001b[1;33m\u001b[0m\u001b[1;33m\u001b[0m\u001b[0m\n\u001b[0;32m      5\u001b[0m \u001b[0msf_map\u001b[0m \u001b[1;33m=\u001b[0m \u001b[0mfolium\u001b[0m\u001b[1;33m.\u001b[0m\u001b[0mMap\u001b[0m\u001b[1;33m(\u001b[0m\u001b[0mlocation\u001b[0m\u001b[1;33m=\u001b[0m\u001b[0mSF_COORDINATES\u001b[0m\u001b[1;33m,\u001b[0m \u001b[0mzoom_start\u001b[0m\u001b[1;33m=\u001b[0m\u001b[1;36m13\u001b[0m\u001b[1;33m)\u001b[0m\u001b[1;33m\u001b[0m\u001b[1;33m\u001b[0m\u001b[0m\n",
      "\u001b[1;31mModuleNotFoundError\u001b[0m: No module named 'folium'"
     ]
    }
   ],
   "source": [
    "import folium\n",
    "import folium.plugins\n",
    "\n",
    "SF_COORDINATES = (37.87, -122.28)\n",
    "sf_map = folium.Map(location=SF_COORDINATES, zoom_start=13)\n",
    "locs = calls[['Lat', 'Lon']].astype('float').dropna().values\n",
    "heatmap = folium.plugins.HeatMap(locs.tolist(), radius=10)\n",
    "sf_map.add_child(heatmap)"
   ]
  },
  {
   "cell_type": "markdown",
   "metadata": {},
   "source": [
    "### Questions\n",
    "\n",
    "1. Is campus really the safest place to be?\n",
    "1. Why are all the calls located on the street and at often at intersections?\n"
   ]
  },
  {
   "cell_type": "code",
   "execution_count": 17,
   "metadata": {
    "ExecuteTime": {
     "end_time": "2018-02-02T15:15:54.826669Z",
     "start_time": "2018-02-02T15:15:37.180513Z"
    }
   },
   "outputs": [
    {
     "data": {
      "text/html": [
       "<div style=\"width:100%;\"><div style=\"position:relative;width:100%;height:0;padding-bottom:60%;\"><iframe src=\"data:text/html;base64,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\" style=\"position:absolute;width:100%;height:100%;left:0;top:0;\"></iframe></div></div>"
      ],
      "text/plain": [
       "<folium.folium.Map at 0x11c64c898>"
      ]
     },
     "execution_count": 17,
     "metadata": {},
     "output_type": "execute_result"
    }
   ],
   "source": [
    "locations = calls[calls['CVLEGEND'] == 'ASSAULT'][['Lat', 'Lon']]\n",
    "\n",
    "cluster = folium.MarkerCluster([])\n",
    "for _, r in locations.dropna().iterrows():\n",
    "    cluster.add_child(\n",
    "        folium.Marker([float(r[\"Lat\"]), float(r[\"Lon\"])]))\n",
    "    \n",
    "sf_map = folium.Map(location=SF_COORDINATES, zoom_start=13)\n",
    "sf_map.add_child(cluster)\n",
    "sf_map"
   ]
  }
 ],
 "metadata": {
  "kernelspec": {
   "display_name": "Python 3",
   "language": "python",
   "name": "python3"
  },
  "language_info": {
   "codemirror_mode": {
    "name": "ipython",
    "version": 3
   },
   "file_extension": ".py",
   "mimetype": "text/x-python",
   "name": "python",
   "nbconvert_exporter": "python",
   "pygments_lexer": "ipython3",
   "version": "3.7.3"
  }
 },
 "nbformat": 4,
 "nbformat_minor": 4
}
