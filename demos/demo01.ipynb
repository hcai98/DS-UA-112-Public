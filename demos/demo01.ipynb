{
 "cells": [
  {
   "cell_type": "markdown",
   "metadata": {},
   "source": [
    "## Demo 1"
   ]
  },
  {
   "cell_type": "markdown",
   "metadata": {},
   "source": [
    "### Step 1 (Formulate a Question)\n",
    "\n",
    " *  How can text be data? \n",
    " * How does textual data provide information about novels?"
   ]
  },
  {
   "cell_type": "markdown",
   "metadata": {},
   "source": [
    "### Step 2 (Gather and Format the Data)"
   ]
  },
  {
   "cell_type": "code",
   "execution_count": 51,
   "metadata": {},
   "outputs": [],
   "source": [
    "# Importing packages\n",
    "\n",
    "import numpy as np\n",
    "from urllib.request import urlopen \n",
    "import re\n",
    "import os\n",
    "import pandas as pd\n",
    "from sklearn.linear_model import LinearRegression\n",
    "import seaborn as sns\n",
    "\n",
    "import matplotlib.pyplot as plt\n",
    "%matplotlib inline\n",
    "\n",
    "import warnings\n",
    "warnings.simplefilter(action=\"ignore\")"
   ]
  },
  {
   "cell_type": "code",
   "execution_count": 2,
   "metadata": {},
   "outputs": [],
   "source": [
    "# Acquire data \n",
    "\n",
    "url = 'https://www.inferentialthinking.com/data/huck_finn.txt'\n",
    "huck_finn_binary = urlopen(url).read()"
   ]
  },
  {
   "cell_type": "code",
   "execution_count": 3,
   "metadata": {},
   "outputs": [
    {
     "data": {
      "text/plain": [
       "'11101111 10111011 10111111 1101 1010 1101 1010 1010100 1101000 1100101 100000 1010000 1110010 1101111 1101010 1100101 1100011 1110100 100000 1000111 1110101 1110100 1100101 1101110 1100010 1100101 1110010 1100111 100000 1000101 1000010 1101111 1101111 1101011 100000 1101111 1100110 100000 1000001 1100100 1110110 1100101 1101110 1110100 1110101 1110010 1100101 1110011 100000 1101111 1100110 100000 1001000 1110101 1100011 1101011 1101100 1100101 1100010 1100101 1110010 1110010 1111001 100000 1000110 1101001 1101110 1101110 101100 100000 1000011 1101111 1101101 1110000 1101100 1100101 1110100 1100101 1101 1010 1100010 1111001 100000 1001101 1100001 1110010 1101011 100000 1010100 1110111 1100001 1101001 1101110 100000 101000 1010011 1100001 1101101 1110101 1100101'"
      ]
     },
     "execution_count": 3,
     "metadata": {},
     "output_type": "execute_result"
    }
   ],
   "source": [
    "# Binary format\n",
    "\n",
    "\" \".join(format(x,'b') for x in huck_finn_binary[:100])"
   ]
  },
  {
   "cell_type": "code",
   "execution_count": 4,
   "metadata": {},
   "outputs": [],
   "source": [
    "# Convert from binary format to utf-8 format\n",
    "\n",
    "huck_finn_utf8 = huck_finn_binary.decode(encoding='utf-8')"
   ]
  },
  {
   "cell_type": "code",
   "execution_count": 5,
   "metadata": {},
   "outputs": [
    {
     "data": {
      "text/plain": [
       "'\\ufeff\\r\\n\\r\\nThe Project Gutenberg EBook of Adventures of Huckleberry Finn, Complete\\r\\nby Mark Twain'"
      ]
     },
     "execution_count": 5,
     "metadata": {},
     "output_type": "execute_result"
    }
   ],
   "source": [
    "huck_finn_utf8[:91]"
   ]
  },
  {
   "cell_type": "code",
   "execution_count": 6,
   "metadata": {},
   "outputs": [],
   "source": [
    "# Remove white space\n",
    "\n",
    "huck_finn_text = re.sub('\\s+', ' ', huck_finn_utf8)"
   ]
  },
  {
   "cell_type": "code",
   "execution_count": 7,
   "metadata": {},
   "outputs": [
    {
     "data": {
      "text/plain": [
       "'\\ufeff The Project Gutenberg EBook of Adventures of Huckleberry Finn, Complete by Mark Twain '"
      ]
     },
     "execution_count": 7,
     "metadata": {},
     "output_type": "execute_result"
    }
   ],
   "source": [
    "huck_finn_text[:88]"
   ]
  },
  {
   "cell_type": "code",
   "execution_count": 8,
   "metadata": {},
   "outputs": [],
   "source": [
    "# Save file\n",
    "\n",
    "with open(\"huck_finn.txt\",\"w+\") as file_handle: \n",
    "        file_handle.write(huck_finn_text[1:])"
   ]
  },
  {
   "cell_type": "code",
   "execution_count": null,
   "metadata": {},
   "outputs": [],
   "source": [
    "# Display the first 100 lines \n",
    "\n",
    "!head -n 100 \"huck_finn.txt\""
   ]
  },
  {
   "cell_type": "code",
   "execution_count": 10,
   "metadata": {},
   "outputs": [],
   "source": [
    "# Utility function to get data from website\n",
    "\n",
    "def read_url(url): \n",
    "    return re.sub('\\\\s+', ' ', urlopen(url).read().decode())"
   ]
  },
  {
   "cell_type": "code",
   "execution_count": 11,
   "metadata": {},
   "outputs": [],
   "source": [
    "# Get request for text file on website \n",
    "\n",
    "little_women_url = 'https://www.inferentialthinking.com/data/little_women.txt'\n",
    "little_women_text = read_url(little_women_url)\n",
    "\n",
    "with open(\"little_women.txt\",\"w\") as file_handle: \n",
    "        file_handle.write(little_women_text[1:])"
   ]
  },
  {
   "cell_type": "code",
   "execution_count": null,
   "metadata": {},
   "outputs": [],
   "source": [
    "!head -n 100 \"little_women.txt\""
   ]
  },
  {
   "cell_type": "markdown",
   "metadata": {},
   "source": [
    "### Step 3 (Summarize and Visualize the Data)"
   ]
  },
  {
   "cell_type": "code",
   "execution_count": 14,
   "metadata": {},
   "outputs": [],
   "source": [
    "with open(\"little_women.txt\",\"r\") as fh_little_women, open(\"huck_finn.txt\",\"r\") as fh_huck_finn: \n",
    "    huck_finn_text = fh_huck_finn.read()\n",
    "    little_women_text = fh_little_women.read()\n",
    "\n",
    "    huck_finn_chapters = huck_finn_text.split('CHAPTER ')[44:]\n",
    "    little_women_chapters = little_women_text.split('CHAPTER ')[1:]"
   ]
  },
  {
   "cell_type": "code",
   "execution_count": 15,
   "metadata": {},
   "outputs": [
    {
     "data": {
      "text/plain": [
       "1     I. YOU don't know about me without you have re...\n",
       "2     II. WE went tiptoeing along a path amongst the...\n",
       "3     III. WELL, I got a good going-over in the morn...\n",
       "4     IV. WELL, three or four months run along, and ...\n",
       "5     V. I had shut the door to. Then I turned aroun...\n",
       "6     VI. WELL, pretty soon the old man was up and a...\n",
       "7     VII. \"GIT up! What you 'bout?\" I opened my eye...\n",
       "8     VIII. THE sun was up so high when I waked that...\n",
       "9     IX. I wanted to go and look at a place right a...\n",
       "10    X. AFTER breakfast I wanted to talk about the ...\n",
       "dtype: object"
      ]
     },
     "execution_count": 15,
     "metadata": {},
     "output_type": "execute_result"
    }
   ],
   "source": [
    "# Display the chapters of Huckleberry Finn as table\n",
    "\n",
    "df_huck_finn = pd.Series(data=huck_finn_chapters, index=np.arange(1,len(huck_finn_chapters)+1))\n",
    "df_huck_finn.head(10)"
   ]
  },
  {
   "cell_type": "code",
   "execution_count": 16,
   "metadata": {},
   "outputs": [],
   "source": [
    "# Count how many times the names Jim, Tom, and Huck appear in each chapter\n",
    "\n",
    "hf_counts = pd.DataFrame(data = {\n",
    "        'Jim': np.char.count(huck_finn_chapters, 'Jim'),\n",
    "        'Tom': np.char.count(huck_finn_chapters, 'Tom'),\n",
    "        'Huck': np.char.count(huck_finn_chapters, 'Huck')})"
   ]
  },
  {
   "cell_type": "code",
   "execution_count": 18,
   "metadata": {},
   "outputs": [
    {
     "data": {
      "image/png": "[encoded data removed]",
      "text/plain": [
       "<Figure size 720x576 with 1 Axes>"
      ]
     },
     "metadata": {
      "needs_background": "light"
     },
     "output_type": "display_data"
    }
   ],
   "source": [
    "# Plot the cumulative counts:\n",
    "# how many times in Chapter 1, how many times in Chapters 1 and 2, and so on.\n",
    "\n",
    "cumul_counts = hf_counts.cumsum() \n",
    "cumul_counts.plot(figsize = (10,8))\n",
    "plt.title('Cumulative Number of Times Name Appears');"
   ]
  },
  {
   "cell_type": "code",
   "execution_count": 19,
   "metadata": {},
   "outputs": [
    {
     "data": {
      "text/plain": [
       "1     ONE PLAYING PILGRIMS \"Christmas won't be Chris...\n",
       "2     TWO A MERRY CHRISTMAS Jo was the first to wake...\n",
       "3     THREE THE LAURENCE BOY \"Jo! Jo! Where are you?...\n",
       "4     FOUR BURDENS \"Oh, dear, how hard it does seem ...\n",
       "5     FIVE BEING NEIGHBORLY \"What in the world are y...\n",
       "6     SIX BETH FINDS THE PALACE BEAUTIFUL The big ho...\n",
       "7     SEVEN AMY'S VALLEY OF HUMILIATION \"That boy is...\n",
       "8     EIGHT JO MEETS APOLLYON \"Girls, where are you ...\n",
       "9     NINE MEG GOES TO VANITY FAIR \"I do think it wa...\n",
       "10    TEN THE P.C. AND P.O. As spring came on, a new...\n",
       "dtype: object"
      ]
     },
     "execution_count": 19,
     "metadata": {},
     "output_type": "execute_result"
    }
   ],
   "source": [
    "# Display the chapters of Little Women as table\n",
    "\n",
    "df_little_women = pd.Series(data=little_women_chapters, \n",
    "                            index=np.arange(1,len(little_women_chapters)+1))\n",
    "df_little_women.head(10)"
   ]
  },
  {
   "cell_type": "code",
   "execution_count": 20,
   "metadata": {},
   "outputs": [],
   "source": [
    "# Counts of names in the chapters of Little Women\n",
    "\n",
    "people = ['Amy', 'Beth', 'Jo', 'Laurie', 'Meg']\n",
    "people_counts = {pp: np.char.count(little_women_chapters, pp) for pp in people}\n",
    "lw_counts = pd.DataFrame(data=people_counts)"
   ]
  },
  {
   "cell_type": "code",
   "execution_count": 22,
   "metadata": {},
   "outputs": [
    {
     "data": {
      "image/png": "[encoded data removed]",
      "text/plain": [
       "<Figure size 720x576 with 1 Axes>"
      ]
     },
     "metadata": {
      "needs_background": "light"
     },
     "output_type": "display_data"
    }
   ],
   "source": [
    "# Plot the cumulative counts\n",
    "\n",
    "cumul_counts = lw_counts.cumsum()\n",
    "cumul_counts.plot(figsize=(10,8))\n",
    "plt.title('Cumulative Number of Times Name Appears');"
   ]
  },
  {
   "cell_type": "markdown",
   "metadata": {},
   "source": [
    "### Step 3 Continued (Explore the Data to Find Patterns)"
   ]
  },
  {
   "cell_type": "markdown",
   "metadata": {},
   "source": [
    "_**Relationship between amount of punctuation and length of chapter**_"
   ]
  },
  {
   "cell_type": "code",
   "execution_count": 23,
   "metadata": {},
   "outputs": [],
   "source": [
    "# In each chapter, count the number of all characters;\n",
    "# call this the \"length\" of the chapter.\n",
    "# Also count the number of periods.\n",
    "\n",
    "punctuation = '.'\n",
    "\n",
    "hf_length_punctuation = pd.DataFrame({\n",
    "        'HF Chapter Length': [len(s) for s in huck_finn_chapters],\n",
    "        'Number of Periods': np.char.count(huck_finn_chapters, punctuation)\n",
    "    })\n",
    "lw_length_punctuation = pd.DataFrame({\n",
    "        'LW Chapter Length': [len(s) for s in little_women_chapters],\n",
    "        'Number of Periods': np.char.count(little_women_chapters, punctuation)\n",
    "    })"
   ]
  },
  {
   "cell_type": "code",
   "execution_count": 24,
   "metadata": {},
   "outputs": [
    {
     "data": {
      "text/html": [
       "<div>\n",
       "<style scoped>\n",
       "    .dataframe tbody tr th:only-of-type {\n",
       "        vertical-align: middle;\n",
       "    }\n",
       "\n",
       "    .dataframe tbody tr th {\n",
       "        vertical-align: top;\n",
       "    }\n",
       "\n",
       "    .dataframe thead th {\n",
       "        text-align: right;\n",
       "    }\n",
       "</style>\n",
       "<table border=\"1\" class=\"dataframe\">\n",
       "  <thead>\n",
       "    <tr style=\"text-align: right;\">\n",
       "      <th></th>\n",
       "      <th>HF Chapter Length</th>\n",
       "      <th>Number of Periods</th>\n",
       "    </tr>\n",
       "  </thead>\n",
       "  <tbody>\n",
       "    <tr>\n",
       "      <th>0</th>\n",
       "      <td>7026</td>\n",
       "      <td>66</td>\n",
       "    </tr>\n",
       "    <tr>\n",
       "      <th>1</th>\n",
       "      <td>11982</td>\n",
       "      <td>117</td>\n",
       "    </tr>\n",
       "    <tr>\n",
       "      <th>2</th>\n",
       "      <td>8529</td>\n",
       "      <td>72</td>\n",
       "    </tr>\n",
       "    <tr>\n",
       "      <th>3</th>\n",
       "      <td>6799</td>\n",
       "      <td>84</td>\n",
       "    </tr>\n",
       "    <tr>\n",
       "      <th>4</th>\n",
       "      <td>8166</td>\n",
       "      <td>91</td>\n",
       "    </tr>\n",
       "    <tr>\n",
       "      <th>5</th>\n",
       "      <td>14550</td>\n",
       "      <td>125</td>\n",
       "    </tr>\n",
       "    <tr>\n",
       "      <th>6</th>\n",
       "      <td>13218</td>\n",
       "      <td>127</td>\n",
       "    </tr>\n",
       "    <tr>\n",
       "      <th>7</th>\n",
       "      <td>22208</td>\n",
       "      <td>249</td>\n",
       "    </tr>\n",
       "    <tr>\n",
       "      <th>8</th>\n",
       "      <td>8081</td>\n",
       "      <td>71</td>\n",
       "    </tr>\n",
       "    <tr>\n",
       "      <th>9</th>\n",
       "      <td>7036</td>\n",
       "      <td>70</td>\n",
       "    </tr>\n",
       "  </tbody>\n",
       "</table>\n",
       "</div>"
      ],
      "text/plain": [
       "   HF Chapter Length  Number of Periods\n",
       "0               7026                 66\n",
       "1              11982                117\n",
       "2               8529                 72\n",
       "3               6799                 84\n",
       "4               8166                 91\n",
       "5              14550                125\n",
       "6              13218                127\n",
       "7              22208                249\n",
       "8               8081                 71\n",
       "9               7036                 70"
      ]
     },
     "execution_count": 24,
     "metadata": {},
     "output_type": "execute_result"
    }
   ],
   "source": [
    "# The counts for Huckleberry Finn\n",
    "\n",
    "hf_length_punctuation.head(10)"
   ]
  },
  {
   "cell_type": "code",
   "execution_count": 25,
   "metadata": {},
   "outputs": [
    {
     "data": {
      "text/html": [
       "<div>\n",
       "<style scoped>\n",
       "    .dataframe tbody tr th:only-of-type {\n",
       "        vertical-align: middle;\n",
       "    }\n",
       "\n",
       "    .dataframe tbody tr th {\n",
       "        vertical-align: top;\n",
       "    }\n",
       "\n",
       "    .dataframe thead th {\n",
       "        text-align: right;\n",
       "    }\n",
       "</style>\n",
       "<table border=\"1\" class=\"dataframe\">\n",
       "  <thead>\n",
       "    <tr style=\"text-align: right;\">\n",
       "      <th></th>\n",
       "      <th>LW Chapter Length</th>\n",
       "      <th>Number of Periods</th>\n",
       "    </tr>\n",
       "  </thead>\n",
       "  <tbody>\n",
       "    <tr>\n",
       "      <th>0</th>\n",
       "      <td>21759</td>\n",
       "      <td>189</td>\n",
       "    </tr>\n",
       "    <tr>\n",
       "      <th>1</th>\n",
       "      <td>22148</td>\n",
       "      <td>188</td>\n",
       "    </tr>\n",
       "    <tr>\n",
       "      <th>2</th>\n",
       "      <td>20558</td>\n",
       "      <td>231</td>\n",
       "    </tr>\n",
       "    <tr>\n",
       "      <th>3</th>\n",
       "      <td>25526</td>\n",
       "      <td>195</td>\n",
       "    </tr>\n",
       "    <tr>\n",
       "      <th>4</th>\n",
       "      <td>23395</td>\n",
       "      <td>255</td>\n",
       "    </tr>\n",
       "    <tr>\n",
       "      <th>5</th>\n",
       "      <td>14622</td>\n",
       "      <td>140</td>\n",
       "    </tr>\n",
       "    <tr>\n",
       "      <th>6</th>\n",
       "      <td>14431</td>\n",
       "      <td>131</td>\n",
       "    </tr>\n",
       "    <tr>\n",
       "      <th>7</th>\n",
       "      <td>22476</td>\n",
       "      <td>214</td>\n",
       "    </tr>\n",
       "    <tr>\n",
       "      <th>8</th>\n",
       "      <td>33767</td>\n",
       "      <td>337</td>\n",
       "    </tr>\n",
       "    <tr>\n",
       "      <th>9</th>\n",
       "      <td>18508</td>\n",
       "      <td>185</td>\n",
       "    </tr>\n",
       "  </tbody>\n",
       "</table>\n",
       "</div>"
      ],
      "text/plain": [
       "   LW Chapter Length  Number of Periods\n",
       "0              21759                189\n",
       "1              22148                188\n",
       "2              20558                231\n",
       "3              25526                195\n",
       "4              23395                255\n",
       "5              14622                140\n",
       "6              14431                131\n",
       "7              22476                214\n",
       "8              33767                337\n",
       "9              18508                185"
      ]
     },
     "execution_count": 25,
     "metadata": {},
     "output_type": "execute_result"
    }
   ],
   "source": [
    "# The counts for Little Women\n",
    "\n",
    "lw_length_punctuation.head(10)"
   ]
  },
  {
   "cell_type": "code",
   "execution_count": 26,
   "metadata": {},
   "outputs": [],
   "source": [
    "hf_X, hf_y = hf_length_punctuation.iloc[:,1].as_matrix().reshape(-1,1), hf_length_punctuation.iloc[:,0].as_matrix().reshape(-1,1)\n",
    "lw_X, lw_y = lw_length_punctuation.iloc[:,1].as_matrix().reshape(-1,1), lw_length_punctuation.iloc[:,0].as_matrix().reshape(-1,1)\n",
    "\n",
    "hf_reg = LinearRegression().fit(hf_X, hf_y)\n",
    "lw_reg = LinearRegression().fit(lw_X, lw_y)\n"
   ]
  },
  {
   "cell_type": "code",
   "execution_count": 34,
   "metadata": {},
   "outputs": [],
   "source": [
    "xaxis = np.linspace(0,375,1000)\n",
    "hf_yaxis = hf_reg.coef_[0][0] * xaxis + hf_reg.intercept_[0]\n",
    "lw_yaxis = lw_reg.coef_[0][0] * xaxis + lw_reg.intercept_[0]"
   ]
  },
  {
   "cell_type": "code",
   "execution_count": 37,
   "metadata": {},
   "outputs": [
    {
     "data": {
      "image/png": "[encoded data removed]",
      "text/plain": [
       "<Figure size 720x720 with 1 Axes>"
      ]
     },
     "metadata": {
      "needs_background": "light"
     },
     "output_type": "display_data"
    }
   ],
   "source": [
    "plt.figure(figsize=(10,10))\n",
    "plt.scatter(hf_length_punctuation.iloc[:,1], hf_length_punctuation.iloc[:,0], color='b')\n",
    "plt.scatter(lw_length_punctuation.iloc[:,1], lw_length_punctuation.iloc[:,0], color='y')\n",
    "plt.xlabel('Number of periods in chapter')\n",
    "plt.ylabel('Number of characters in chapter')\n",
    "plt.xlim(0,375)\n",
    "plt.plot(xaxis, hf_yaxis, color=\"b\")\n",
    "plt.scatter(xaxis[750], hf_yaxis[750],color=\"b\",s=300)\n",
    "plt.plot(xaxis, lw_yaxis, color=\"y\")\n",
    "plt.scatter(xaxis[950], lw_yaxis[950],color=\"y\",s=300);"
   ]
  },
  {
   "cell_type": "code",
   "execution_count": 42,
   "metadata": {},
   "outputs": [
    {
     "name": "stdout",
     "output_type": "stream",
     "text": [
      "Average number of characters in Twain sentence 71.32912377812522\n"
     ]
    }
   ],
   "source": [
    "print('Average number of characters in Twain sentence', hf_reg.coef_[0][0])"
   ]
  },
  {
   "cell_type": "code",
   "execution_count": 43,
   "metadata": {},
   "outputs": [
    {
     "name": "stdout",
     "output_type": "stream",
     "text": [
      "Average number of characters in Alcott sentence 86.97784125829821\n"
     ]
    }
   ],
   "source": [
    "print('Average number of characters in Alcott sentence',lw_reg.coef_[0][0])"
   ]
  },
  {
   "cell_type": "markdown",
   "metadata": {},
   "source": [
    "_**Distinguishing between novels by length of words**_"
   ]
  },
  {
   "cell_type": "code",
   "execution_count": 44,
   "metadata": {},
   "outputs": [],
   "source": [
    "huck_finn_word_length = list(map(lambda x: len(x.strip()), \n",
    "                                 (\" \".join(huck_finn_chapters)).split(' ')))\n",
    "\n",
    "\n",
    "little_women_word_length = list(map(lambda x: len(x.strip()), \n",
    "                                 (\" \".join(little_women_chapters)).split(' ')))\n",
    "\n",
    "\n",
    "df_huck_finn_word_length = pd.DataFrame(columns=['Huck Finn'],\n",
    "                                           data=pd.Series(data=huck_finn_word_length).value_counts().sort_index()[1:21], index=np.arange(1,21))\n",
    "\n",
    "\n",
    "df_little_women_word_length = pd.DataFrame(columns=['Little Women'],\n",
    "                                           data=pd.Series(data=little_women_word_length).value_counts().sort_index()[1:21], index=np.arange(1,21))\n",
    "\n",
    "df_merged = pd.merge(df_huck_finn_word_length.div(df_huck_finn_word_length.sum()), \n",
    "                     df_little_women_word_length.div(df_little_women_word_length.sum()), \n",
    "                     how='outer', \n",
    "                     left_index=True,\n",
    "                    right_index=True)"
   ]
  },
  {
   "cell_type": "code",
   "execution_count": 47,
   "metadata": {},
   "outputs": [
    {
     "data": {
      "text/html": [
       "<div>\n",
       "<style scoped>\n",
       "    .dataframe tbody tr th:only-of-type {\n",
       "        vertical-align: middle;\n",
       "    }\n",
       "\n",
       "    .dataframe tbody tr th {\n",
       "        vertical-align: top;\n",
       "    }\n",
       "\n",
       "    .dataframe thead th {\n",
       "        text-align: right;\n",
       "    }\n",
       "</style>\n",
       "<table border=\"1\" class=\"dataframe\">\n",
       "  <thead>\n",
       "    <tr style=\"text-align: right;\">\n",
       "      <th></th>\n",
       "      <th>Little Women</th>\n",
       "    </tr>\n",
       "  </thead>\n",
       "  <tbody>\n",
       "    <tr>\n",
       "      <th>1</th>\n",
       "      <td>7139</td>\n",
       "    </tr>\n",
       "    <tr>\n",
       "      <th>2</th>\n",
       "      <td>28049</td>\n",
       "    </tr>\n",
       "    <tr>\n",
       "      <th>3</th>\n",
       "      <td>45459</td>\n",
       "    </tr>\n",
       "    <tr>\n",
       "      <th>4</th>\n",
       "      <td>35207</td>\n",
       "    </tr>\n",
       "    <tr>\n",
       "      <th>5</th>\n",
       "      <td>23651</td>\n",
       "    </tr>\n",
       "    <tr>\n",
       "      <th>6</th>\n",
       "      <td>17187</td>\n",
       "    </tr>\n",
       "    <tr>\n",
       "      <th>7</th>\n",
       "      <td>12420</td>\n",
       "    </tr>\n",
       "    <tr>\n",
       "      <th>8</th>\n",
       "      <td>8271</td>\n",
       "    </tr>\n",
       "    <tr>\n",
       "      <th>9</th>\n",
       "      <td>4981</td>\n",
       "    </tr>\n",
       "    <tr>\n",
       "      <th>10</th>\n",
       "      <td>3044</td>\n",
       "    </tr>\n",
       "  </tbody>\n",
       "</table>\n",
       "</div>"
      ],
      "text/plain": [
       "    Little Women\n",
       "1           7139\n",
       "2          28049\n",
       "3          45459\n",
       "4          35207\n",
       "5          23651\n",
       "6          17187\n",
       "7          12420\n",
       "8           8271\n",
       "9           4981\n",
       "10          3044"
      ]
     },
     "execution_count": 47,
     "metadata": {},
     "output_type": "execute_result"
    }
   ],
   "source": [
    "df_little_women_word_length[:10]"
   ]
  },
  {
   "cell_type": "code",
   "execution_count": 48,
   "metadata": {},
   "outputs": [
    {
     "data": {
      "text/html": [
       "<div>\n",
       "<style scoped>\n",
       "    .dataframe tbody tr th:only-of-type {\n",
       "        vertical-align: middle;\n",
       "    }\n",
       "\n",
       "    .dataframe tbody tr th {\n",
       "        vertical-align: top;\n",
       "    }\n",
       "\n",
       "    .dataframe thead th {\n",
       "        text-align: right;\n",
       "    }\n",
       "</style>\n",
       "<table border=\"1\" class=\"dataframe\">\n",
       "  <thead>\n",
       "    <tr style=\"text-align: right;\">\n",
       "      <th></th>\n",
       "      <th>Huck Finn</th>\n",
       "    </tr>\n",
       "  </thead>\n",
       "  <tbody>\n",
       "    <tr>\n",
       "      <th>1</th>\n",
       "      <td>6000</td>\n",
       "    </tr>\n",
       "    <tr>\n",
       "      <th>2</th>\n",
       "      <td>18154</td>\n",
       "    </tr>\n",
       "    <tr>\n",
       "      <th>3</th>\n",
       "      <td>28809</td>\n",
       "    </tr>\n",
       "    <tr>\n",
       "      <th>4</th>\n",
       "      <td>21145</td>\n",
       "    </tr>\n",
       "    <tr>\n",
       "      <th>5</th>\n",
       "      <td>14628</td>\n",
       "    </tr>\n",
       "    <tr>\n",
       "      <th>6</th>\n",
       "      <td>10003</td>\n",
       "    </tr>\n",
       "    <tr>\n",
       "      <th>7</th>\n",
       "      <td>6105</td>\n",
       "    </tr>\n",
       "    <tr>\n",
       "      <th>8</th>\n",
       "      <td>3350</td>\n",
       "    </tr>\n",
       "    <tr>\n",
       "      <th>9</th>\n",
       "      <td>1820</td>\n",
       "    </tr>\n",
       "    <tr>\n",
       "      <th>10</th>\n",
       "      <td>1167</td>\n",
       "    </tr>\n",
       "  </tbody>\n",
       "</table>\n",
       "</div>"
      ],
      "text/plain": [
       "    Huck Finn\n",
       "1        6000\n",
       "2       18154\n",
       "3       28809\n",
       "4       21145\n",
       "5       14628\n",
       "6       10003\n",
       "7        6105\n",
       "8        3350\n",
       "9        1820\n",
       "10       1167"
      ]
     },
     "execution_count": 48,
     "metadata": {},
     "output_type": "execute_result"
    }
   ],
   "source": [
    "df_huck_finn_word_length[:10]"
   ]
  },
  {
   "cell_type": "code",
   "execution_count": 49,
   "metadata": {},
   "outputs": [
    {
     "name": "stdout",
     "output_type": "stream",
     "text": [
      "The average length of word in Huck Finn is 4.120411381191978\n",
      "The average length of word in Little Women is 4.398593914734227\n"
     ]
    }
   ],
   "source": [
    "lw_mean = np.dot(df_little_women_word_length.index, \n",
    "df_little_women_word_length[\"Little Women\"]) / df_little_women_word_length.sum()[0]\n",
    "\n",
    "hf_mean = np.dot(df_huck_finn_word_length.index, \n",
    "df_huck_finn_word_length[\"Huck Finn\"]) / df_huck_finn_word_length.sum()[0]\n",
    "\n",
    "print(f\"The average length of word in Huck Finn is {hf_mean}\")\n",
    "print(f\"The average length of word in Little Women is {lw_mean}\")"
   ]
  },
  {
   "cell_type": "code",
   "execution_count": 53,
   "metadata": {},
   "outputs": [
    {
     "data": {
      "image/png": "[encoded data removed]",
      "text/plain": [
       "<Figure size 720x576 with 1 Axes>"
      ]
     },
     "metadata": {
      "needs_background": "light"
     },
     "output_type": "display_data"
    }
   ],
   "source": [
    "df_merged.plot(kind='bar', figsize = (10,8))\n",
    "plt.xlim(xmin=0, xmax = 20)\n",
    "plt.gca().set_xlabel(\"Word Length\", fontsize=12)\n",
    "plt.gca().set_ylabel(\"Frequency\", fontsize=12)\n",
    "plt.plot();"
   ]
  },
  {
   "cell_type": "markdown",
   "metadata": {},
   "source": [
    "_**Relationship Between Frequency and Rank**_"
   ]
  },
  {
   "cell_type": "code",
   "execution_count": 62,
   "metadata": {},
   "outputs": [
    {
     "data": {
      "text/html": [
       "<div>\n",
       "<style scoped>\n",
       "    .dataframe tbody tr th:only-of-type {\n",
       "        vertical-align: middle;\n",
       "    }\n",
       "\n",
       "    .dataframe tbody tr th {\n",
       "        vertical-align: top;\n",
       "    }\n",
       "\n",
       "    .dataframe thead th {\n",
       "        text-align: right;\n",
       "    }\n",
       "</style>\n",
       "<table border=\"1\" class=\"dataframe\">\n",
       "  <thead>\n",
       "    <tr style=\"text-align: right;\">\n",
       "      <th></th>\n",
       "      <th>count</th>\n",
       "      <th>rank</th>\n",
       "      <th>frequency</th>\n",
       "    </tr>\n",
       "    <tr>\n",
       "      <th>word</th>\n",
       "      <th></th>\n",
       "      <th></th>\n",
       "      <th></th>\n",
       "    </tr>\n",
       "  </thead>\n",
       "  <tbody>\n",
       "    <tr>\n",
       "      <th>and</th>\n",
       "      <td>6241</td>\n",
       "      <td>1</td>\n",
       "      <td>0.125548</td>\n",
       "    </tr>\n",
       "    <tr>\n",
       "      <th>the</th>\n",
       "      <td>4896</td>\n",
       "      <td>2</td>\n",
       "      <td>0.098491</td>\n",
       "    </tr>\n",
       "    <tr>\n",
       "      <th>i</th>\n",
       "      <td>3040</td>\n",
       "      <td>3</td>\n",
       "      <td>0.061155</td>\n",
       "    </tr>\n",
       "    <tr>\n",
       "      <th>a</th>\n",
       "      <td>2948</td>\n",
       "      <td>4</td>\n",
       "      <td>0.059304</td>\n",
       "    </tr>\n",
       "    <tr>\n",
       "      <th>to</th>\n",
       "      <td>2902</td>\n",
       "      <td>5</td>\n",
       "      <td>0.058379</td>\n",
       "    </tr>\n",
       "    <tr>\n",
       "      <th>was</th>\n",
       "      <td>1944</td>\n",
       "      <td>6</td>\n",
       "      <td>0.039107</td>\n",
       "    </tr>\n",
       "    <tr>\n",
       "      <th>of</th>\n",
       "      <td>1727</td>\n",
       "      <td>7</td>\n",
       "      <td>0.034742</td>\n",
       "    </tr>\n",
       "    <tr>\n",
       "      <th>he</th>\n",
       "      <td>1628</td>\n",
       "      <td>8</td>\n",
       "      <td>0.032750</td>\n",
       "    </tr>\n",
       "    <tr>\n",
       "      <th>it</th>\n",
       "      <td>1591</td>\n",
       "      <td>9</td>\n",
       "      <td>0.032006</td>\n",
       "    </tr>\n",
       "    <tr>\n",
       "      <th>in</th>\n",
       "      <td>1382</td>\n",
       "      <td>10</td>\n",
       "      <td>0.027801</td>\n",
       "    </tr>\n",
       "  </tbody>\n",
       "</table>\n",
       "</div>"
      ],
      "text/plain": [
       "      count  rank  frequency\n",
       "word                        \n",
       "and    6241     1   0.125548\n",
       "the    4896     2   0.098491\n",
       "i      3040     3   0.061155\n",
       "a      2948     4   0.059304\n",
       "to     2902     5   0.058379\n",
       "was    1944     6   0.039107\n",
       "of     1727     7   0.034742\n",
       "he     1628     8   0.032750\n",
       "it     1591     9   0.032006\n",
       "in     1382    10   0.027801"
      ]
     },
     "execution_count": 62,
     "metadata": {},
     "output_type": "execute_result"
    }
   ],
   "source": [
    "huck_finn_word_count = list(map(lambda x: x.strip().lower(), \n",
    "                                 (\" \".join(huck_finn_chapters)).split(' ')))\n",
    "df_huck_finn_word_count = pd.Series(data=huck_finn_word_count).value_counts().sort_values(ascending = False)[:50]\n",
    "df_huck_finn_word_count = df_huck_finn_word_count.to_frame().reset_index().rename(columns = {'index':'word', 0:'count'})\n",
    "df_huck_finn_word_count['rank'] = df_huck_finn_word_count.index + 1\n",
    "df_huck_finn_word_count['frequency'] = df_huck_finn_word_count['count'] / df_huck_finn_word_count['count'].sum() \n",
    "df_huck_finn_word_count = df_huck_finn_word_count.set_index('word')\n",
    "df_huck_finn_word_count.iloc[:10,:]"
   ]
  },
  {
   "cell_type": "code",
   "execution_count": 56,
   "metadata": {},
   "outputs": [
    {
     "data": {
      "text/plain": [
       "-0.8402098414702733"
      ]
     },
     "execution_count": 56,
     "metadata": {},
     "output_type": "execute_result"
    }
   ],
   "source": [
    "hf_count_reg = LinearRegression().fit(np.log(df_huck_finn_word_count['rank'].as_matrix()).reshape(-1,1),\n",
    "                             np.log(df_huck_finn_word_count['frequency'].as_matrix()).reshape(-1,1))\n",
    "\n",
    "hf_count_reg.coef_[0][0]"
   ]
  },
  {
   "cell_type": "code",
   "execution_count": 59,
   "metadata": {},
   "outputs": [
    {
     "data": {
      "image/png": "[encoded data removed]",
      "text/plain": [
       "<Figure size 864x720 with 1 Axes>"
      ]
     },
     "metadata": {
      "needs_background": "light"
     },
     "output_type": "display_data"
    }
   ],
   "source": [
    "fig, ax = plt.subplots(1,1, figsize= (12,10))\n",
    "df_huck_finn_word_count.plot('rank','frequency', logx=True, logy=True, ax = ax)\n",
    "plt.xlabel('Log of Rank of Word');\n",
    "plt.ylabel('Log of Frequency of Word');\n",
    "plt.show();"
   ]
  },
  {
   "cell_type": "code",
   "execution_count": 63,
   "metadata": {},
   "outputs": [
    {
     "data": {
      "text/html": [
       "<div>\n",
       "<style scoped>\n",
       "    .dataframe tbody tr th:only-of-type {\n",
       "        vertical-align: middle;\n",
       "    }\n",
       "\n",
       "    .dataframe tbody tr th {\n",
       "        vertical-align: top;\n",
       "    }\n",
       "\n",
       "    .dataframe thead th {\n",
       "        text-align: right;\n",
       "    }\n",
       "</style>\n",
       "<table border=\"1\" class=\"dataframe\">\n",
       "  <thead>\n",
       "    <tr style=\"text-align: right;\">\n",
       "      <th></th>\n",
       "      <th>count</th>\n",
       "      <th>rank</th>\n",
       "      <th>frequency</th>\n",
       "    </tr>\n",
       "    <tr>\n",
       "      <th>word</th>\n",
       "      <th></th>\n",
       "      <th></th>\n",
       "      <th></th>\n",
       "    </tr>\n",
       "  </thead>\n",
       "  <tbody>\n",
       "    <tr>\n",
       "      <th>and</th>\n",
       "      <td>8010</td>\n",
       "      <td>1</td>\n",
       "      <td>0.104657</td>\n",
       "    </tr>\n",
       "    <tr>\n",
       "      <th>the</th>\n",
       "      <td>7609</td>\n",
       "      <td>2</td>\n",
       "      <td>0.099417</td>\n",
       "    </tr>\n",
       "    <tr>\n",
       "      <th>to</th>\n",
       "      <td>5090</td>\n",
       "      <td>3</td>\n",
       "      <td>0.066505</td>\n",
       "    </tr>\n",
       "    <tr>\n",
       "      <th>a</th>\n",
       "      <td>4456</td>\n",
       "      <td>4</td>\n",
       "      <td>0.058221</td>\n",
       "    </tr>\n",
       "    <tr>\n",
       "      <th>of</th>\n",
       "      <td>3474</td>\n",
       "      <td>5</td>\n",
       "      <td>0.045390</td>\n",
       "    </tr>\n",
       "    <tr>\n",
       "      <th>her</th>\n",
       "      <td>2884</td>\n",
       "      <td>6</td>\n",
       "      <td>0.037682</td>\n",
       "    </tr>\n",
       "    <tr>\n",
       "      <th>i</th>\n",
       "      <td>2663</td>\n",
       "      <td>7</td>\n",
       "      <td>0.034794</td>\n",
       "    </tr>\n",
       "    <tr>\n",
       "      <th>in</th>\n",
       "      <td>2429</td>\n",
       "      <td>8</td>\n",
       "      <td>0.031737</td>\n",
       "    </tr>\n",
       "    <tr>\n",
       "      <th>she</th>\n",
       "      <td>2241</td>\n",
       "      <td>9</td>\n",
       "      <td>0.029280</td>\n",
       "    </tr>\n",
       "    <tr>\n",
       "      <th>for</th>\n",
       "      <td>2191</td>\n",
       "      <td>10</td>\n",
       "      <td>0.028627</td>\n",
       "    </tr>\n",
       "  </tbody>\n",
       "</table>\n",
       "</div>"
      ],
      "text/plain": [
       "      count  rank  frequency\n",
       "word                        \n",
       "and    8010     1   0.104657\n",
       "the    7609     2   0.099417\n",
       "to     5090     3   0.066505\n",
       "a      4456     4   0.058221\n",
       "of     3474     5   0.045390\n",
       "her    2884     6   0.037682\n",
       "i      2663     7   0.034794\n",
       "in     2429     8   0.031737\n",
       "she    2241     9   0.029280\n",
       "for    2191    10   0.028627"
      ]
     },
     "execution_count": 63,
     "metadata": {},
     "output_type": "execute_result"
    }
   ],
   "source": [
    "little_women_word_count = list(map(lambda x: x.strip().lower(), \n",
    "                                 (\" \".join(little_women_chapters)).split(' ')))\n",
    "df_little_women_word_count = pd.Series(data=little_women_word_count).value_counts().sort_values(ascending = False)[:50]\n",
    "df_little_women_word_count = df_little_women_word_count.to_frame().reset_index().rename(columns = {'index':'word', 0:'count'})\n",
    "df_little_women_word_count['rank'] = df_little_women_word_count.index + 1\n",
    "df_little_women_word_count['frequency'] = df_little_women_word_count['count'] / df_little_women_word_count['count'].sum() \n",
    "df_little_women_word_count = df_little_women_word_count.set_index('word')\n",
    "df_little_women_word_count.iloc[:10,:]"
   ]
  },
  {
   "cell_type": "code",
   "execution_count": 64,
   "metadata": {},
   "outputs": [
    {
     "data": {
      "text/plain": [
       "-0.8608872486840786"
      ]
     },
     "execution_count": 64,
     "metadata": {},
     "output_type": "execute_result"
    }
   ],
   "source": [
    "lw_count_reg = LinearRegression().fit(np.log(df_little_women_word_count['rank'].as_matrix()).reshape(-1,1),\n",
    "                             np.log(df_little_women_word_count['frequency'].as_matrix()).reshape(-1,1))\n",
    "\n",
    "lw_count_reg.coef_[0][0]"
   ]
  },
  {
   "cell_type": "code",
   "execution_count": 65,
   "metadata": {},
   "outputs": [
    {
     "data": {
      "image/png": "[encoded data removed]",
      "text/plain": [
       "<Figure size 864x720 with 1 Axes>"
      ]
     },
     "metadata": {
      "needs_background": "light"
     },
     "output_type": "display_data"
    }
   ],
   "source": [
    "fig, ax = plt.subplots(1,1, figsize= (12,10))\n",
    "df_little_women_word_count.plot('rank','frequency', logx=True, logy=True, ax = ax)\n",
    "plt.xlabel('Log of Rank of Word');\n",
    "plt.ylabel('Log of Frequency of Word');\n",
    "plt.show();"
   ]
  },
  {
   "cell_type": "markdown",
   "metadata": {},
   "source": [
    "### Step 1 Continued (Formulate a Question)\n",
    "\n",
    "The plots of rank versus frequency suggest a pattern \n",
    "\n",
    "$$\\large \\text{Frequency} \\approx \\displaystyle\\frac{1}{\\text{Rank}^{0.85}}$$\n",
    "\n",
    "This pattern of frequency and rank is called the Zipf rule. How common is it?"
   ]
  }
 ],
 "metadata": {
  "anaconda-cloud": {},
  "celltoolbar": "Raw Cell Format",
  "kernelspec": {
   "display_name": "Python 3",
   "language": "python",
   "name": "python3"
  },
  "language_info": {
   "codemirror_mode": {
    "name": "ipython",
    "version": 3
   },
   "file_extension": ".py",
   "mimetype": "text/x-python",
   "name": "python",
   "nbconvert_exporter": "python",
   "pygments_lexer": "ipython3",
   "version": "3.7.3"
  }
 },
 "nbformat": 4,
 "nbformat_minor": 1
}
