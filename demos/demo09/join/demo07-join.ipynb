{
 "cells": [
  {
   "cell_type": "markdown",
   "metadata": {},
   "source": [
    "# File Formats"
   ]
  },
  {
   "cell_type": "code",
   "execution_count": 3,
   "metadata": {},
   "outputs": [],
   "source": [
    "import numpy as np\n",
    "import pandas as pd\n",
    "import yaml\n",
    "import json\n",
    "from datetime import datetime\n",
    "import seaborn as sns\n",
    "import matplotlib.pyplot as plt\n",
    "%matplotlib inline\n",
    "import warnings\n",
    "warnings.filterwarnings('ignore')"
   ]
  },
  {
   "cell_type": "markdown",
   "metadata": {},
   "source": [
    "A lot of structured data isn't in CSV format, but in HTML, XML, JSON, YAML, etc. JSON might have a structure that Pandas can't read directly. Here's an example: a group of people collected information about US congressional legislators in YAML format.\n",
    "\n",
    "https://github.com/unitedstates/congress-legislators\n",
    "\n",
    "Here's one of the data files:\n",
    "\n",
    "https://github.com/unitedstates/congress-legislators/blob/master/legislators-current.yaml"
   ]
  },
  {
   "cell_type": "markdown",
   "metadata": {},
   "source": [
    "## JSON"
   ]
  },
  {
   "cell_type": "code",
   "execution_count": 4,
   "metadata": {},
   "outputs": [],
   "source": [
    "elections = pd.read_csv(\"elections.csv\")"
   ]
  },
  {
   "cell_type": "code",
   "execution_count": 5,
   "metadata": {},
   "outputs": [],
   "source": [
    "for flag in ['split','records','index','columns','values','table']:\n",
    "    elections.to_json(f\"elections_{flag}.json\", orient = f'{flag}') "
   ]
  },
  {
   "cell_type": "code",
   "execution_count": 6,
   "metadata": {},
   "outputs": [],
   "source": [
    "for flag in ['split','records','index','columns','values','table']:\n",
    "    with open(f'elections_{flag}.json') as fg:\n",
    "        exec(f'elections_json_{flag} = json.load(fg)')"
   ]
  },
  {
   "cell_type": "code",
   "execution_count": 7,
   "metadata": {},
   "outputs": [
    {
     "data": {
      "text/plain": [
       "{'schema': {'fields': [{'name': 'index', 'type': 'integer'},\n",
       "   {'name': 'Candidate', 'type': 'string'},\n",
       "   {'name': 'Party', 'type': 'string'},\n",
       "   {'name': '%', 'type': 'number'},\n",
       "   {'name': 'Year', 'type': 'integer'},\n",
       "   {'name': 'Result', 'type': 'string'}],\n",
       "  'primaryKey': ['index'],\n",
       "  'pandas_version': '0.20.0'},\n",
       " 'data': [{'index': 0,\n",
       "   'Candidate': 'Reagan',\n",
       "   'Party': 'Republican',\n",
       "   '%': 50.7,\n",
       "   'Year': 1980,\n",
       "   'Result': 'win'},\n",
       "  {'index': 1,\n",
       "   'Candidate': 'Carter',\n",
       "   'Party': 'Democratic',\n",
       "   '%': 41.0,\n",
       "   'Year': 1980,\n",
       "   'Result': 'loss'},\n",
       "  {'index': 2,\n",
       "   'Candidate': 'Anderson',\n",
       "   'Party': 'Independent',\n",
       "   '%': 6.6,\n",
       "   'Year': 1980,\n",
       "   'Result': 'loss'},\n",
       "  {'index': 3,\n",
       "   'Candidate': 'Reagan',\n",
       "   'Party': 'Republican',\n",
       "   '%': 58.8,\n",
       "   'Year': 1984,\n",
       "   'Result': 'win'},\n",
       "  {'index': 4,\n",
       "   'Candidate': 'Mondale',\n",
       "   'Party': 'Democratic',\n",
       "   '%': 37.6,\n",
       "   'Year': 1984,\n",
       "   'Result': 'loss'},\n",
       "  {'index': 5,\n",
       "   'Candidate': 'Bush',\n",
       "   'Party': 'Republican',\n",
       "   '%': 53.4,\n",
       "   'Year': 1988,\n",
       "   'Result': 'win'},\n",
       "  {'index': 6,\n",
       "   'Candidate': 'Dukakis',\n",
       "   'Party': 'Democratic',\n",
       "   '%': 45.6,\n",
       "   'Year': 1988,\n",
       "   'Result': 'loss'},\n",
       "  {'index': 7,\n",
       "   'Candidate': 'Clinton',\n",
       "   'Party': 'Democratic',\n",
       "   '%': 43.0,\n",
       "   'Year': 1992,\n",
       "   'Result': 'win'},\n",
       "  {'index': 8,\n",
       "   'Candidate': 'Bush',\n",
       "   'Party': 'Republican',\n",
       "   '%': 37.4,\n",
       "   'Year': 1992,\n",
       "   'Result': 'loss'},\n",
       "  {'index': 9,\n",
       "   'Candidate': 'Perot',\n",
       "   'Party': 'Independent',\n",
       "   '%': 18.9,\n",
       "   'Year': 1992,\n",
       "   'Result': 'loss'},\n",
       "  {'index': 10,\n",
       "   'Candidate': 'Clinton',\n",
       "   'Party': 'Democratic',\n",
       "   '%': 49.2,\n",
       "   'Year': 1996,\n",
       "   'Result': 'win'},\n",
       "  {'index': 11,\n",
       "   'Candidate': 'Dole',\n",
       "   'Party': 'Republican',\n",
       "   '%': 40.7,\n",
       "   'Year': 1996,\n",
       "   'Result': 'loss'},\n",
       "  {'index': 12,\n",
       "   'Candidate': 'Perot',\n",
       "   'Party': 'Independent',\n",
       "   '%': 8.4,\n",
       "   'Year': 1996,\n",
       "   'Result': 'loss'},\n",
       "  {'index': 13,\n",
       "   'Candidate': 'Gore',\n",
       "   'Party': 'Democratic',\n",
       "   '%': 48.4,\n",
       "   'Year': 2000,\n",
       "   'Result': 'loss'},\n",
       "  {'index': 14,\n",
       "   'Candidate': 'Bush',\n",
       "   'Party': 'Republican',\n",
       "   '%': 47.9,\n",
       "   'Year': 2000,\n",
       "   'Result': 'win'},\n",
       "  {'index': 15,\n",
       "   'Candidate': 'Kerry',\n",
       "   'Party': 'Democratic',\n",
       "   '%': 48.3,\n",
       "   'Year': 2004,\n",
       "   'Result': 'loss'},\n",
       "  {'index': 16,\n",
       "   'Candidate': 'Bush',\n",
       "   'Party': 'Republican',\n",
       "   '%': 50.7,\n",
       "   'Year': 2004,\n",
       "   'Result': 'win'},\n",
       "  {'index': 17,\n",
       "   'Candidate': 'Obama',\n",
       "   'Party': 'Democratic',\n",
       "   '%': 52.9,\n",
       "   'Year': 2008,\n",
       "   'Result': 'win'},\n",
       "  {'index': 18,\n",
       "   'Candidate': 'McCain',\n",
       "   'Party': 'Republican',\n",
       "   '%': 45.7,\n",
       "   'Year': 2008,\n",
       "   'Result': 'loss'},\n",
       "  {'index': 19,\n",
       "   'Candidate': 'Obama',\n",
       "   'Party': 'Democratic',\n",
       "   '%': 51.1,\n",
       "   'Year': 2012,\n",
       "   'Result': 'win'},\n",
       "  {'index': 20,\n",
       "   'Candidate': 'Romney',\n",
       "   'Party': 'Republican',\n",
       "   '%': 47.2,\n",
       "   'Year': 2012,\n",
       "   'Result': 'loss'},\n",
       "  {'index': 21,\n",
       "   'Candidate': 'Clinton',\n",
       "   'Party': 'Democratic',\n",
       "   '%': 48.2,\n",
       "   'Year': 2016,\n",
       "   'Result': 'loss'},\n",
       "  {'index': 22,\n",
       "   'Candidate': 'Trump',\n",
       "   'Party': 'Republican',\n",
       "   '%': 46.1,\n",
       "   'Year': 2016,\n",
       "   'Result': 'win'}]}"
      ]
     },
     "execution_count": 7,
     "metadata": {},
     "output_type": "execute_result"
    }
   ],
   "source": [
    "elections_json_table"
   ]
  },
  {
   "cell_type": "markdown",
   "metadata": {},
   "source": [
    "## YAML"
   ]
  },
  {
   "cell_type": "code",
   "execution_count": 8,
   "metadata": {},
   "outputs": [],
   "source": [
    "with open('legislators-current.yaml') as fh:\n",
    "    legislators = yaml.load(fh)\n",
    "    len(legislators)"
   ]
  },
  {
   "cell_type": "code",
   "execution_count": 9,
   "metadata": {},
   "outputs": [
    {
     "data": {
      "text/plain": [
       "{'bioguide': 'B000944',\n",
       " 'thomas': '00136',\n",
       " 'lis': 'S307',\n",
       " 'govtrack': 400050,\n",
       " 'opensecrets': 'N00003535',\n",
       " 'votesmart': 27018,\n",
       " 'fec': ['H2OH13033', 'S6OH00163'],\n",
       " 'cspan': 5051,\n",
       " 'wikipedia': 'Sherrod Brown',\n",
       " 'house_history': 9996,\n",
       " 'ballotpedia': 'Sherrod Brown',\n",
       " 'maplight': 168,\n",
       " 'icpsr': 29389,\n",
       " 'wikidata': 'Q381880',\n",
       " 'google_entity_id': 'kg:/m/034s80'}"
      ]
     },
     "execution_count": 9,
     "metadata": {},
     "output_type": "execute_result"
    }
   ],
   "source": [
    "x = legislators[0]\n",
    "x['id']"
   ]
  },
  {
   "cell_type": "code",
   "execution_count": null,
   "metadata": {},
   "outputs": [],
   "source": [
    "legislators"
   ]
  },
  {
   "cell_type": "code",
   "execution_count": 11,
   "metadata": {},
   "outputs": [
    {
     "data": {
      "text/plain": [
       "{'first': 'Sherrod', 'last': 'Brown', 'official_full': 'Sherrod Brown'}"
      ]
     },
     "execution_count": 11,
     "metadata": {},
     "output_type": "execute_result"
    }
   ],
   "source": [
    "x['name']"
   ]
  },
  {
   "cell_type": "code",
   "execution_count": 12,
   "metadata": {},
   "outputs": [
    {
     "data": {
      "text/plain": [
       "{'birthday': '1952-11-09', 'gender': 'M'}"
      ]
     },
     "execution_count": 12,
     "metadata": {},
     "output_type": "execute_result"
    }
   ],
   "source": [
    "x['bio']"
   ]
  },
  {
   "cell_type": "code",
   "execution_count": 13,
   "metadata": {},
   "outputs": [
    {
     "data": {
      "text/plain": [
       "datetime.datetime(1952, 11, 9, 0, 0)"
      ]
     },
     "execution_count": 13,
     "metadata": {},
     "output_type": "execute_result"
    }
   ],
   "source": [
    "def to_date(s):\n",
    "    return datetime.strptime(s, '%Y-%m-%d')\n",
    "\n",
    "to_date(x['bio']['birthday'])"
   ]
  },
  {
   "cell_type": "code",
   "execution_count": 15,
   "metadata": {},
   "outputs": [
    {
     "data": {
      "text/html": [
       "<div>\n",
       "<style scoped>\n",
       "    .dataframe tbody tr th:only-of-type {\n",
       "        vertical-align: middle;\n",
       "    }\n",
       "\n",
       "    .dataframe tbody tr th {\n",
       "        vertical-align: top;\n",
       "    }\n",
       "\n",
       "    .dataframe thead th {\n",
       "        text-align: right;\n",
       "    }\n",
       "</style>\n",
       "<table border=\"1\" class=\"dataframe\">\n",
       "  <thead>\n",
       "    <tr style=\"text-align: right;\">\n",
       "      <th></th>\n",
       "      <th>id</th>\n",
       "      <th>first</th>\n",
       "      <th>last</th>\n",
       "      <th>birthday</th>\n",
       "    </tr>\n",
       "  </thead>\n",
       "  <tbody>\n",
       "    <tr>\n",
       "      <th>0</th>\n",
       "      <td>B000944</td>\n",
       "      <td>Sherrod</td>\n",
       "      <td>Brown</td>\n",
       "      <td>1952-11-09</td>\n",
       "    </tr>\n",
       "    <tr>\n",
       "      <th>1</th>\n",
       "      <td>C000127</td>\n",
       "      <td>Maria</td>\n",
       "      <td>Cantwell</td>\n",
       "      <td>1958-10-13</td>\n",
       "    </tr>\n",
       "    <tr>\n",
       "      <th>2</th>\n",
       "      <td>C000141</td>\n",
       "      <td>Benjamin</td>\n",
       "      <td>Cardin</td>\n",
       "      <td>1943-10-05</td>\n",
       "    </tr>\n",
       "    <tr>\n",
       "      <th>3</th>\n",
       "      <td>C000174</td>\n",
       "      <td>Thomas</td>\n",
       "      <td>Carper</td>\n",
       "      <td>1947-01-23</td>\n",
       "    </tr>\n",
       "    <tr>\n",
       "      <th>4</th>\n",
       "      <td>C001070</td>\n",
       "      <td>Robert</td>\n",
       "      <td>Casey</td>\n",
       "      <td>1960-04-13</td>\n",
       "    </tr>\n",
       "  </tbody>\n",
       "</table>\n",
       "</div>"
      ],
      "text/plain": [
       "        id     first      last   birthday\n",
       "0  B000944   Sherrod     Brown 1952-11-09\n",
       "1  C000127     Maria  Cantwell 1958-10-13\n",
       "2  C000141  Benjamin    Cardin 1943-10-05\n",
       "3  C000174    Thomas    Carper 1947-01-23\n",
       "4  C001070    Robert     Casey 1960-04-13"
      ]
     },
     "execution_count": 15,
     "metadata": {},
     "output_type": "execute_result"
    }
   ],
   "source": [
    "leg_df = pd.DataFrame(\n",
    "    columns=['id', 'first', 'last', 'birthday'],\n",
    "    data=[[x['id']['bioguide'], \n",
    "           x['name']['first'],\n",
    "           x['name']['last'],\n",
    "           to_date(x['bio']['birthday'])] for x in legislators])\n",
    "leg_df.head()"
   ]
  },
  {
   "cell_type": "code",
   "execution_count": 16,
   "metadata": {},
   "outputs": [
    {
     "data": {
      "text/plain": [
       "Timedelta('24433 days 16:23:25.759425')"
      ]
     },
     "execution_count": 16,
     "metadata": {},
     "output_type": "execute_result"
    }
   ],
   "source": [
    "datetime.now() - leg_df.loc[0, 'birthday']"
   ]
  },
  {
   "cell_type": "code",
   "execution_count": 17,
   "metadata": {},
   "outputs": [
    {
     "data": {
      "text/html": [
       "<div>\n",
       "<style scoped>\n",
       "    .dataframe tbody tr th:only-of-type {\n",
       "        vertical-align: middle;\n",
       "    }\n",
       "\n",
       "    .dataframe tbody tr th {\n",
       "        vertical-align: top;\n",
       "    }\n",
       "\n",
       "    .dataframe thead th {\n",
       "        text-align: right;\n",
       "    }\n",
       "</style>\n",
       "<table border=\"1\" class=\"dataframe\">\n",
       "  <thead>\n",
       "    <tr style=\"text-align: right;\">\n",
       "      <th></th>\n",
       "      <th>id</th>\n",
       "      <th>first</th>\n",
       "      <th>last</th>\n",
       "      <th>birthday</th>\n",
       "      <th>age</th>\n",
       "    </tr>\n",
       "  </thead>\n",
       "  <tbody>\n",
       "    <tr>\n",
       "      <th>0</th>\n",
       "      <td>B000944</td>\n",
       "      <td>Sherrod</td>\n",
       "      <td>Brown</td>\n",
       "      <td>1952-11-09</td>\n",
       "      <td>66.939726</td>\n",
       "    </tr>\n",
       "    <tr>\n",
       "      <th>1</th>\n",
       "      <td>C000127</td>\n",
       "      <td>Maria</td>\n",
       "      <td>Cantwell</td>\n",
       "      <td>1958-10-13</td>\n",
       "      <td>61.010959</td>\n",
       "    </tr>\n",
       "    <tr>\n",
       "      <th>2</th>\n",
       "      <td>C000141</td>\n",
       "      <td>Benjamin</td>\n",
       "      <td>Cardin</td>\n",
       "      <td>1943-10-05</td>\n",
       "      <td>76.043836</td>\n",
       "    </tr>\n",
       "    <tr>\n",
       "      <th>3</th>\n",
       "      <td>C000174</td>\n",
       "      <td>Thomas</td>\n",
       "      <td>Carper</td>\n",
       "      <td>1947-01-23</td>\n",
       "      <td>72.739726</td>\n",
       "    </tr>\n",
       "    <tr>\n",
       "      <th>4</th>\n",
       "      <td>C001070</td>\n",
       "      <td>Robert</td>\n",
       "      <td>Casey</td>\n",
       "      <td>1960-04-13</td>\n",
       "      <td>59.509589</td>\n",
       "    </tr>\n",
       "  </tbody>\n",
       "</table>\n",
       "</div>"
      ],
      "text/plain": [
       "        id     first      last   birthday        age\n",
       "0  B000944   Sherrod     Brown 1952-11-09  66.939726\n",
       "1  C000127     Maria  Cantwell 1958-10-13  61.010959\n",
       "2  C000141  Benjamin    Cardin 1943-10-05  76.043836\n",
       "3  C000174    Thomas    Carper 1947-01-23  72.739726\n",
       "4  C001070    Robert     Casey 1960-04-13  59.509589"
      ]
     },
     "execution_count": 17,
     "metadata": {},
     "output_type": "execute_result"
    }
   ],
   "source": [
    "leg_df['age'] = (datetime.now() - leg_df['birthday']).apply(lambda age: age.days/365)\n",
    "leg_df.head()"
   ]
  },
  {
   "cell_type": "code",
   "execution_count": 18,
   "metadata": {},
   "outputs": [
    {
     "data": {
      "image/png": "[encoded data removed]",
      "text/plain": [
       "<Figure size 432x288 with 1 Axes>"
      ]
     },
     "metadata": {
      "needs_background": "light"
     },
     "output_type": "display_data"
    }
   ],
   "source": [
    "leg_df['age'].plot(kind='hist');"
   ]
  },
  {
   "cell_type": "markdown",
   "metadata": {},
   "source": [
    "## Joins"
   ]
  },
  {
   "cell_type": "code",
   "execution_count": 19,
   "metadata": {},
   "outputs": [],
   "source": [
    "comm_path = 'committees-current.yaml'\n",
    "comm_membership_path = 'committee-membership-current.yaml'\n",
    "comms = None \n",
    "comm_membership = None"
   ]
  },
  {
   "cell_type": "code",
   "execution_count": 20,
   "metadata": {},
   "outputs": [],
   "source": [
    "with open(comm_path, encoding=\"utf8\") as fh:\n",
    "    comms = yaml.load(fh)"
   ]
  },
  {
   "cell_type": "code",
   "execution_count": 21,
   "metadata": {},
   "outputs": [],
   "source": [
    "with open(comm_membership_path) as fh: \n",
    "    comm_membership = yaml.load(fh)"
   ]
  },
  {
   "cell_type": "code",
   "execution_count": 22,
   "metadata": {},
   "outputs": [
    {
     "name": "stdout",
     "output_type": "stream",
     "text": [
      "47 217\n"
     ]
    }
   ],
   "source": [
    "print(len(comms), len(comm_membership))"
   ]
  },
  {
   "cell_type": "code",
   "execution_count": 23,
   "metadata": {},
   "outputs": [
    {
     "data": {
      "text/plain": [
       "{'type': 'house',\n",
       " 'name': 'House Committee on Agriculture',\n",
       " 'url': 'https://agriculture.house.gov/',\n",
       " 'minority_url': 'https://democrats-agriculture.house.gov/',\n",
       " 'thomas_id': 'HSAG',\n",
       " 'house_committee_id': 'AG',\n",
       " 'subcommittees': [{'name': 'Conservation and Forestry',\n",
       "   'thomas_id': '15',\n",
       "   'address': '1301 LHOB; Washington, DC 20515',\n",
       "   'phone': '(202) 225-2171'},\n",
       "  {'name': 'Commodity Exchanges, Energy, and Credit',\n",
       "   'thomas_id': '22',\n",
       "   'address': '1301 LHOB; Washington, DC 20515',\n",
       "   'phone': '(202) 225-2171'},\n",
       "  {'name': 'General Farm Commodities and Risk Management',\n",
       "   'thomas_id': '16',\n",
       "   'address': '1301 LHOB; Washington, DC 20515',\n",
       "   'phone': '(202) 225-2171'},\n",
       "  {'name': 'Livestock and Foreign Agriculture',\n",
       "   'thomas_id': '29',\n",
       "   'address': '1301 LHOB; Washington, DC 20515',\n",
       "   'phone': '(202) 225-2171'},\n",
       "  {'name': 'Biotechnology, Horticulture, and Research',\n",
       "   'thomas_id': '14',\n",
       "   'address': '1301 LHOB; Washington, DC 20515',\n",
       "   'phone': '(202) 225-2171'},\n",
       "  {'name': 'Nutrition',\n",
       "   'thomas_id': '03',\n",
       "   'address': '1301 LHOB; Washington, DC 20515',\n",
       "   'phone': '(202) 225-2171'}],\n",
       " 'address': '1301 LHOB; Washington, DC 20515-6001',\n",
       " 'phone': '(202) 225-2171',\n",
       " 'rss_url': 'https://agriculture.house.gov/news/rss.aspx',\n",
       " 'minority_rss_url': 'https://democrats-agriculture.house.gov/Rss.aspx?GroupID=1',\n",
       " 'jurisdiction': 'The House Committee on Agriculture has legislative jurisdiction over agriculture, food, rural development, and forestry.',\n",
       " 'jurisdiction_source': 'https://agriculture.house.gov/issuesinfocus/'}"
      ]
     },
     "execution_count": 23,
     "metadata": {},
     "output_type": "execute_result"
    }
   ],
   "source": [
    "comms[0]"
   ]
  },
  {
   "cell_type": "code",
   "execution_count": 24,
   "metadata": {},
   "outputs": [
    {
     "data": {
      "text/html": [
       "<div>\n",
       "<style scoped>\n",
       "    .dataframe tbody tr th:only-of-type {\n",
       "        vertical-align: middle;\n",
       "    }\n",
       "\n",
       "    .dataframe tbody tr th {\n",
       "        vertical-align: top;\n",
       "    }\n",
       "\n",
       "    .dataframe thead th {\n",
       "        text-align: right;\n",
       "    }\n",
       "</style>\n",
       "<table border=\"1\" class=\"dataframe\">\n",
       "  <thead>\n",
       "    <tr style=\"text-align: right;\">\n",
       "      <th></th>\n",
       "      <th>name</th>\n",
       "      <th>thomas_id</th>\n",
       "      <th>type</th>\n",
       "    </tr>\n",
       "  </thead>\n",
       "  <tbody>\n",
       "    <tr>\n",
       "      <th>0</th>\n",
       "      <td>House Committee on Agriculture</td>\n",
       "      <td>HSAG</td>\n",
       "      <td>house</td>\n",
       "    </tr>\n",
       "    <tr>\n",
       "      <th>1</th>\n",
       "      <td>House Committee on Appropriations</td>\n",
       "      <td>HSAP</td>\n",
       "      <td>house</td>\n",
       "    </tr>\n",
       "    <tr>\n",
       "      <th>2</th>\n",
       "      <td>House Committee on Armed Services</td>\n",
       "      <td>HSAS</td>\n",
       "      <td>house</td>\n",
       "    </tr>\n",
       "    <tr>\n",
       "      <th>3</th>\n",
       "      <td>House Committee on Financial Services</td>\n",
       "      <td>HSBA</td>\n",
       "      <td>house</td>\n",
       "    </tr>\n",
       "    <tr>\n",
       "      <th>4</th>\n",
       "      <td>House Committee on the Budget</td>\n",
       "      <td>HSBU</td>\n",
       "      <td>house</td>\n",
       "    </tr>\n",
       "  </tbody>\n",
       "</table>\n",
       "</div>"
      ],
      "text/plain": [
       "                                    name thomas_id   type\n",
       "0         House Committee on Agriculture      HSAG  house\n",
       "1      House Committee on Appropriations      HSAP  house\n",
       "2      House Committee on Armed Services      HSAS  house\n",
       "3  House Committee on Financial Services      HSBA  house\n",
       "4          House Committee on the Budget      HSBU  house"
      ]
     },
     "execution_count": 24,
     "metadata": {},
     "output_type": "execute_result"
    }
   ],
   "source": [
    "comm_df = pd.DataFrame(\n",
    "    columns=['name', 'thomas_id', 'type'],\n",
    "    data=[[c['name'], c['thomas_id'], c['type']] for c in comms]\n",
    ")\n",
    "comm_df.head()"
   ]
  },
  {
   "cell_type": "code",
   "execution_count": 100,
   "metadata": {},
   "outputs": [
    {
     "data": {
      "text/plain": [
       "dict_keys(['HLIG', 'HLIG01', 'HLIG02', 'HLIG03', 'HLIG04', 'HSAG', 'HSAG03', 'HSAG14', 'HSAG15', 'HSAG16', 'HSAG22', 'HSAG29', 'HSAP', 'HSAP01', 'HSAP02', 'HSAP04', 'HSAP06', 'HSAP07', 'HSAP10', 'HSAP15', 'HSAP18', 'HSAP19', 'HSAP20', 'HSAP23', 'HSAP24', 'HSAS', 'HSAS02', 'HSAS03', 'HSAS06', 'HSAS25', 'HSAS26', 'HSAS28', 'HSAS29', 'HSBA', 'HSBA01', 'HSBA04', 'HSBA09', 'HSBA15', 'HSBA16', 'HSBA20', 'HSBU', 'HSED', 'HSED02', 'HSED10', 'HSED13', 'HSED14', 'HSFA', 'HSFA05', 'HSFA07', 'HSFA13', 'HSFA14', 'HSFA16', 'HSFA18', 'HSGO', 'HSGO06', 'HSGO24', 'HSGO25', 'HSGO27', 'HSGO28', 'HSGO29', 'HSHA', 'HSHM', 'HSHM05', 'HSHM07', 'HSHM08', 'HSHM09', 'HSHM11', 'HSHM12', 'HSIF', 'HSIF02', 'HSIF03', 'HSIF14', 'HSIF16', 'HSIF17', 'HSIF18', 'HSII', 'HSII06', 'HSII10', 'HSII13', 'HSII15', 'HSII24', 'HSJU', 'HSJU01', 'HSJU03', 'HSJU05', 'HSJU08', 'HSJU10', 'HSPW', 'HSPW02', 'HSPW05', 'HSPW07', 'HSPW12', 'HSPW13', 'HSPW14', 'HSRU', 'HSRU02', 'HSRU04', 'HSSM', 'HSSM23', 'HSSM24', 'HSSM25', 'HSSM26', 'HSSM27', 'HSSO', 'HSSY', 'HSSY15', 'HSSY16', 'HSSY18', 'HSSY20', 'HSSY21', 'HSVR', 'HSVR03', 'HSVR08', 'HSVR09', 'HSVR10', 'HSVR11', 'HSWM', 'HSWM01', 'HSWM02', 'HSWM03', 'HSWM04', 'HSWM05', 'HSWM06', 'JCSE', 'JSEC', 'JSLC', 'JSPR', 'JSTX', 'SCNC', 'SLET', 'SLIA', 'SLIN', 'SPAG', 'SSAF', 'SSAF13', 'SSAF14', 'SSAF15', 'SSAF16', 'SSAF17', 'SSAP', 'SSAP01', 'SSAP02', 'SSAP08', 'SSAP14', 'SSAP16', 'SSAP17', 'SSAP18', 'SSAP19', 'SSAP20', 'SSAP22', 'SSAP23', 'SSAP24', 'SSAS', 'SSAS13', 'SSAS14', 'SSAS15', 'SSAS16', 'SSAS17', 'SSAS20', 'SSAS21', 'SSBK', 'SSBK04', 'SSBK05', 'SSBK08', 'SSBK09', 'SSBK12', 'SSBU', 'SSCM', 'SSCM01', 'SSCM20', 'SSCM22', 'SSCM24', 'SSCM25', 'SSCM26', 'SSEG', 'SSEG01', 'SSEG03', 'SSEG04', 'SSEG07', 'SSEV', 'SSEV08', 'SSEV09', 'SSEV10', 'SSEV15', 'SSFI', 'SSFI02', 'SSFI10', 'SSFI11', 'SSFI12', 'SSFI13', 'SSFI14', 'SSFR', 'SSFR01', 'SSFR02', 'SSFR06', 'SSFR07', 'SSFR09', 'SSFR14', 'SSFR15', 'SSGA', 'SSGA01', 'SSGA18', 'SSGA19', 'SSHR', 'SSHR09', 'SSHR11', 'SSHR12', 'SSJU', 'SSJU01', 'SSJU04', 'SSJU21', 'SSJU22', 'SSJU23', 'SSJU25', 'SSRA', 'SSSB', 'SSVA'])"
      ]
     },
     "execution_count": 100,
     "metadata": {},
     "output_type": "execute_result"
    }
   ],
   "source": [
    "comm_membership.keys()"
   ]
  },
  {
   "cell_type": "code",
   "execution_count": 101,
   "metadata": {},
   "outputs": [
    {
     "data": {
      "text/plain": [
       "{'name': 'K. Michael Conaway',\n",
       " 'party': 'majority',\n",
       " 'rank': 1,\n",
       " 'title': 'Chair',\n",
       " 'thomas': '01805',\n",
       " 'bioguide': 'C001062'}"
      ]
     },
     "execution_count": 101,
     "metadata": {},
     "output_type": "execute_result"
    }
   ],
   "source": [
    "comm_membership['HSAG'][0]"
   ]
  },
  {
   "cell_type": "code",
   "execution_count": 102,
   "metadata": {},
   "outputs": [
    {
     "data": {
      "text/html": [
       "<div>\n",
       "<style scoped>\n",
       "    .dataframe tbody tr th:only-of-type {\n",
       "        vertical-align: middle;\n",
       "    }\n",
       "\n",
       "    .dataframe tbody tr th {\n",
       "        vertical-align: top;\n",
       "    }\n",
       "\n",
       "    .dataframe thead th {\n",
       "        text-align: right;\n",
       "    }\n",
       "</style>\n",
       "<table border=\"1\" class=\"dataframe\">\n",
       "  <thead>\n",
       "    <tr style=\"text-align: right;\">\n",
       "      <th></th>\n",
       "      <th>comm_id</th>\n",
       "      <th>leg_id</th>\n",
       "    </tr>\n",
       "  </thead>\n",
       "  <tbody>\n",
       "    <tr>\n",
       "      <th>0</th>\n",
       "      <td>HLIG</td>\n",
       "      <td>N000181</td>\n",
       "    </tr>\n",
       "    <tr>\n",
       "      <th>1</th>\n",
       "      <td>HLIG</td>\n",
       "      <td>C001062</td>\n",
       "    </tr>\n",
       "    <tr>\n",
       "      <th>2</th>\n",
       "      <td>HLIG</td>\n",
       "      <td>K000210</td>\n",
       "    </tr>\n",
       "    <tr>\n",
       "      <th>3</th>\n",
       "      <td>HLIG</td>\n",
       "      <td>T000463</td>\n",
       "    </tr>\n",
       "    <tr>\n",
       "      <th>4</th>\n",
       "      <td>HLIG</td>\n",
       "      <td>W000815</td>\n",
       "    </tr>\n",
       "  </tbody>\n",
       "</table>\n",
       "</div>"
      ],
      "text/plain": [
       "  comm_id   leg_id\n",
       "0    HLIG  N000181\n",
       "1    HLIG  C001062\n",
       "2    HLIG  K000210\n",
       "3    HLIG  T000463\n",
       "4    HLIG  W000815"
      ]
     },
     "execution_count": 102,
     "metadata": {},
     "output_type": "execute_result"
    }
   ],
   "source": [
    "member_df = pd.DataFrame(\n",
    "    columns=['comm_id', 'leg_id'],\n",
    "    data=[[c, m['bioguide']] for c, members in comm_membership.items() for m in members]\n",
    ")\n",
    "member_df.head()"
   ]
  },
  {
   "cell_type": "code",
   "execution_count": 103,
   "metadata": {},
   "outputs": [
    {
     "data": {
      "text/html": [
       "<div>\n",
       "<style scoped>\n",
       "    .dataframe tbody tr th:only-of-type {\n",
       "        vertical-align: middle;\n",
       "    }\n",
       "\n",
       "    .dataframe tbody tr th {\n",
       "        vertical-align: top;\n",
       "    }\n",
       "\n",
       "    .dataframe thead th {\n",
       "        text-align: right;\n",
       "    }\n",
       "</style>\n",
       "<table border=\"1\" class=\"dataframe\">\n",
       "  <thead>\n",
       "    <tr style=\"text-align: right;\">\n",
       "      <th></th>\n",
       "      <th>comm_id</th>\n",
       "      <th>leg_id</th>\n",
       "      <th>name</th>\n",
       "      <th>thomas_id</th>\n",
       "      <th>type</th>\n",
       "    </tr>\n",
       "  </thead>\n",
       "  <tbody>\n",
       "    <tr>\n",
       "      <th>0</th>\n",
       "      <td>HLIG</td>\n",
       "      <td>N000181</td>\n",
       "      <td>House Permanent Select Committee on Intelligence</td>\n",
       "      <td>HLIG</td>\n",
       "      <td>house</td>\n",
       "    </tr>\n",
       "    <tr>\n",
       "      <th>1</th>\n",
       "      <td>HLIG</td>\n",
       "      <td>C001062</td>\n",
       "      <td>House Permanent Select Committee on Intelligence</td>\n",
       "      <td>HLIG</td>\n",
       "      <td>house</td>\n",
       "    </tr>\n",
       "    <tr>\n",
       "      <th>2</th>\n",
       "      <td>HLIG</td>\n",
       "      <td>K000210</td>\n",
       "      <td>House Permanent Select Committee on Intelligence</td>\n",
       "      <td>HLIG</td>\n",
       "      <td>house</td>\n",
       "    </tr>\n",
       "    <tr>\n",
       "      <th>3</th>\n",
       "      <td>HLIG</td>\n",
       "      <td>T000463</td>\n",
       "      <td>House Permanent Select Committee on Intelligence</td>\n",
       "      <td>HLIG</td>\n",
       "      <td>house</td>\n",
       "    </tr>\n",
       "    <tr>\n",
       "      <th>4</th>\n",
       "      <td>HLIG</td>\n",
       "      <td>W000815</td>\n",
       "      <td>House Permanent Select Committee on Intelligence</td>\n",
       "      <td>HLIG</td>\n",
       "      <td>house</td>\n",
       "    </tr>\n",
       "  </tbody>\n",
       "</table>\n",
       "</div>"
      ],
      "text/plain": [
       "  comm_id   leg_id                                              name  \\\n",
       "0    HLIG  N000181  House Permanent Select Committee on Intelligence   \n",
       "1    HLIG  C001062  House Permanent Select Committee on Intelligence   \n",
       "2    HLIG  K000210  House Permanent Select Committee on Intelligence   \n",
       "3    HLIG  T000463  House Permanent Select Committee on Intelligence   \n",
       "4    HLIG  W000815  House Permanent Select Committee on Intelligence   \n",
       "\n",
       "  thomas_id   type  \n",
       "0      HLIG  house  \n",
       "1      HLIG  house  \n",
       "2      HLIG  house  \n",
       "3      HLIG  house  \n",
       "4      HLIG  house  "
      ]
     },
     "execution_count": 103,
     "metadata": {},
     "output_type": "execute_result"
    }
   ],
   "source": [
    "member_comm = member_df.merge(comm_df, left_on='comm_id', right_on='thomas_id')\n",
    "member_comm.head()"
   ]
  },
  {
   "cell_type": "code",
   "execution_count": 104,
   "metadata": {},
   "outputs": [
    {
     "data": {
      "text/plain": [
       "House Committee on Armed Services                                 48\n",
       "House Committee on Energy and Commerce                            48\n",
       "House Committee on Transportation and Infrastructure              47\n",
       "House Committee on Appropriations                                 44\n",
       "House Committee on Financial Services                             43\n",
       "House Committee on Agriculture                                    40\n",
       "House Committee on Foreign Affairs                                38\n",
       "House Committee on Natural Resources                              37\n",
       "House Committee on Oversight and Reform                           34\n",
       "House Committee on Science, Space, and Technology                 32\n",
       "Senate Committee on Appropriations                                31\n",
       "House Committee on Education and Labor                            30\n",
       "House Committee on the Judiciary                                  29\n",
       "House Committee on Ways and Means                                 28\n",
       "House Committee on the Budget                                     28\n",
       "Senate Committee on Commerce, Science, and Transportation         25\n",
       "House Committee on Homeland Security                              25\n",
       "Senate Committee on Finance                                       23\n",
       "Senate Committee on Armed Services                                23\n",
       "Senate Committee on Health, Education, Labor, and Pensions        22\n",
       "Senate Committee on the Budget                                    22\n",
       "Senate Committee on Energy and Natural Resources                  22\n",
       "Senate Committee on Banking, Housing, and Urban Affairs           21\n",
       "Senate Committee on Environment and Public Works                  21\n",
       "House Committee on Small Business                                 20\n",
       "Senate Committee on Foreign Relations                             19\n",
       "Senate Committee on Agriculture, Nutrition, and Forestry          19\n",
       "House Committee on Veterans' Affairs                              19\n",
       "Senate Select Committee on Intelligence                           19\n",
       "Senate Committee on Rules and Administration                      19\n",
       "Senate Committee on the Judiciary                                 19\n",
       "House Permanent Select Committee on Intelligence                  18\n",
       "Senate Committee on Small Business and Entrepreneurship           18\n",
       "Joint Economic Committee                                          15\n",
       "Senate Committee on Veterans' Affairs                             14\n",
       "Commission on Security and Cooperation in Europe                  14\n",
       "Senate Committee on Indian Affairs                                13\n",
       "Senate Committee on Homeland Security and Governmental Affairs    12\n",
       "Senate Special Committee on Aging                                 12\n",
       "House Committee on Rules                                          11\n",
       "House Committee on Ethics                                          7\n",
       "Joint Committee on the Library                                     7\n",
       "Senate Select Committee on Ethics                                  6\n",
       "House Committee on House Administration                            6\n",
       "Joint Committee on Printing                                        6\n",
       "United States Senate Caucus on International Narcotics Control     5\n",
       "Joint Committee on Taxation                                        5\n",
       "Name: name, dtype: int64"
      ]
     },
     "execution_count": 104,
     "metadata": {},
     "output_type": "execute_result"
    }
   ],
   "source": [
    "comm_sizes = member_comm['name'].value_counts()\n",
    "comm_sizes"
   ]
  },
  {
   "cell_type": "code",
   "execution_count": 105,
   "metadata": {},
   "outputs": [
    {
     "data": {
      "text/html": [
       "<div>\n",
       "<style scoped>\n",
       "    .dataframe tbody tr th:only-of-type {\n",
       "        vertical-align: middle;\n",
       "    }\n",
       "\n",
       "    .dataframe tbody tr th {\n",
       "        vertical-align: top;\n",
       "    }\n",
       "\n",
       "    .dataframe thead th {\n",
       "        text-align: right;\n",
       "    }\n",
       "</style>\n",
       "<table border=\"1\" class=\"dataframe\">\n",
       "  <thead>\n",
       "    <tr style=\"text-align: right;\">\n",
       "      <th></th>\n",
       "      <th>comm_id</th>\n",
       "      <th>leg_id</th>\n",
       "      <th>name</th>\n",
       "      <th>thomas_id</th>\n",
       "      <th>type</th>\n",
       "      <th>id</th>\n",
       "      <th>first</th>\n",
       "      <th>last</th>\n",
       "      <th>birthday</th>\n",
       "      <th>age</th>\n",
       "      <th>religion</th>\n",
       "    </tr>\n",
       "  </thead>\n",
       "  <tbody>\n",
       "    <tr>\n",
       "      <th>0</th>\n",
       "      <td>HLIG</td>\n",
       "      <td>N000181</td>\n",
       "      <td>House Permanent Select Committee on Intelligence</td>\n",
       "      <td>HLIG</td>\n",
       "      <td>house</td>\n",
       "      <td>N000181</td>\n",
       "      <td>Devin</td>\n",
       "      <td>Nunes</td>\n",
       "      <td>1973-10-01</td>\n",
       "      <td>46.030137</td>\n",
       "      <td>None</td>\n",
       "    </tr>\n",
       "    <tr>\n",
       "      <th>1</th>\n",
       "      <td>HSWM</td>\n",
       "      <td>N000181</td>\n",
       "      <td>House Committee on Ways and Means</td>\n",
       "      <td>HSWM</td>\n",
       "      <td>house</td>\n",
       "      <td>N000181</td>\n",
       "      <td>Devin</td>\n",
       "      <td>Nunes</td>\n",
       "      <td>1973-10-01</td>\n",
       "      <td>46.030137</td>\n",
       "      <td>None</td>\n",
       "    </tr>\n",
       "    <tr>\n",
       "      <th>2</th>\n",
       "      <td>HLIG</td>\n",
       "      <td>C001062</td>\n",
       "      <td>House Permanent Select Committee on Intelligence</td>\n",
       "      <td>HLIG</td>\n",
       "      <td>house</td>\n",
       "      <td>C001062</td>\n",
       "      <td>K.</td>\n",
       "      <td>Conaway</td>\n",
       "      <td>1948-06-11</td>\n",
       "      <td>71.353425</td>\n",
       "      <td>None</td>\n",
       "    </tr>\n",
       "    <tr>\n",
       "      <th>3</th>\n",
       "      <td>HSAG</td>\n",
       "      <td>C001062</td>\n",
       "      <td>House Committee on Agriculture</td>\n",
       "      <td>HSAG</td>\n",
       "      <td>house</td>\n",
       "      <td>C001062</td>\n",
       "      <td>K.</td>\n",
       "      <td>Conaway</td>\n",
       "      <td>1948-06-11</td>\n",
       "      <td>71.353425</td>\n",
       "      <td>None</td>\n",
       "    </tr>\n",
       "    <tr>\n",
       "      <th>4</th>\n",
       "      <td>HSAS</td>\n",
       "      <td>C001062</td>\n",
       "      <td>House Committee on Armed Services</td>\n",
       "      <td>HSAS</td>\n",
       "      <td>house</td>\n",
       "      <td>C001062</td>\n",
       "      <td>K.</td>\n",
       "      <td>Conaway</td>\n",
       "      <td>1948-06-11</td>\n",
       "      <td>71.353425</td>\n",
       "      <td>None</td>\n",
       "    </tr>\n",
       "  </tbody>\n",
       "</table>\n",
       "</div>"
      ],
      "text/plain": [
       "  comm_id   leg_id                                              name  \\\n",
       "0    HLIG  N000181  House Permanent Select Committee on Intelligence   \n",
       "1    HSWM  N000181                 House Committee on Ways and Means   \n",
       "2    HLIG  C001062  House Permanent Select Committee on Intelligence   \n",
       "3    HSAG  C001062                    House Committee on Agriculture   \n",
       "4    HSAS  C001062                 House Committee on Armed Services   \n",
       "\n",
       "  thomas_id   type       id  first     last   birthday        age religion  \n",
       "0      HLIG  house  N000181  Devin    Nunes 1973-10-01  46.030137     None  \n",
       "1      HSWM  house  N000181  Devin    Nunes 1973-10-01  46.030137     None  \n",
       "2      HLIG  house  C001062     K.  Conaway 1948-06-11  71.353425     None  \n",
       "3      HSAG  house  C001062     K.  Conaway 1948-06-11  71.353425     None  \n",
       "4      HSAS  house  C001062     K.  Conaway 1948-06-11  71.353425     None  "
      ]
     },
     "execution_count": 105,
     "metadata": {},
     "output_type": "execute_result"
    }
   ],
   "source": [
    "df = member_comm.merge(leg_df, left_on='leg_id', right_on='id')\n",
    "df.head()"
   ]
  },
  {
   "cell_type": "code",
   "execution_count": 106,
   "metadata": {},
   "outputs": [
    {
     "data": {
      "text/plain": [
       "name\n",
       "House Permanent Select Committee on Intelligence                  55.466210\n",
       "House Committee on House Administration                           55.577626\n",
       "Joint Economic Committee                                          55.827945\n",
       "House Committee on Armed Services                                 57.120373\n",
       "House Committee on the Budget                                     57.227006\n",
       "House Committee on Veterans' Affairs                              57.739582\n",
       "House Committee on Homeland Security                              57.971726\n",
       "House Committee on the Judiciary                                  58.723666\n",
       "House Committee on Foreign Affairs                                59.738356\n",
       "House Committee on Ethics                                         59.772603\n",
       "House Committee on Oversight and Reform                           59.853666\n",
       "House Committee on Financial Services                             59.858936\n",
       "House Committee on Agriculture                                    60.283630\n",
       "Senate Committee on Commerce, Science, and Transportation         61.070795\n",
       "Senate Committee on Indian Affairs                                61.117387\n",
       "House Committee on Small Business                                 61.179315\n",
       "House Committee on Natural Resources                              61.400074\n",
       "Senate Special Committee on Aging                                 61.525114\n",
       "House Committee on Energy and Commerce                            61.560731\n",
       "House Committee on Transportation and Infrastructure              61.673331\n",
       "House Committee on Ways and Means                                 62.021820\n",
       "House Committee on Rules                                          62.045081\n",
       "Senate Committee on Foreign Relations                             62.152992\n",
       "Senate Committee on Homeland Security and Governmental Affairs    62.323288\n",
       "House Committee on Science, Space, and Technology                 62.326284\n",
       "Senate Committee on Armed Services                                62.379631\n",
       "Senate Committee on Banking, Housing, and Urban Affairs           62.518069\n",
       "House Committee on Appropriations                                 62.778082\n",
       "Senate Committee on Small Business and Entrepreneurship           63.266058\n",
       "House Committee on Education and Labor                            63.559543\n",
       "Senate Committee on Energy and Natural Resources                  63.903861\n",
       "Senate Committee on Health, Education, Labor, and Pensions        64.206351\n",
       "Senate Committee on the Judiciary                                 64.720836\n",
       "Commission on Security and Cooperation in Europe                  65.511546\n",
       "Senate Committee on the Budget                                    65.587049\n",
       "Senate Committee on Agriculture, Nutrition, and Forestry          65.634174\n",
       "Senate Committee on Appropriations                                65.929916\n",
       "Senate Committee on Environment and Public Works                  66.031833\n",
       "Senate Select Committee on Intelligence                           66.359048\n",
       "Senate Committee on Finance                                       67.061227\n",
       "Senate Committee on Veterans' Affairs                             67.509980\n",
       "Senate Select Committee on Ethics                                 68.429680\n",
       "Joint Committee on Printing                                       68.496804\n",
       "Senate Committee on Rules and Administration                      70.747513\n",
       "Joint Committee on Taxation                                       71.791781\n",
       "Joint Committee on the Library                                    74.283757\n",
       "United States Senate Caucus on International Narcotics Control    76.118904\n",
       "Name: age, dtype: float64"
      ]
     },
     "execution_count": 106,
     "metadata": {},
     "output_type": "execute_result"
    }
   ],
   "source": [
    "comm_ages = df['age'].groupby(df['name']).mean().sort_values()\n",
    "comm_ages"
   ]
  },
  {
   "cell_type": "code",
   "execution_count": 107,
   "metadata": {},
   "outputs": [
    {
     "data": {
      "text/plain": [
       "59.24362721427306"
      ]
     },
     "execution_count": 107,
     "metadata": {},
     "output_type": "execute_result"
    }
   ],
   "source": [
    "leg_df['age'].mean()"
   ]
  },
  {
   "cell_type": "code",
   "execution_count": 108,
   "metadata": {},
   "outputs": [
    {
     "data": {
      "text/html": [
       "<div>\n",
       "<style scoped>\n",
       "    .dataframe tbody tr th:only-of-type {\n",
       "        vertical-align: middle;\n",
       "    }\n",
       "\n",
       "    .dataframe tbody tr th {\n",
       "        vertical-align: top;\n",
       "    }\n",
       "\n",
       "    .dataframe thead th {\n",
       "        text-align: right;\n",
       "    }\n",
       "</style>\n",
       "<table border=\"1\" class=\"dataframe\">\n",
       "  <thead>\n",
       "    <tr style=\"text-align: right;\">\n",
       "      <th></th>\n",
       "      <th>index</th>\n",
       "      <th>leg_id</th>\n",
       "    </tr>\n",
       "  </thead>\n",
       "  <tbody>\n",
       "    <tr>\n",
       "      <th>0</th>\n",
       "      <td>L000174</td>\n",
       "      <td>24</td>\n",
       "    </tr>\n",
       "    <tr>\n",
       "      <th>1</th>\n",
       "      <td>S000320</td>\n",
       "      <td>23</td>\n",
       "    </tr>\n",
       "    <tr>\n",
       "      <th>2</th>\n",
       "      <td>M000934</td>\n",
       "      <td>22</td>\n",
       "    </tr>\n",
       "    <tr>\n",
       "      <th>3</th>\n",
       "      <td>C001047</td>\n",
       "      <td>22</td>\n",
       "    </tr>\n",
       "    <tr>\n",
       "      <th>4</th>\n",
       "      <td>U000039</td>\n",
       "      <td>21</td>\n",
       "    </tr>\n",
       "  </tbody>\n",
       "</table>\n",
       "</div>"
      ],
      "text/plain": [
       "     index  leg_id\n",
       "0  L000174      24\n",
       "1  S000320      23\n",
       "2  M000934      22\n",
       "3  C001047      22\n",
       "4  U000039      21"
      ]
     },
     "execution_count": 108,
     "metadata": {},
     "output_type": "execute_result"
    }
   ],
   "source": [
    "member_count = member_df['leg_id'].value_counts().to_frame().reset_index()\n",
    "member_count.head()"
   ]
  },
  {
   "cell_type": "code",
   "execution_count": 109,
   "metadata": {},
   "outputs": [
    {
     "data": {
      "text/html": [
       "<div>\n",
       "<style scoped>\n",
       "    .dataframe tbody tr th:only-of-type {\n",
       "        vertical-align: middle;\n",
       "    }\n",
       "\n",
       "    .dataframe tbody tr th {\n",
       "        vertical-align: top;\n",
       "    }\n",
       "\n",
       "    .dataframe thead th {\n",
       "        text-align: right;\n",
       "    }\n",
       "</style>\n",
       "<table border=\"1\" class=\"dataframe\">\n",
       "  <thead>\n",
       "    <tr style=\"text-align: right;\">\n",
       "      <th></th>\n",
       "      <th>id</th>\n",
       "      <th>num_comms</th>\n",
       "    </tr>\n",
       "  </thead>\n",
       "  <tbody>\n",
       "    <tr>\n",
       "      <th>0</th>\n",
       "      <td>L000174</td>\n",
       "      <td>24</td>\n",
       "    </tr>\n",
       "    <tr>\n",
       "      <th>1</th>\n",
       "      <td>S000320</td>\n",
       "      <td>23</td>\n",
       "    </tr>\n",
       "    <tr>\n",
       "      <th>2</th>\n",
       "      <td>M000934</td>\n",
       "      <td>22</td>\n",
       "    </tr>\n",
       "    <tr>\n",
       "      <th>3</th>\n",
       "      <td>C001047</td>\n",
       "      <td>22</td>\n",
       "    </tr>\n",
       "    <tr>\n",
       "      <th>4</th>\n",
       "      <td>U000039</td>\n",
       "      <td>21</td>\n",
       "    </tr>\n",
       "  </tbody>\n",
       "</table>\n",
       "</div>"
      ],
      "text/plain": [
       "        id  num_comms\n",
       "0  L000174         24\n",
       "1  S000320         23\n",
       "2  M000934         22\n",
       "3  C001047         22\n",
       "4  U000039         21"
      ]
     },
     "execution_count": 109,
     "metadata": {},
     "output_type": "execute_result"
    }
   ],
   "source": [
    "member_count.columns = ['id', 'num_comms']\n",
    "member_count.head()"
   ]
  },
  {
   "cell_type": "code",
   "execution_count": 110,
   "metadata": {},
   "outputs": [
    {
     "data": {
      "text/html": [
       "<div>\n",
       "<style scoped>\n",
       "    .dataframe tbody tr th:only-of-type {\n",
       "        vertical-align: middle;\n",
       "    }\n",
       "\n",
       "    .dataframe tbody tr th {\n",
       "        vertical-align: top;\n",
       "    }\n",
       "\n",
       "    .dataframe thead th {\n",
       "        text-align: right;\n",
       "    }\n",
       "</style>\n",
       "<table border=\"1\" class=\"dataframe\">\n",
       "  <thead>\n",
       "    <tr style=\"text-align: right;\">\n",
       "      <th></th>\n",
       "      <th>id</th>\n",
       "      <th>first</th>\n",
       "      <th>last</th>\n",
       "      <th>birthday</th>\n",
       "      <th>age</th>\n",
       "      <th>religion</th>\n",
       "      <th>num_comms</th>\n",
       "    </tr>\n",
       "  </thead>\n",
       "  <tbody>\n",
       "    <tr>\n",
       "      <th>0</th>\n",
       "      <td>B000944</td>\n",
       "      <td>Sherrod</td>\n",
       "      <td>Brown</td>\n",
       "      <td>1952-11-09</td>\n",
       "      <td>66.936986</td>\n",
       "      <td>None</td>\n",
       "      <td>14</td>\n",
       "    </tr>\n",
       "    <tr>\n",
       "      <th>1</th>\n",
       "      <td>C000127</td>\n",
       "      <td>Maria</td>\n",
       "      <td>Cantwell</td>\n",
       "      <td>1958-10-13</td>\n",
       "      <td>61.008219</td>\n",
       "      <td>None</td>\n",
       "      <td>16</td>\n",
       "    </tr>\n",
       "    <tr>\n",
       "      <th>2</th>\n",
       "      <td>C000141</td>\n",
       "      <td>Benjamin</td>\n",
       "      <td>Cardin</td>\n",
       "      <td>1943-10-05</td>\n",
       "      <td>76.041096</td>\n",
       "      <td>None</td>\n",
       "      <td>14</td>\n",
       "    </tr>\n",
       "    <tr>\n",
       "      <th>3</th>\n",
       "      <td>C000174</td>\n",
       "      <td>Thomas</td>\n",
       "      <td>Carper</td>\n",
       "      <td>1947-01-23</td>\n",
       "      <td>72.736986</td>\n",
       "      <td>None</td>\n",
       "      <td>12</td>\n",
       "    </tr>\n",
       "    <tr>\n",
       "      <th>4</th>\n",
       "      <td>C001070</td>\n",
       "      <td>Robert</td>\n",
       "      <td>Casey</td>\n",
       "      <td>1960-04-13</td>\n",
       "      <td>59.506849</td>\n",
       "      <td>None</td>\n",
       "      <td>12</td>\n",
       "    </tr>\n",
       "  </tbody>\n",
       "</table>\n",
       "</div>"
      ],
      "text/plain": [
       "        id     first      last   birthday        age religion  num_comms\n",
       "0  B000944   Sherrod     Brown 1952-11-09  66.936986     None         14\n",
       "1  C000127     Maria  Cantwell 1958-10-13  61.008219     None         16\n",
       "2  C000141  Benjamin    Cardin 1943-10-05  76.041096     None         14\n",
       "3  C000174    Thomas    Carper 1947-01-23  72.736986     None         12\n",
       "4  C001070    Robert     Casey 1960-04-13  59.506849     None         12"
      ]
     },
     "execution_count": 110,
     "metadata": {},
     "output_type": "execute_result"
    }
   ],
   "source": [
    "df = leg_df.merge(member_count, left_on='id', right_on='id')\n",
    "df.head()"
   ]
  },
  {
   "cell_type": "code",
   "execution_count": 115,
   "metadata": {},
   "outputs": [
    {
     "data": {
      "image/png": "[encoded data removed]",
      "text/plain": [
       "<Figure size 360x360 with 1 Axes>"
      ]
     },
     "metadata": {
      "needs_background": "light"
     },
     "output_type": "display_data"
    }
   ],
   "source": [
    "import seaborn as sns\n",
    "sns.lmplot(x='age', y='num_comms', data=df, fit_reg=True);"
   ]
  }
 ],
 "metadata": {
  "kernelspec": {
   "display_name": "Python 3",
   "language": "python",
   "name": "python3"
  },
  "language_info": {
   "codemirror_mode": {
    "name": "ipython",
    "version": 3
   },
   "file_extension": ".py",
   "mimetype": "text/x-python",
   "name": "python",
   "nbconvert_exporter": "python",
   "pygments_lexer": "ipython3",
   "version": "3.7.3"
  }
 },
 "nbformat": 4,
 "nbformat_minor": 4
}
